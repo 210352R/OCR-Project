{
 "cells": [
  {
   "cell_type": "code",
   "execution_count": 20,
   "metadata": {},
   "outputs": [],
   "source": [
    "import os # To import test image files\n",
    "import cv2 # To work with opencv images\n",
    "from PIL import Image # Image submodule to work with pillow images\n",
    "import pytesseract as pt # pytesseract module"
   ]
  },
  {
   "cell_type": "code",
   "execution_count": 21,
   "metadata": {},
   "outputs": [
    {
     "name": "stdout",
     "output_type": "stream",
     "text": [
      "20378050-7626749-image-a-39_1572449889341.jpg\n",
      "AAA.jpeg\n",
      "bill01.jpg\n",
      "bill02.jpg\n",
      "bill_rotate.jpg\n",
      "image.png\n",
      "receipt.jpg\n"
     ]
    }
   ],
   "source": [
    "test_img_path = \"../test_images/bill\"\n",
    "create_path = lambda f : os.path.join(test_img_path, f)\n",
    "\n",
    "test_image_files = os.listdir(test_img_path)\n",
    "\n",
    "for f in test_image_files:\n",
    "    print(f)"
   ]
  },
  {
   "cell_type": "code",
   "execution_count": 22,
   "metadata": {},
   "outputs": [],
   "source": [
    "def show_image(img_path, size=(800, 800)):\n",
    "    image = cv2.imread(img_path)\n",
    "    image = cv2.resize(image, size)\n",
    "    \n",
    "    cv2.imshow(\"IMAGE\", image)\n",
    "    cv2.waitKey(0)\n",
    "    cv2.destroyAllWindows()"
   ]
  },
  {
   "cell_type": "code",
   "execution_count": 23,
   "metadata": {},
   "outputs": [],
   "source": []
  },
  {
   "cell_type": "markdown",
   "metadata": {},
   "source": [
    "Use Image Preprocessing"
   ]
  },
  {
   "cell_type": "code",
   "execution_count": 24,
   "metadata": {},
   "outputs": [],
   "source": [
    "image_path = test_image_files[1] # 2, 3, 12, 1, 13, 15\n",
    "path = create_path(image_path)"
   ]
  },
  {
   "cell_type": "code",
   "execution_count": 25,
   "metadata": {},
   "outputs": [
    {
     "name": "stdout",
     "output_type": "stream",
     "text": [
      "Image shape:  ../test_images/bill\\AAA.jpeg\n"
     ]
    },
    {
     "name": "stdout",
     "output_type": "stream",
     "text": [
      "%, §\n",
      "ve NA7~UWISG MOTORS\n",
      ": 01/11/2019\n",
      "HONDA CIVIC FK6\n",
      "Remove & Refitting\n",
      "** Rs.13,750\n",
      "Repair\n",
      "** Rs.11,500\n",
      "Painting (Booth Painting)\n",
      "“* Rs.31,000\n",
      "Parts\n",
      "|. Front Buffer Rs.100,000/=\n",
      "2. L/H Front Buffer Retainer Rs.10,000/= |\n",
      ": 3. L/H Head Lamp Rs.115,000/=\n",
      "4. L/H Head Lamp Gloss Strip Rs.18,000/=\n",
      "5. L/H Head Lamp Gloss Strip Mounting Brackets — Rs.15,000/=\n",
      "6. Shell Rs.80,000/=\n",
      "7. Bonnet Rs.105,000/=\n",
      "8. Bonnet Hinges 02 Rs.18,000/=\n",
      "9. L/H Head Lamp Lower Bracket Rs.15,000/=\n",
      "10.Bonnet Beading Rs.12,000/=\n",
      "| 1.R/H Head Lamp Lower Bracket Rs.15,000/=\n",
      "12.Nose Cut Panel (Plastic) Rs.110,000/= |\n",
      "13.Scan & Programming Rs.5,000/=\n",
      "14.A/C Gas Rs.4,500/= |\n",
      "15.Coolant Rs.1,500/=\n",
      "16.Body Sealant Rs.2,500/=\n",
      "17.Double Tape Rs.300/=\n",
      "18. Buffer Clips Rs.700/=\n",
      "|\n",
      "Final Bill Amount Rs.683,750/=\n",
      "Te 777603000 https://www.facebook.com/pages/VTEC-Motors\n",
      "_____eee\n",
      "\n"
     ]
    }
   ],
   "source": [
    "img = cv2.imread(path)\n",
    "\n",
    "print(\"Image shape: \", path)\n",
    "\n",
    "if img is not None:\n",
    "    # Center the image\n",
    "    img = cv2.copyMakeBorder(img, 50, 50, 50, 50, cv2.BORDER_CONSTANT, value=[255])\n",
    "\n",
    "    # Up-sample (optional)\n",
    "    img = cv2.resize(img, (0, 0), fx=2, fy=2)\n",
    "\n",
    "    # Convert to gray-scale\n",
    "    gry = cv2.cvtColor(img, cv2.COLOR_BGR2GRAY)\n",
    "\n",
    "    # Apply thresholding to create a binary image\n",
    "    _, binary_img = cv2.threshold(gry, 0, 255, cv2.THRESH_BINARY_INV + cv2.THRESH_OTSU)\n",
    "\n",
    "    # OCR\n",
    "    txt = pt.image_to_string(gry, config=\"--psm 6\")\n",
    "\n",
    "    print(txt)\n",
    "else:\n",
    "    print(\"Failed to load the image.\")\n",
    "\n",
    "# show_image(path)"
   ]
  },
  {
   "cell_type": "code",
   "execution_count": 26,
   "metadata": {},
   "outputs": [
    {
     "name": "stdout",
     "output_type": "stream",
     "text": [
      "01/11/2019\n"
     ]
    }
   ],
   "source": [
    "#identify the date\n",
    "import re\n",
    "\n",
    "match=re.findall(r'\\d+[/.-]\\d+[/.-]\\d+', txt)\n",
    "\n",
    "st=\" \"\n",
    "st=st.join(match)\n",
    "print(st)"
   ]
  },
  {
   "cell_type": "code",
   "execution_count": 27,
   "metadata": {},
   "outputs": [
    {
     "name": "stdout",
     "output_type": "stream",
     "text": [
      "%, §\n",
      "ve NA7~UWISG MOTORS\n",
      ": \n",
      "HONDA CIVIC FK6\n",
      "Remove & Refitting\n",
      "** Rs.13,750\n",
      "Repair\n",
      "** Rs.11,500\n",
      "Painting (Booth Painting)\n",
      "“* Rs.31,000\n",
      "Parts\n",
      "|. Front Buffer \n",
      "2. L/H Front Buffer Retainer  |\n",
      ": 3. L/H Head Lamp \n",
      "4. L/H Head Lamp Gloss Strip \n",
      "5. L/H Head Lamp Gloss Strip Mounting Brackets — \n",
      "6. Shell \n",
      "7. Bonnet \n",
      "8. Bonnet Hinges 02 \n",
      "9. L/H Head Lamp Lower Bracket \n",
      "10.Bonnet Beading \n",
      "| 1.R/H Head Lamp Lower Bracket \n",
      "12.Nose Cut Panel (Plastic)  |\n",
      "13.Scan & Programming \n",
      "14.A/C Gas  |\n",
      "15.Coolant \n",
      "16.Body Sealant \n",
      "17.Double Tape \n",
      "18. Buffer Clips \n",
      "|\n",
      "Final Bill Amount \n",
      "Te 777603000 \n",
      "_____eee\n"
     ]
    }
   ],
   "source": [
    "import re\n",
    "\n",
    "def clean_text(text):\n",
    "    # Remove links\n",
    "    text = re.sub(r'http\\S+', '', text)\n",
    "    \n",
    "    # Remove email addresses\n",
    "    text = re.sub(r'\\b[A-Za-z0-9._%+-]+@[A-Za-z0-9.-]+\\.[A-Z|a-z]{2,}\\b', '', text)\n",
    "    \n",
    "    # Remove phone numbers\n",
    "    text = re.sub(r'\\b\\d{10}\\b', '', text)\n",
    "    \n",
    "    # Remove dates (assuming in dd/mm/yyyy format)\n",
    "    text = re.sub(r'\\b\\d{1,2}/\\d{1,2}/\\d{4}\\b', '', text)\n",
    "    \n",
    "   # Remove price format like Rs.100,000/=\n",
    "    text = re.sub(r'Rs\\.\\d+(,\\d+)*\\/=', '', text)\n",
    "    \n",
    "    \n",
    "    \n",
    "    return text.strip()\n",
    "\n",
    "\n",
    "ocr_text = txt\n",
    "# Clean the text\n",
    "cleaned_text = clean_text(ocr_text)\n",
    "\n",
    "# Split the cleaned text into sentences and add to a list\n",
    "sentences_list = cleaned_text.split('\\n')\n",
    "\n",
    "# Print the list of sentences\n",
    "print(cleaned_text)\n",
    "\n",
    "\n"
   ]
  },
  {
   "cell_type": "code",
   "execution_count": 28,
   "metadata": {},
   "outputs": [],
   "source": [
    "\n",
    "import string\n",
    "\n",
    "\n",
    "def preprocess_text(text):\n",
    "    # Remove punctuation marks\n",
    "    text = text.translate(str.maketrans('', '', string.punctuation))\n",
    "\n",
    "    # Remove escape characters\n",
    "    text = text.replace('\\n', ' ').replace('\\r', ' ').replace('\\t', ' ')\n",
    "\n",
    "    #remove unnesesarry  spaces \n",
    "    text = re.sub(' +', ' ', text)\n",
    "\n",
    "    # remove numbers\n",
    "    text = re.sub(r'\\d+', '', text)\n",
    "    \n",
    "    # Convert to lowercase\n",
    "    processed_text = text.lower()\n",
    "\n",
    "    return processed_text"
   ]
  },
  {
   "cell_type": "code",
   "execution_count": 29,
   "metadata": {},
   "outputs": [],
   "source": [
    "processed_list = []\n",
    "\n",
    "for item in sentences_list:\n",
    "    processed_item = preprocess_text(item)\n",
    "    processed_list.append(processed_item)\n"
   ]
  },
  {
   "cell_type": "code",
   "execution_count": 30,
   "metadata": {},
   "outputs": [
    {
     "data": {
      "text/plain": [
       "[' §',\n",
       " 've nauwisg motors',\n",
       " 'honda civic fk',\n",
       " 'remove refitting',\n",
       " ' rs',\n",
       " 'repair',\n",
       " ' rs',\n",
       " 'painting booth painting',\n",
       " '“ rs',\n",
       " 'parts',\n",
       " ' front buffer ',\n",
       " ' lh front buffer retainer ',\n",
       " '  lh head lamp ',\n",
       " ' lh head lamp gloss strip ',\n",
       " ' lh head lamp gloss strip mounting brackets — ',\n",
       " ' shell ',\n",
       " ' bonnet ',\n",
       " ' bonnet hinges  ',\n",
       " ' lh head lamp lower bracket ',\n",
       " 'bonnet beading ',\n",
       " ' rh head lamp lower bracket ',\n",
       " 'nose cut panel plastic ',\n",
       " 'scan programming ',\n",
       " 'ac gas ',\n",
       " 'coolant ',\n",
       " 'body sealant ',\n",
       " 'double tape ',\n",
       " ' buffer clips ',\n",
       " 'final bill amount ',\n",
       " 'te  ',\n",
       " 'eee']"
      ]
     },
     "execution_count": 30,
     "metadata": {},
     "output_type": "execute_result"
    }
   ],
   "source": [
    "processed_list = list(filter(None, processed_list))\n",
    "processed_list = [item for item in processed_list if item.strip()]\n",
    "processed_list"
   ]
  },
  {
   "cell_type": "code",
   "execution_count": 31,
   "metadata": {},
   "outputs": [
    {
     "name": "stdout",
     "output_type": "stream",
     "text": [
      "Processed Items:\n",
      " §\n",
      "ve nauwisg motors\n",
      "honda civic fk\n",
      "remove refitting\n",
      " rs\n",
      "repair\n",
      " rs\n",
      "painting booth painting\n",
      "“ rs\n",
      "parts\n",
      " front buffer \n",
      " lh front buffer retainer \n",
      "  lh head lamp \n",
      " lh head lamp gloss strip \n",
      " lh head lamp gloss strip mounting brackets — \n",
      " shell \n",
      " bonnet \n",
      " bonnet hinges  \n",
      " lh head lamp lower bracket \n",
      "bonnet beading \n",
      " rh head lamp lower bracket \n",
      "nose cut panel plastic \n",
      "scan programming \n",
      "ac gas \n",
      "coolant \n",
      "body sealant \n",
      "double tape \n",
      " buffer clips \n",
      "final bill amount \n",
      "te  \n",
      "eee\n"
     ]
    }
   ],
   "source": [
    "print(\"Processed Items:\")\n",
    "for item in processed_list:\n",
    "    print(item)"
   ]
  },
  {
   "cell_type": "code",
   "execution_count": null,
   "metadata": {},
   "outputs": [],
   "source": []
  }
 ],
 "metadata": {
  "kernelspec": {
   "display_name": "Python 3",
   "language": "python",
   "name": "python3"
  },
  "language_info": {
   "codemirror_mode": {
    "name": "ipython",
    "version": 3
   },
   "file_extension": ".py",
   "mimetype": "text/x-python",
   "name": "python",
   "nbconvert_exporter": "python",
   "pygments_lexer": "ipython3",
   "version": "3.12.2"
  }
 },
 "nbformat": 4,
 "nbformat_minor": 2
}
