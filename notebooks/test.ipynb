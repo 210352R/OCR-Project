{
 "cells": [
  {
   "cell_type": "code",
   "execution_count": null,
   "metadata": {},
   "outputs": [],
   "source": [
    "import os # To import test image files\n",
    "import cv2 # To work with opencv images\n",
    "from PIL import Image # Image submodule to work with pillow images\n",
    "import pytesseract as pt # pytesseract module"
   ]
  },
  {
   "cell_type": "code",
   "execution_count": null,
   "metadata": {},
   "outputs": [],
   "source": [
    "test_img_path = \"../test_images/bill\"\n",
    "create_path = lambda f : os.path.join(test_img_path, f)\n",
    "\n",
    "test_image_files = os.listdir(test_img_path)\n",
    "\n",
    "for f in test_image_files:\n",
    "    print(f)"
   ]
  },
  {
   "cell_type": "code",
   "execution_count": null,
   "metadata": {},
   "outputs": [],
   "source": [
    "def show_image(img_path, size=(800, 800)):\n",
    "    image = cv2.imread(img_path)\n",
    "    image = cv2.resize(image, size)\n",
    "    \n",
    "    cv2.imshow(\"IMAGE\", image)\n",
    "    cv2.waitKey(0)\n",
    "    cv2.destroyAllWindows()"
   ]
  },
  {
   "cell_type": "code",
   "execution_count": 4,
   "metadata": {},
   "outputs": [],
   "source": [
    "image_path = test_image_files[1] # 2, 3, 12, 1, 13, 15\n",
    "path = create_path(image_path)\n",
    "\n",
    "image = Image.open(path)\n",
    "text = pt.image_to_string(image,config=\"--oem 3 --psm 6\")\n",
    "\n",
    "print(text)\n",
    "show_image(path)"
   ]
  },
  {
   "cell_type": "markdown",
   "metadata": {},
   "source": [
    "Use Image Preprocessing"
   ]
  },
  {
   "cell_type": "code",
   "execution_count": null,
   "metadata": {},
   "outputs": [],
   "source": [
    "img = cv2.imread(path)\n",
    "\n",
    "print(\"Image shape: \", path)\n",
    "\n",
    "if img is not None:\n",
    "    # Center the image\n",
    "    img = cv2.copyMakeBorder(img, 50, 50, 50, 50, cv2.BORDER_CONSTANT, value=[255])\n",
    "\n",
    "    # Up-sample (optional)\n",
    "    img = cv2.resize(img, (0, 0), fx=2, fy=2)\n",
    "\n",
    "    # Convert to gray-scale\n",
    "    gry = cv2.cvtColor(img, cv2.COLOR_BGR2GRAY)\n",
    "\n",
    "    # Apply thresholding to create a binary image\n",
    "    _, binary_img = cv2.threshold(gry, 0, 255, cv2.THRESH_BINARY_INV + cv2.THRESH_OTSU)\n",
    "\n",
    "    # OCR\n",
    "    txt = pt.image_to_string(gry, config=\"--psm 6\")\n",
    "\n",
    "    print(txt)\n",
    "else:\n",
    "    print(\"Failed to load the image.\")\n",
    "\n",
    "show_image(path)"
   ]
  },
  {
   "cell_type": "code",
   "execution_count": null,
   "metadata": {},
   "outputs": [],
   "source": [
    "#identify the date\n",
    "import re\n",
    "\n",
    "match=re.findall(r'\\d+[/.-]\\d+[/.-]\\d+', text)\n",
    "\n",
    "st=\" \"\n",
    "st=st.join(match)\n",
    "print(st)"
   ]
  },
  {
   "cell_type": "code",
   "execution_count": null,
   "metadata": {},
   "outputs": [],
   "source": [
    "import re\n",
    "\n",
    "\n",
    "# Define regex pattern to match item lines\n",
    "item_pattern = r'(.*?) [\\d.]+'\n",
    "\n",
    "# Extract items using regex\n",
    "items = re.findall(item_pattern, text)\n",
    "\n",
    "# Print the extracted items\n",
    "print(\"Extracted Items:\")\n",
    "for item in items:\n",
    "    print(item)\n",
    "\n"
   ]
  },
  {
   "cell_type": "code",
   "execution_count": null,
   "metadata": {},
   "outputs": [],
   "source": []
  },
  {
   "cell_type": "markdown",
   "metadata": {},
   "source": [
    "With Thrusholdings "
   ]
  },
  {
   "cell_type": "code",
   "execution_count": null,
   "metadata": {},
   "outputs": [],
   "source": []
  },
  {
   "cell_type": "code",
   "execution_count": null,
   "metadata": {},
   "outputs": [],
   "source": [
    "img = cv2.imread(path)\n",
    "\n",
    "print(\"Image shape: \", path)\n",
    "\n",
    "if img is not None:\n",
    "    # Center the image\n",
    "    img = cv2.copyMakeBorder(img, 50, 50, 50, 50, cv2.BORDER_CONSTANT, value=[255])\n",
    "\n",
    "    # Up-sample (optional)\n",
    "    img = cv2.resize(img, (0, 0), fx=2, fy=2)\n",
    "\n",
    "    # Convert to gray-scale\n",
    "    gry = cv2.cvtColor(img, cv2.COLOR_BGR2GRAY)\n",
    "\n",
    "    # Apply thresholding to create a binary image\n",
    "    _, binary_img = cv2.threshold(gry, 0, 255, cv2.THRESH_BINARY_INV + cv2.THRESH_OTSU)\n",
    "\n",
    "    \n",
    "\n",
    "    # OCR\n",
    "    txt = pt.image_to_string(binary_img, config=\"--psm 6\")\n",
    "\n",
    "    print(txt)\n",
    "else:\n",
    "    print(\"Failed to load the image.\")\n",
    "\n",
    "show_image(path)"
   ]
  },
  {
   "cell_type": "markdown",
   "metadata": {},
   "source": [
    " Thinning and Skeletonization\n"
   ]
  },
  {
   "cell_type": "code",
   "execution_count": null,
   "metadata": {},
   "outputs": [],
   "source": [
    "import numpy as np\n",
    "\n",
    "img = cv2.imread(path)\n",
    "\n",
    "print(\"Image shape: \", path)\n",
    "\n",
    "if img is not None:\n",
    "    # Center the image\n",
    "    img = cv2.copyMakeBorder(img, 50, 50, 50, 50, cv2.BORDER_CONSTANT, value=[255])\n",
    "\n",
    "    # Up-sample (optional)\n",
    "    img = cv2.resize(img, (0, 0), fx=2, fy=2)\n",
    "\n",
    "    # Convert to gray-scale\n",
    "    gry = cv2.cvtColor(img, cv2.COLOR_BGR2GRAY)\n",
    "\n",
    "    # Apply thresholding to create a binary image\n",
    "    _, binary_img = cv2.threshold(gry, 0, 255, cv2.THRESH_BINARY_INV + cv2.THRESH_OTSU)\n",
    "\n",
    "    kernel = np.ones((5,5),np.uint8)\n",
    "    erosion = cv2.erode(img, kernel, iterations = 1)\n",
    "\n",
    "    # OCR\n",
    "    txt = pt.image_to_string(erosion, config=\"--oem 3 --psm 6\")\n",
    "\n",
    "    print(txt)\n",
    "else:\n",
    "    print(\"Failed to load the image.\")\n",
    "\n",
    "show_image(path)"
   ]
  },
  {
   "cell_type": "code",
   "execution_count": null,
   "metadata": {},
   "outputs": [],
   "source": [
    "import sys\n",
    "import numpy as np\n",
    "from cv2 import *\n",
    "import time\n",
    "import os\n",
    "import threading\n",
    "import pytesseract\n",
    "import imutils"
   ]
  },
  {
   "cell_type": "code",
   "execution_count": null,
   "metadata": {},
   "outputs": [],
   "source": [
    "def get_string(img_path):\n",
    "    # Read image using opencv\n",
    "    img = cv2.imread(img_path)\n",
    "   # Extract the file name without the file extension\n",
    "    file_name = os.path.basename(img_path).split('.')[0]\n",
    "    file_name = file_name.split()[0]\n",
    "    # Create a directory for outputs\n",
    "    output_path = os.path.join('output_path', \"ocr\")\n",
    "    if not os.path.exists(output_path):\n",
    "        os.makedirs(output_path)\n",
    "    # Rescale the image, if needed.\n",
    "    img = cv2.resize(img, None, fx=1.5, fy=1.5, interpolation=cv2.INTER_CUBIC)\n",
    "    # Converting to gray scale\n",
    "    img = cv2.cvtColor(img, cv2.COLOR_BGR2GRAY)\n",
    "    #Removing Shadows\n",
    "    rgb_planes = cv2.split(img)\n",
    "    result_planes = []\n",
    "    result_norm_planes = []\n",
    "    for plane in rgb_planes:\n",
    "        dilated_img = cv2.dilate(plane, np.ones((7,7), np.uint8))\n",
    "        bg_img = cv2.medianBlur(dilated_img, 21)\n",
    "        diff_img = 255 - cv2.absdiff(plane, bg_img)\n",
    "        result_planes.append(diff_img)\n",
    "    img = cv2.merge(result_planes)\n",
    "    \n",
    "    #Apply dilation and erosion to remove some noise\n",
    "    kernel = np.ones((1, 1), np.uint8)\n",
    "    img = cv2.dilate(img, kernel, iterations=1)#increases the white region in the image \n",
    "    img = cv2.erode(img, kernel, iterations=1) #erodes away the boundaries of foreground object\n",
    "    \n",
    "    #Apply blur to smooth out the edges\n",
    "    #img = cv2.GaussianBlur(img, (5, 5), 0)\n",
    "    \n",
    "    # Apply threshold to get image with only b&w (binarization)\n",
    "    img = cv2.threshold(img, 0, 255, cv2.THRESH_BINARY + cv2.THRESH_OTSU)[1]\n",
    "    \n",
    "    #Save the filtered image in the output directory\n",
    "    save_path = os.path.join(output_path, file_name + \"_filter_\" + str('as') + \".png\")\n",
    "    cv2.imwrite(save_path, img)\n",
    "    # Recognize text with tesseract for python\n",
    "    result = pytesseract.image_to_string(img, lang=\"eng\")\n",
    "    return result"
   ]
  },
  {
   "cell_type": "code",
   "execution_count": null,
   "metadata": {},
   "outputs": [],
   "source": [
    "s = get_string(path)\n",
    "t = s.split(sep='\\n')\n",
    "for s in t:\n",
    "    print(s)"
   ]
  },
  {
   "cell_type": "code",
   "execution_count": null,
   "metadata": {},
   "outputs": [],
   "source": [
    "# Check Image Quality \n",
    "import cv2\n",
    "\n",
    "def check_image_quality(image_path):\n",
    "    # Load the image\n",
    "    img = cv2.imread(image_path)\n",
    "\n",
    "    # Check resolution\n",
    "    height, width = img.shape[:2]\n",
    "    #print height, width\n",
    "    print(\"Image resolution: {} x {}\".format(height, width))\n",
    "\n",
    "    min_resolution = (700, 700)  # Set a minimum resolution threshold\n",
    "    if height < min_resolution[0] or width < min_resolution[1]:\n",
    "        print(\"Image resolution is too low for OCR\")\n",
    "\n",
    "\n",
    "# Example usage\n",
    "print(path)\n",
    "check_image_quality(path)\n"
   ]
  },
  {
   "cell_type": "code",
   "execution_count": null,
   "metadata": {},
   "outputs": [],
   "source": []
  }
 ],
 "metadata": {
  "kernelspec": {
   "display_name": "Python 3",
   "language": "python",
   "name": "python3"
  },
  "language_info": {
   "codemirror_mode": {
    "name": "ipython",
    "version": 3
   },
   "file_extension": ".py",
   "mimetype": "text/x-python",
   "name": "python",
   "nbconvert_exporter": "python",
   "pygments_lexer": "ipython3",
   "version": "3.12.2"
  }
 },
 "nbformat": 4,
 "nbformat_minor": 2
}
