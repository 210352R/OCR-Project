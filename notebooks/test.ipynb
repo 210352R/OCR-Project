{
 "cells": [
  {
   "cell_type": "code",
   "execution_count": 1,
   "metadata": {},
   "outputs": [],
   "source": [
    "import os # To import test image files\n",
    "import cv2 # To work with opencv images\n",
    "from PIL import Image # Image submodule to work with pillow images\n",
    "import pytesseract as pt # pytesseract module"
   ]
  },
  {
   "cell_type": "code",
   "execution_count": 2,
   "metadata": {},
   "outputs": [
    {
     "name": "stdout",
     "output_type": "stream",
     "text": [
      "image01.jpg\n",
      "image02.jpg\n",
      "image03.jpg\n"
     ]
    }
   ],
   "source": [
    "test_img_path = \"../test_images/\"\n",
    "create_path = lambda f : os.path.join(test_img_path, f)\n",
    "\n",
    "test_image_files = os.listdir(test_img_path)\n",
    "\n",
    "for f in test_image_files:\n",
    "    print(f)"
   ]
  },
  {
   "cell_type": "code",
   "execution_count": 3,
   "metadata": {},
   "outputs": [],
   "source": [
    "def show_image(img_path, size=(1000, 1000)):\n",
    "    image = cv2.imread(img_path)\n",
    "    image = cv2.resize(image, size)\n",
    "    \n",
    "    cv2.imshow(\"IMAGE\", image)\n",
    "    cv2.waitKey(0)\n",
    "    cv2.destroyAllWindows()"
   ]
  },
  {
   "cell_type": "code",
   "execution_count": 13,
   "metadata": {},
   "outputs": [
    {
     "name": "stdout",
     "output_type": "stream",
     "text": [
      "Lorem ipsum dolor sit amet,\n",
      "consectetuer adipiscing elit,\n",
      "Tel: 003 5676 78 88\n",
      "KXKKEKKEKKERKKEKR KEE KERR KERR EEE\n",
      "DATE: 26 /09 2018 20:56\n",
      "KRKEKEKEEKEKEEEEEREEREREKEEREER EER\n",
      "Lorem ipsum 17.67\n",
      "dolor sit amet 08.00\n",
      "consectetuer 02.23\n",
      "adipiscing 07.46\n",
      "elit 12.90\n",
      "sed 15.32\n",
      "Total: 63.58\n",
      "eee\n",
      "aT Pe\n",
      "designed by ® freepik\n",
      "\n"
     ]
    }
   ],
   "source": [
    "image_path = test_image_files[1] # 2, 3, 12, 1, 13, 15\n",
    "path = create_path(image_path)\n",
    "\n",
    "image = Image.open(path)\n",
    "text = pt.image_to_string(image,config=\"--oem 3 --psm 6\")\n",
    "\n",
    "print(text)\n",
    "show_image(path)"
   ]
  },
  {
   "cell_type": "markdown",
   "metadata": {},
   "source": [
    "Use Image Preprocessing"
   ]
  },
  {
   "cell_type": "code",
   "execution_count": 6,
   "metadata": {},
   "outputs": [
    {
     "name": "stdout",
     "output_type": "stream",
     "text": [
      "Image shape:  ../test_images/image01.jpg\n",
      "RECEIPT OF SALE\n",
      "SHOP’S NAME\n",
      "11/12/2020 11:13:06 AM\n",
      "QTY ITEM AMT\n",
      "1 Lorem ipsum eB.\n",
      "2 Dolor sit amet 4.1\n",
      "1 Concteteur 5.3\n",
      "1 Adipiscing elit 4.2\n",
      "2 Sed diam 6.7\n",
      "1 Nonummy nibh 1.5\n",
      "2 Euismod 4.2\n",
      "1 Laoreet dolore 3.8\n",
      "Total x ap\n",
      "Cash 40.0\n",
      "Change 7.9\n",
      "THANK YOU!\n",
      "\n"
     ]
    }
   ],
   "source": [
    "img = cv2.imread(path)\n",
    "\n",
    "print(\"Image shape: \", path)\n",
    "\n",
    "if img is not None:\n",
    "    # Center the image\n",
    "    img = cv2.copyMakeBorder(img, 50, 50, 50, 50, cv2.BORDER_CONSTANT, value=[255])\n",
    "\n",
    "    # Up-sample (optional)\n",
    "    img = cv2.resize(img, (0, 0), fx=2, fy=2)\n",
    "\n",
    "    # Convert to gray-scale\n",
    "    gry = cv2.cvtColor(img, cv2.COLOR_BGR2GRAY)\n",
    "\n",
    "    # Apply thresholding to create a binary image\n",
    "    _, binary_img = cv2.threshold(gry, 0, 255, cv2.THRESH_BINARY_INV + cv2.THRESH_OTSU)\n",
    "\n",
    "    # OCR\n",
    "    txt = pt.image_to_string(gry, config=\"--psm 6\")\n",
    "\n",
    "    print(txt)\n",
    "else:\n",
    "    print(\"Failed to load the image.\")\n",
    "\n",
    "show_image(path)"
   ]
  },
  {
   "cell_type": "markdown",
   "metadata": {},
   "source": [
    "With Thrusholdings "
   ]
  },
  {
   "cell_type": "code",
   "execution_count": 7,
   "metadata": {},
   "outputs": [
    {
     "name": "stdout",
     "output_type": "stream",
     "text": [
      "Image shape:  ../test_images/image01.jpg\n",
      "RECEIPT OF SALE\n",
      "SHOP’S NAME\n",
      "11/12/2020 12:13:06 AM\n",
      "QTY ITEM AMT\n",
      "1 Lorem ipaum 2.3\n",
      "2 Dolor sit amet 4a.\n",
      "1 Concteteur 5.3\n",
      "1 Adipiscing elit 4.2\n",
      "2 Sed diam 6.7\n",
      "1 Nonummny nibh 1.5\n",
      "2 Euismod a2\n",
      "1 Laoreet dolore 3.8\n",
      "Total 32.1\n",
      "Cash 40.0\n",
      "Change 1.9\n",
      "THANK YOU!\n",
      "\n"
     ]
    }
   ],
   "source": [
    "img = cv2.imread(path)\n",
    "\n",
    "print(\"Image shape: \", path)\n",
    "\n",
    "if img is not None:\n",
    "    # Center the image\n",
    "    img = cv2.copyMakeBorder(img, 50, 50, 50, 50, cv2.BORDER_CONSTANT, value=[255])\n",
    "\n",
    "    # Up-sample (optional)\n",
    "    img = cv2.resize(img, (0, 0), fx=2, fy=2)\n",
    "\n",
    "    # Convert to gray-scale\n",
    "    gry = cv2.cvtColor(img, cv2.COLOR_BGR2GRAY)\n",
    "\n",
    "    # Apply thresholding to create a binary image\n",
    "    _, binary_img = cv2.threshold(gry, 0, 255, cv2.THRESH_BINARY_INV + cv2.THRESH_OTSU)\n",
    "\n",
    "    \n",
    "\n",
    "    # OCR\n",
    "    txt = pt.image_to_string(binary_img, config=\"--psm 6\")\n",
    "\n",
    "    print(txt)\n",
    "else:\n",
    "    print(\"Failed to load the image.\")\n",
    "\n",
    "show_image(path)"
   ]
  },
  {
   "cell_type": "markdown",
   "metadata": {},
   "source": [
    " Thinning and Skeletonization\n"
   ]
  },
  {
   "cell_type": "code",
   "execution_count": 9,
   "metadata": {},
   "outputs": [
    {
     "name": "stdout",
     "output_type": "stream",
     "text": [
      "Image shape:  ../test_images/image01.jpg\n",
      "RECEIPT OF SALE\n",
      "SHOP’S NAME\n",
      "Adinesse Lorem ipmut, == 24-5\n",
      "Tele #3 a2 245 67 68\n",
      "11/12/2020 11:13:06 AM\n",
      "2 Lorem spsum 2.3\n",
      "2 Belor sit anat 4.2\n",
      "i 0s Cencteteur 5.3\n",
      "3 «© Adipiscing elat 4.2\n",
      "2 Sed dian 6.7\n",
      "i Nonummy Gaba 1.5\n",
      "2 Eussmod 4.2\n",
      "a Tangeet dolore 3.6\n",
      "Total 32.1\n",
      "Cask 40.9\n",
      "Seine 7.8\n",
      "THANK YOU!\n",
      "\n"
     ]
    }
   ],
   "source": [
    "import numpy as np\n",
    "\n",
    "img = cv2.imread(path)\n",
    "\n",
    "print(\"Image shape: \", path)\n",
    "\n",
    "if img is not None:\n",
    "    # Center the image\n",
    "    img = cv2.copyMakeBorder(img, 50, 50, 50, 50, cv2.BORDER_CONSTANT, value=[255])\n",
    "\n",
    "    # Up-sample (optional)\n",
    "    img = cv2.resize(img, (0, 0), fx=2, fy=2)\n",
    "\n",
    "    # Convert to gray-scale\n",
    "    gry = cv2.cvtColor(img, cv2.COLOR_BGR2GRAY)\n",
    "\n",
    "    # Apply thresholding to create a binary image\n",
    "    _, binary_img = cv2.threshold(gry, 0, 255, cv2.THRESH_BINARY_INV + cv2.THRESH_OTSU)\n",
    "\n",
    "    kernel = np.ones((5,5),np.uint8)\n",
    "    erosion = cv2.erode(img, kernel, iterations = 1)\n",
    "\n",
    "    # OCR\n",
    "    txt = pt.image_to_string(erosion, config=\"--oem 3 --psm 6\")\n",
    "\n",
    "    print(txt)\n",
    "else:\n",
    "    print(\"Failed to load the image.\")\n",
    "\n",
    "show_image(path)"
   ]
  },
  {
   "cell_type": "code",
   "execution_count": 11,
   "metadata": {},
   "outputs": [],
   "source": [
    "import sys\n",
    "import numpy as np\n",
    "from cv2 import *\n",
    "import time\n",
    "import os\n",
    "import threading\n",
    "import pytesseract\n",
    "import imutils"
   ]
  },
  {
   "cell_type": "code",
   "execution_count": 9,
   "metadata": {},
   "outputs": [],
   "source": [
    "def get_string(img_path):\n",
    "    # Read image using opencv\n",
    "    img = cv2.imread(img_path)\n",
    "   # Extract the file name without the file extension\n",
    "    file_name = os.path.basename(img_path).split('.')[0]\n",
    "    file_name = file_name.split()[0]\n",
    "    # Create a directory for outputs\n",
    "    output_path = os.path.join('output_path', \"ocr\")\n",
    "    if not os.path.exists(output_path):\n",
    "        os.makedirs(output_path)\n",
    "    # Rescale the image, if needed.\n",
    "    img = cv2.resize(img, None, fx=1.5, fy=1.5, interpolation=cv2.INTER_CUBIC)\n",
    "    # Converting to gray scale\n",
    "    img = cv2.cvtColor(img, cv2.COLOR_BGR2GRAY)\n",
    "    #Removing Shadows\n",
    "    rgb_planes = cv2.split(img)\n",
    "    result_planes = []\n",
    "    result_norm_planes = []\n",
    "    for plane in rgb_planes:\n",
    "        dilated_img = cv2.dilate(plane, np.ones((7,7), np.uint8))\n",
    "        bg_img = cv2.medianBlur(dilated_img, 21)\n",
    "        diff_img = 255 - cv2.absdiff(plane, bg_img)\n",
    "        result_planes.append(diff_img)\n",
    "    img = cv2.merge(result_planes)\n",
    "    \n",
    "    #Apply dilation and erosion to remove some noise\n",
    "    kernel = np.ones((1, 1), np.uint8)\n",
    "    img = cv2.dilate(img, kernel, iterations=1)#increases the white region in the image \n",
    "    img = cv2.erode(img, kernel, iterations=1) #erodes away the boundaries of foreground object\n",
    "    \n",
    "    #Apply blur to smooth out the edges\n",
    "    #img = cv2.GaussianBlur(img, (5, 5), 0)\n",
    "    \n",
    "    # Apply threshold to get image with only b&w (binarization)\n",
    "    img = cv2.threshold(img, 0, 255, cv2.THRESH_BINARY + cv2.THRESH_OTSU)[1]\n",
    "    \n",
    "    #Save the filtered image in the output directory\n",
    "    save_path = os.path.join(output_path, file_name + \"_filter_\" + str('as') + \".png\")\n",
    "    cv2.imwrite(save_path, img)\n",
    "    # Recognize text with tesseract for python\n",
    "    result = pytesseract.image_to_string(img, lang=\"eng\")\n",
    "    return result"
   ]
  },
  {
   "cell_type": "code",
   "execution_count": 13,
   "metadata": {},
   "outputs": [
    {
     "name": "stdout",
     "output_type": "stream",
     "text": [
      "RECEIPT OF SALE\n",
      "SHOP’ S NAME\n",
      "\n",
      "1 Lorem ipsut\n",
      "\n",
      "2 Dolor sit amet\n",
      "1 Concteteur\n",
      "\n",
      "1 Adipiscing elit\n",
      "2 Sed diem\n",
      "\n",
      "1 Nonummy nibh\n",
      "\n",
      "2 ‘Seismod\n",
      "\n",
      "1 Laorest dolore\n",
      "\n",
      "wan neuanr\n",
      "pNarvur\n",
      "\n",
      "THANK YOU!\n",
      "\n"
     ]
    }
   ],
   "source": [
    "s = get_string(path)\n",
    "t = s.split(sep='\\n')\n",
    "for s in t:\n",
    "    print(s)"
   ]
  },
  {
   "cell_type": "code",
   "execution_count": 14,
   "metadata": {},
   "outputs": [
    {
     "name": "stdout",
     "output_type": "stream",
     "text": [
      "../test_images/image02.jpg\n",
      "Image resolution: 2000 x 2000\n"
     ]
    }
   ],
   "source": [
    "# Check Image Quality \n",
    "import cv2\n",
    "\n",
    "def check_image_quality(image_path):\n",
    "    # Load the image\n",
    "    img = cv2.imread(image_path)\n",
    "\n",
    "    # Check resolution\n",
    "    height, width = img.shape[:2]\n",
    "    #print height, width\n",
    "    print(\"Image resolution: {} x {}\".format(height, width))\n",
    "\n",
    "    min_resolution = (700, 700)  # Set a minimum resolution threshold\n",
    "    if height < min_resolution[0] or width < min_resolution[1]:\n",
    "        print(\"Image resolution is too low for OCR\")\n",
    "\n",
    "\n",
    "# Example usage\n",
    "print(path)\n",
    "check_image_quality(path)\n"
   ]
  },
  {
   "cell_type": "code",
   "execution_count": null,
   "metadata": {},
   "outputs": [],
   "source": []
  }
 ],
 "metadata": {
  "kernelspec": {
   "display_name": "Python 3",
   "language": "python",
   "name": "python3"
  },
  "language_info": {
   "codemirror_mode": {
    "name": "ipython",
    "version": 3
   },
   "file_extension": ".py",
   "mimetype": "text/x-python",
   "name": "python",
   "nbconvert_exporter": "python",
   "pygments_lexer": "ipython3",
   "version": "3.12.2"
  }
 },
 "nbformat": 4,
 "nbformat_minor": 2
}
