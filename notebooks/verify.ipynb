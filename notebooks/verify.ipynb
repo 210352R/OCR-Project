{
 "cells": [
  {
   "cell_type": "code",
   "execution_count": 1,
   "metadata": {},
   "outputs": [
    {
     "name": "stdout",
     "output_type": "stream",
     "text": [
      "Collecting veryfi\n",
      "  Downloading veryfi-3.4.1-py3-none-any.whl.metadata (5.8 kB)\n",
      "Requirement already satisfied: requests>=2.22.0 in c:\\users\\administrator\\appdata\\local\\programs\\python\\python312\\lib\\site-packages (from veryfi) (2.29.0)\n",
      "Collecting pydantic==1.* (from veryfi)\n",
      "  Downloading pydantic-1.10.15-py3-none-any.whl.metadata (150 kB)\n",
      "     ---------------------------------------- 0.0/150.6 kB ? eta -:--:--\n",
      "     ---------------------------------------- 0.0/150.6 kB ? eta -:--:--\n",
      "     ---------------------------------------- 0.0/150.6 kB ? eta -:--:--\n",
      "     ---------------------------------------- 0.0/150.6 kB ? eta -:--:--\n",
      "     -- ------------------------------------- 10.2/150.6 kB ? eta -:--:--\n",
      "     -- ------------------------------------- 10.2/150.6 kB ? eta -:--:--\n",
      "     ----- -------------------------------- 20.5/150.6 kB 93.9 kB/s eta 0:00:02\n",
      "     ----- -------------------------------- 20.5/150.6 kB 93.9 kB/s eta 0:00:02\n",
      "     ---------- -------------------------- 41.0/150.6 kB 178.6 kB/s eta 0:00:01\n",
      "     ---------- -------------------------- 41.0/150.6 kB 178.6 kB/s eta 0:00:01\n",
      "     ---------- -------------------------- 41.0/150.6 kB 178.6 kB/s eta 0:00:01\n",
      "     ---------- -------------------------- 41.0/150.6 kB 178.6 kB/s eta 0:00:01\n",
      "     ---------- -------------------------- 41.0/150.6 kB 178.6 kB/s eta 0:00:01\n",
      "     ---------- -------------------------- 41.0/150.6 kB 178.6 kB/s eta 0:00:01\n",
      "     ---------- -------------------------- 41.0/150.6 kB 178.6 kB/s eta 0:00:01\n",
      "     ---------- -------------------------- 41.0/150.6 kB 178.6 kB/s eta 0:00:01\n",
      "     ---------- -------------------------- 41.0/150.6 kB 178.6 kB/s eta 0:00:01\n",
      "     ---------- -------------------------- 41.0/150.6 kB 178.6 kB/s eta 0:00:01\n",
      "     ---------- -------------------------- 41.0/150.6 kB 178.6 kB/s eta 0:00:01\n",
      "     ---------- -------------------------- 41.0/150.6 kB 178.6 kB/s eta 0:00:01\n",
      "     ---------- -------------------------- 41.0/150.6 kB 178.6 kB/s eta 0:00:01\n",
      "     ---------- -------------------------- 41.0/150.6 kB 178.6 kB/s eta 0:00:01\n",
      "     ---------- -------------------------- 41.0/150.6 kB 178.6 kB/s eta 0:00:01\n",
      "     ---------- -------------------------- 41.0/150.6 kB 178.6 kB/s eta 0:00:01\n",
      "     ---------- -------------------------- 41.0/150.6 kB 178.6 kB/s eta 0:00:01\n",
      "     --------------- ---------------------- 61.4/150.6 kB 55.5 kB/s eta 0:00:02\n",
      "     --------------- ---------------------- 61.4/150.6 kB 55.5 kB/s eta 0:00:02\n",
      "     --------------- ---------------------- 61.4/150.6 kB 55.5 kB/s eta 0:00:02\n",
      "     --------------- ---------------------- 61.4/150.6 kB 55.5 kB/s eta 0:00:02\n",
      "     --------------- ---------------------- 61.4/150.6 kB 55.5 kB/s eta 0:00:02\n",
      "     --------------- ---------------------- 61.4/150.6 kB 55.5 kB/s eta 0:00:02\n",
      "     -------------------- ----------------- 81.9/150.6 kB 61.2 kB/s eta 0:00:02\n",
      "     -------------------- ----------------- 81.9/150.6 kB 61.2 kB/s eta 0:00:02\n",
      "     -------------------- ----------------- 81.9/150.6 kB 61.2 kB/s eta 0:00:02\n",
      "     --------------------------- --------- 112.6/150.6 kB 79.0 kB/s eta 0:00:01\n",
      "     --------------------------- --------- 112.6/150.6 kB 79.0 kB/s eta 0:00:01\n",
      "     --------------------------- --------- 112.6/150.6 kB 79.0 kB/s eta 0:00:01\n",
      "     --------------------------- --------- 112.6/150.6 kB 79.0 kB/s eta 0:00:01\n",
      "     ------------------------------ ------ 122.9/150.6 kB 76.7 kB/s eta 0:00:01\n",
      "     ----------------------------------- - 143.4/150.6 kB 88.7 kB/s eta 0:00:01\n",
      "     ----------------------------------- - 143.4/150.6 kB 88.7 kB/s eta 0:00:01\n",
      "     ----------------------------------- - 143.4/150.6 kB 88.7 kB/s eta 0:00:01\n",
      "     ------------------------------------- 150.6/150.6 kB 85.6 kB/s eta 0:00:00\n",
      "Requirement already satisfied: typing-extensions>=4.2.0 in c:\\users\\administrator\\appdata\\local\\programs\\python\\python312\\lib\\site-packages (from pydantic==1.*->veryfi) (4.10.0)\n",
      "Requirement already satisfied: charset-normalizer<4,>=2 in c:\\users\\administrator\\appdata\\local\\programs\\python\\python312\\lib\\site-packages (from requests>=2.22.0->veryfi) (3.3.2)\n",
      "Requirement already satisfied: idna<4,>=2.5 in c:\\users\\administrator\\appdata\\local\\programs\\python\\python312\\lib\\site-packages (from requests>=2.22.0->veryfi) (3.6)\n",
      "Requirement already satisfied: urllib3<1.27,>=1.21.1 in c:\\users\\administrator\\appdata\\local\\programs\\python\\python312\\lib\\site-packages (from requests>=2.22.0->veryfi) (1.26.18)\n",
      "Requirement already satisfied: certifi>=2017.4.17 in c:\\users\\administrator\\appdata\\local\\programs\\python\\python312\\lib\\site-packages (from requests>=2.22.0->veryfi) (2024.2.2)\n",
      "Downloading veryfi-3.4.1-py3-none-any.whl (9.7 kB)\n",
      "Downloading pydantic-1.10.15-py3-none-any.whl (159 kB)\n",
      "   ---------------------------------------- 0.0/159.9 kB ? eta -:--:--\n",
      "   ---------------------------------------- 0.0/159.9 kB ? eta -:--:--\n",
      "   -- ------------------------------------- 10.2/159.9 kB ? eta -:--:--\n",
      "   ------- ------------------------------- 30.7/159.9 kB 435.7 kB/s eta 0:00:01\n",
      "   --------- ----------------------------- 41.0/159.9 kB 393.8 kB/s eta 0:00:01\n",
      "   -------------- ------------------------ 61.4/159.9 kB 363.1 kB/s eta 0:00:01\n",
      "   -------------------------- ----------- 112.6/159.9 kB 504.4 kB/s eta 0:00:01\n",
      "   ----------------------------- -------- 122.9/159.9 kB 514.3 kB/s eta 0:00:01\n",
      "   ------------------------------------ - 153.6/159.9 kB 508.4 kB/s eta 0:00:01\n",
      "   -------------------------------------- 159.9/159.9 kB 478.2 kB/s eta 0:00:00\n",
      "Installing collected packages: pydantic, veryfi\n",
      "  Attempting uninstall: pydantic\n",
      "    Found existing installation: pydantic 2.6.3\n",
      "    Uninstalling pydantic-2.6.3:\n",
      "      Successfully uninstalled pydantic-2.6.3\n",
      "Successfully installed pydantic-1.10.15 veryfi-3.4.1\n"
     ]
    }
   ],
   "source": [
    "# ! pip install veryfi"
   ]
  },
  {
   "cell_type": "code",
   "execution_count": 1,
   "metadata": {},
   "outputs": [],
   "source": [
    "# remove limiting max columns and rows\n",
    "import os # To import test image files\n",
    "import cv2 # To work with opencv images\n",
    "from PIL import Image # Image submodule to work with pillow images"
   ]
  },
  {
   "cell_type": "code",
   "execution_count": 2,
   "metadata": {},
   "outputs": [],
   "source": [
    "from veryfi import Client\n",
    "\t\n",
    "\n",
    "# get your keys here: https://hub.veryfi.com/api/\n",
    "client_id = 'vrfudW65UwDLHIbBW7lTkmGwmzccvdTEVAv2PsE'\n",
    "client_secret = 'RUMtwhtu9sGsrTdh2R16oUEsIt66Af40buv5AZ49tnLWUu1fTHWgYjwkNPFi4lhGrBljbZK5vcheBVjrsXJG3sh0hNB5hY0lgmckvKlk5UdH9sKyWBhjE9Tf4YibKDaU'\n",
    "username = 'eshanmaduranga0329'\n",
    "api_key = 'edd21201d02d5e44a7de71315fd1a01b'\n",
    "\n",
    "veryfi_client = Client(client_id, client_secret, username, api_key)"
   ]
  },
  {
   "cell_type": "code",
   "execution_count": 3,
   "metadata": {},
   "outputs": [],
   "source": [
    "def show_image(img_path, size=(800, 800)):\n",
    "    image = cv2.imread(img_path)\n",
    "    image = cv2.resize(image, size)\n",
    "    \n",
    "    cv2.imshow(\"IMAGE\", image)\n",
    "    cv2.waitKey(0)\n",
    "    cv2.destroyAllWindows()"
   ]
  },
  {
   "cell_type": "code",
   "execution_count": 15,
   "metadata": {},
   "outputs": [
    {
     "name": "stdout",
     "output_type": "stream",
     "text": [
      "{'account_number': None, 'bill_to': {'address': None, 'name': 'Automobiles, Diesel & Petrol Motor Engineering', 'parsed_address': None, 'vat_number': None}, 'cashback': None, 'category': None, 'created_date': '2024-04-23 17:07:07', 'currency_code': 'USD', 'date': '2021-10-20 00:00:00', 'delivery_date': None, 'discount': None, 'document_reference_number': None, 'document_title': None, 'document_type': 'receipt', 'due_date': None, 'duplicate_of': None, 'external_id': None, 'id': 202310596, 'img_file_name': '202310596.jpg', 'img_thumbnail_url': 'https://scdn.veryfi.com/receipts/3f0e33479f1ffcc4/691c284f-25ec-4dad-b452-7fe8069d6df5/thumbnail.jpg?Expires=1713892927&Signature=WYKJgPEjXtzb00TtpS1mXJMECpMmXhe~39UU4~i5L5V9LoBPd-wuHvn82AO4PHCeWw1FcdASD1l141vnziG3-wns34phuzechm9m9Cwk84-2S4FLAAkoT38xbvx6pzF0xKugclcT70q6eQYEjApm4~QDxnrgOuZ-blgVOQkkFt5AYzVEZfnNx4EiQ07b3eHgFy9~Pr19FacHvknMqNk3Cm~zFg-iN7yfcSKwu8LmKjhWNvYuhRUC8TdgZSboNmO1H6OSc-nki-UrhkT5t8RKvUyzNcTlEdzMN2Ot46Y-jLH0iLt83h5Knyrswb1Ea~-1dVVyX37SBCjSxguuP9hNwA__&Key-Pair-Id=APKAJCILBXEJFZF4DCHQ', 'img_url': 'https://scdn.veryfi.com/receipts/3f0e33479f1ffcc4/691c284f-25ec-4dad-b452-7fe8069d6df5/04994727-da37-41d9-98c2-956dc2412578.jpg?Expires=1713892927&Signature=MWwir7T6Rx9GPz8ilcXOwRmbgWpJXvldVAMg68G11NLx058FkKnbwOaG8qefCDBZn6S6iBj3vaHX02~xw9~Bm62aZuOCldwB8BW9VdQENbqdlvnJEydaYVczU0LdvN2HO2xeMyNcsxZ33pAZXckl-xQZYWc5iatgCvuCBdqUPjj0jo14O-DnRQzS6z7IXyf4VvUP14P4tw1m7rRVcrIAVLl5DMowDWzF6jIDTPLQAKl0YXd~dT5p9Ev0AsVE7rsoEVhHUESzZ06nnA3yMYO90Vq7iMMsHa3TQnQPEzpXBfWAvXjydegyibkHPzQZFS2s6la8or53N2F8oNAT7a5Atw__&Key-Pair-Id=APKAJCILBXEJFZF4DCHQ', 'insurance': None, 'invoice_number': None, 'is_duplicate': False, 'is_money_in': False, 'line_items': [{'date': None, 'description': 'Getel Set', 'discount': None, 'discount_rate': None, 'end_date': None, 'full_description': 'Getel Set', 'hsn': None, 'id': 898780046, 'lot': None, 'normalized_description': None, 'order': 0, 'price': None, 'quantity': 1.0, 'reference': None, 'section': None, 'sku': None, 'start_date': None, 'tags': [], 'tax': None, 'tax_rate': None, 'text': 'Getel Set\\t\\t18,500', 'total': 18.5, 'type': 'product', 'unit_of_measure': None, 'upc': None, 'weight': None}, {'date': None, 'description': 'Rings Set', 'discount': None, 'discount_rate': None, 'end_date': None, 'full_description': 'Rings Set', 'hsn': None, 'id': 898780047, 'lot': None, 'normalized_description': None, 'order': 1, 'price': None, 'quantity': 1.0, 'reference': None, 'section': None, 'sku': None, 'start_date': None, 'tags': [], 'tax': None, 'tax_rate': None, 'text': 'Rings Set\\t\\t7,600', 'total': 7.6, 'type': 'product', 'unit_of_measure': None, 'upc': None, 'weight': None}, {'date': None, 'description': 'Main fearing', 'discount': None, 'discount_rate': None, 'end_date': None, 'full_description': 'Main fearing', 'hsn': None, 'id': 898780048, 'lot': None, 'normalized_description': None, 'order': 2, 'price': None, 'quantity': 1.0, 'reference': None, 'section': None, 'sku': None, 'start_date': None, 'tags': [], 'tax': None, 'tax_rate': None, 'text': 'Main fearing\\t\\t800', 'total': 800.0, 'type': 'product', 'unit_of_measure': None, 'upc': None, 'weight': None}, {'date': None, 'description': 'Big Rnd Rearing', 'discount': None, 'discount_rate': None, 'end_date': None, 'full_description': 'Big Rnd Rearing', 'hsn': None, 'id': 898780049, 'lot': None, 'normalized_description': None, 'order': 3, 'price': None, 'quantity': 1.0, 'reference': None, 'section': None, 'sku': None, 'start_date': None, 'tags': [], 'tax': None, 'tax_rate': None, 'text': 'Big Rnd Rearing\\t\\t3,600', 'total': 3.6, 'type': 'product', 'unit_of_measure': None, 'upc': None, 'weight': None}, {'date': None, 'description': 'Hoad Block Packy & Valie Ounding', 'discount': None, 'discount_rate': None, 'end_date': None, 'full_description': 'Hoad Block Packy & Valie Ounding', 'hsn': None, 'id': 898780050, 'lot': None, 'normalized_description': None, 'order': 4, 'price': None, 'quantity': 1.0, 'reference': None, 'section': None, 'sku': None, 'start_date': None, 'tags': [], 'tax': None, 'tax_rate': None, 'text': 'Hoad Block Packy & Valie Ounding 16,000', 'total': 16.0, 'type': 'product', 'unit_of_measure': None, 'upc': None, 'weight': None}, {'date': None, 'description': 'Silencer Mount Masewana.com', 'discount': None, 'discount_rate': None, 'end_date': None, 'full_description': 'Silencer Mount Masewana.com', 'hsn': None, 'id': 898780051, 'lot': None, 'normalized_description': None, 'order': 5, 'price': None, 'quantity': 1.0, 'reference': None, 'section': None, 'sku': None, 'start_date': None, 'tags': [], 'tax': None, 'tax_rate': None, 'text': 'Silencer Mount\\tMasewana.com\\t2.900', 'total': 2.9, 'type': 'product', 'unit_of_measure': None, 'upc': None, 'weight': None}, {'date': None, 'description': 'Engine Mount', 'discount': None, 'discount_rate': None, 'end_date': None, 'full_description': 'Engine Mount', 'hsn': None, 'id': 898780052, 'lot': None, 'normalized_description': None, 'order': 6, 'price': None, 'quantity': 1.0, 'reference': None, 'section': None, 'sku': None, 'start_date': None, 'tags': [], 'tax': None, 'tax_rate': None, 'text': '1100\\nEngine Mount', 'total': 1100.0, 'type': 'product', 'unit_of_measure': None, 'upc': None, 'weight': None}, {'date': None, 'description': 'Tappet Cover Packing', 'discount': None, 'discount_rate': None, 'end_date': None, 'full_description': 'Tappet Cover Packing', 'hsn': None, 'id': 898780053, 'lot': None, 'normalized_description': None, 'order': 7, 'price': None, 'quantity': 1.0, 'reference': None, 'section': None, 'sku': None, 'start_date': None, 'tags': [], 'tax': None, 'tax_rate': None, 'text': 'Tappet Cover Packing\\t1,750', 'total': 1.75, 'type': 'product', 'unit_of_measure': None, 'upc': None, 'weight': None}, {'date': None, 'description': 'Are Oil Seal 2 x 11080', 'discount': None, 'discount_rate': None, 'end_date': None, 'full_description': 'Are Oil Seal 2 x 11080', 'hsn': None, 'id': 898780054, 'lot': None, 'normalized_description': None, 'order': 8, 'price': None, 'quantity': 1.0, 'reference': None, 'section': None, 'sku': None, 'start_date': None, 'tags': [], 'tax': None, 'tax_rate': None, 'text': 'Are Oil Seal 2 x 11080\\t2,200', 'total': 2.2, 'type': 'product', 'unit_of_measure': None, 'upc': None, 'weight': None}, {'date': None, 'description': 'Engine O', 'discount': None, 'discount_rate': None, 'end_date': None, 'full_description': 'Engine O', 'hsn': None, 'id': 898780055, 'lot': None, 'normalized_description': None, 'order': 9, 'price': None, 'quantity': 1.0, 'reference': None, 'section': None, 'sku': None, 'start_date': None, 'tags': [], 'tax': None, 'tax_rate': None, 'text': 'Engine O\\t\\t6,990', 'total': 6.99, 'type': 'product', 'unit_of_measure': None, 'upc': None, 'weight': None}, {'date': None, 'description': 'oll filter', 'discount': None, 'discount_rate': None, 'end_date': None, 'full_description': 'oll filter', 'hsn': None, 'id': 898780056, 'lot': None, 'normalized_description': None, 'order': 10, 'price': None, 'quantity': 1.0, 'reference': None, 'section': None, 'sku': None, 'start_date': None, 'tags': [], 'tax': None, 'tax_rate': None, 'text': 'oll filter\\t\\t800', 'total': 800.0, 'type': 'product', 'unit_of_measure': None, 'upc': None, 'weight': None}, {'date': None, 'description': 'Gear Oil', 'discount': None, 'discount_rate': None, 'end_date': None, 'full_description': 'Gear Oil', 'hsn': None, 'id': 898780057, 'lot': None, 'normalized_description': None, 'order': 11, 'price': None, 'quantity': 1.0, 'reference': None, 'section': None, 'sku': None, 'start_date': None, 'tags': [], 'tax': None, 'tax_rate': None, 'text': 'Gear Oil\\t\\t3400', 'total': 3400.0, 'type': 'product', 'unit_of_measure': None, 'upc': None, 'weight': None}, {'date': None, 'description': 'Rodiatry Repall', 'discount': None, 'discount_rate': None, 'end_date': None, 'full_description': 'Rodiatry Repall', 'hsn': None, 'id': 898780058, 'lot': None, 'normalized_description': None, 'order': 12, 'price': None, 'quantity': 1.0, 'reference': None, 'section': None, 'sku': None, 'start_date': None, 'tags': [], 'tax': None, 'tax_rate': None, 'text': 'Rodiatry Repall\\t\\t4500', 'total': 4500.0, 'type': 'product', 'unit_of_measure': None, 'upc': None, 'weight': None}, {'date': None, 'description': 'Tune up', 'discount': None, 'discount_rate': None, 'end_date': None, 'full_description': 'Tune up', 'hsn': None, 'id': 898780059, 'lot': None, 'normalized_description': None, 'order': 13, 'price': None, 'quantity': 1.0, 'reference': None, 'section': None, 'sku': None, 'start_date': None, 'tags': [], 'tax': None, 'tax_rate': None, 'text': 'Tune up\\t\\t7100', 'total': 7100.0, 'type': 'product', 'unit_of_measure': None, 'upc': None, 'weight': None}, {'date': None, 'description': 'Labour Charges', 'discount': None, 'discount_rate': None, 'end_date': None, 'full_description': 'Labour Charges', 'hsn': None, 'id': 898780060, 'lot': None, 'normalized_description': None, 'order': 14, 'price': None, 'quantity': 1.0, 'reference': None, 'section': None, 'sku': None, 'start_date': None, 'tags': [], 'tax': None, 'tax_rate': None, 'text': 'Labour Charges\\t20,000', 'total': 20.0, 'type': 'service', 'unit_of_measure': None, 'upc': None, 'weight': None}, {'date': None, 'description': 'Number Plate Cover', 'discount': None, 'discount_rate': None, 'end_date': None, 'full_description': 'Number Plate Cover', 'hsn': None, 'id': 898780061, 'lot': None, 'normalized_description': None, 'order': 15, 'price': None, 'quantity': 1.0, 'reference': None, 'section': None, 'sku': None, 'start_date': None, 'tags': [], 'tax': None, 'tax_rate': None, 'text': 'Number Plate Cover\\t2010', 'total': 2010.0, 'type': 'product', 'unit_of_measure': None, 'upc': None, 'weight': None}], 'meta': {'language': ['en'], 'owner': 'eshanmaduranga0329', 'pages': [{'height': 480, 'language': ['en'], 'width': 361}], 'processed_pages': 1, 'source': 'api', 'source_documents': [{'height': 480, 'size_kb': 27, 'width': 361}], 'total_pages': 1}, 'notes': None, 'ocr_text': 'Annesley Motor Garage\\nඇනස්ලි මෝටර් ගරාජ්\\nWe undertake all repairs to Automobiles, Diesel & Petrol Motor Engineering\\nElectrical Engineering. Tinkering, Spray Painting Ect..\\nTel\\t0112 934518\\t29, KUDA EDANDA ROAD,\\nMobile\\t0777 6996961\\tWATTALA\\n0727 699696\\tannesleyep@gmail.com\\n\\t20/10/2021-\\nMr.\\nDescription\\tRs.\\tCts.\\nGetel Set\\t\\t18,500\\nRings Set\\t\\t7,600\\nMain fearing\\t\\t800\\nBig Rnd Rearing\\t\\t3,600\\nHoad Block Packy & Valie Ounding 16,000\\nSilencer Mount\\tMasewana.com\\t2.900\\n\\t1100\\nEngine Mount\\nTappet Cover Packing\\t1,750\\nAre Oil Seal 2 x 11080\\t2,200\\nEngine O\\t\\t6,990\\noll filter\\t\\t800\\nGear Oil\\t\\t3400\\nRodiatry Repall\\t\\t4500\\nTune up\\t\\t7100\\nLabour Charges\\t20,000\\nNumber Plate Cover\\t2010\\n\\n3215\\tTOTAL\\t113.140', 'order_date': None, 'payment': {'card_number': None, 'display_name': None, 'terms': None, 'type': None}, 'pdf_url': 'https://scdn.veryfi.com/receipts/3f0e33479f1ffcc4/691c284f-25ec-4dad-b452-7fe8069d6df5/d944b690-ed8c-4def-b4e8-a00f7d48c04d.pdf?Expires=1713892927&Signature=O316-awTzCpwTE2AoduKhs9hvgNVJIyceZzlsGQiQtHzZ-stZnGQbZXevxZDunQS9kLx5gCpVgKkQUkAyhgLxjIRHD8SL8C0Ac0qAV0I8YJFqFFMXo4dRYGiBzlYzjgWM6NLJhUTsKeLauvsPG2iDrCpRUkC7fUExvKVXom-lUbmAgU-Rwzz15aM3dPIZaAF1c5kCZreKAYzOzd5xiveCuNaFMulDeIt4k1QdeNVi1-qe5aUkl-AFKiVuuIhnKs917UAA1UHHe9Ci-w~huv1p6wckI4hoC~40mYYXC8MLPh7JqSvRCGLTUNLZYKQw5aNgFoE-FE-Dl2WVKtmRIo6sg__&Key-Pair-Id=APKAJCILBXEJFZF4DCHQ', 'purchase_order_number': None, 'reference_number': 'VBIED-10596', 'rounding': None, 'service_end_date': None, 'service_start_date': None, 'ship_date': None, 'ship_to': {'address': '29, KUDA EDANDA ROAD', 'name': None, 'parsed_address': None}, 'shipping': None, 'store_number': None, 'subtotal': None, 'tags': [], 'tax': None, 'tax_lines': [], 'tip': None, 'total': 19789.54, 'total_weight': None, 'tracking_number': None, 'updated_date': '2024-04-23 17:07:08', 'vendor': {'abn_number': None, 'account_number': None, 'address': None, 'bank_name': None, 'bank_number': None, 'bank_swift': None, 'category': 'Car Repair', 'email': None, 'fax_number': None, 'iban': None, 'lat': None, 'lng': None, 'logo': 'https://cdn.veryfi.com/logos/tmp/8ede303b-1d1c-483a-83ca-000c856132e8.png', 'name': 'Annesley Motor Garage', 'phone_number': '0112 934518', 'raw_address': None, 'raw_name': 'Annesley Motor Garage', 'reg_number': None, 'type': 'Car Repair', 'vat_number': None, 'web': None}}\n"
     ]
    }
   ],
   "source": [
    "categories = ['Grocery', 'Utilities', 'Travel','Car Repair']\n",
    "file_path = '../test_images/bill/bill01.jpg'\n",
    "# This submits document for processing (takes 3-5 seconds to get response)\n",
    "\n",
    "show_image(file_path)\n",
    "response = veryfi_client.process_document(file_path, categories=categories)\n",
    "print (response)\n"
   ]
  },
  {
   "cell_type": "code",
   "execution_count": 16,
   "metadata": {},
   "outputs": [
    {
     "name": "stdout",
     "output_type": "stream",
     "text": [
      "account_number  :  None\n",
      "bill_to  :  {'address': None, 'name': 'Automobiles, Diesel & Petrol Motor Engineering', 'parsed_address': None, 'vat_number': None}\n",
      "cashback  :  None\n",
      "category  :  None\n",
      "created_date  :  2024-04-23 17:07:07\n",
      "currency_code  :  USD\n",
      "date  :  2021-10-20 00:00:00\n",
      "delivery_date  :  None\n",
      "discount  :  None\n",
      "document_reference_number  :  None\n",
      "document_title  :  None\n",
      "document_type  :  receipt\n",
      "due_date  :  None\n",
      "duplicate_of  :  None\n",
      "external_id  :  None\n",
      "id  :  202310596\n",
      "img_file_name  :  202310596.jpg\n",
      "img_thumbnail_url  :  https://scdn.veryfi.com/receipts/3f0e33479f1ffcc4/691c284f-25ec-4dad-b452-7fe8069d6df5/thumbnail.jpg?Expires=1713892927&Signature=WYKJgPEjXtzb00TtpS1mXJMECpMmXhe~39UU4~i5L5V9LoBPd-wuHvn82AO4PHCeWw1FcdASD1l141vnziG3-wns34phuzechm9m9Cwk84-2S4FLAAkoT38xbvx6pzF0xKugclcT70q6eQYEjApm4~QDxnrgOuZ-blgVOQkkFt5AYzVEZfnNx4EiQ07b3eHgFy9~Pr19FacHvknMqNk3Cm~zFg-iN7yfcSKwu8LmKjhWNvYuhRUC8TdgZSboNmO1H6OSc-nki-UrhkT5t8RKvUyzNcTlEdzMN2Ot46Y-jLH0iLt83h5Knyrswb1Ea~-1dVVyX37SBCjSxguuP9hNwA__&Key-Pair-Id=APKAJCILBXEJFZF4DCHQ\n",
      "img_url  :  https://scdn.veryfi.com/receipts/3f0e33479f1ffcc4/691c284f-25ec-4dad-b452-7fe8069d6df5/04994727-da37-41d9-98c2-956dc2412578.jpg?Expires=1713892927&Signature=MWwir7T6Rx9GPz8ilcXOwRmbgWpJXvldVAMg68G11NLx058FkKnbwOaG8qefCDBZn6S6iBj3vaHX02~xw9~Bm62aZuOCldwB8BW9VdQENbqdlvnJEydaYVczU0LdvN2HO2xeMyNcsxZ33pAZXckl-xQZYWc5iatgCvuCBdqUPjj0jo14O-DnRQzS6z7IXyf4VvUP14P4tw1m7rRVcrIAVLl5DMowDWzF6jIDTPLQAKl0YXd~dT5p9Ev0AsVE7rsoEVhHUESzZ06nnA3yMYO90Vq7iMMsHa3TQnQPEzpXBfWAvXjydegyibkHPzQZFS2s6la8or53N2F8oNAT7a5Atw__&Key-Pair-Id=APKAJCILBXEJFZF4DCHQ\n",
      "insurance  :  None\n",
      "invoice_number  :  None\n",
      "is_duplicate  :  False\n",
      "is_money_in  :  False\n",
      "line_items  :  [{'date': None, 'description': 'Getel Set', 'discount': None, 'discount_rate': None, 'end_date': None, 'full_description': 'Getel Set', 'hsn': None, 'id': 898780046, 'lot': None, 'normalized_description': None, 'order': 0, 'price': None, 'quantity': 1.0, 'reference': None, 'section': None, 'sku': None, 'start_date': None, 'tags': [], 'tax': None, 'tax_rate': None, 'text': 'Getel Set\\t\\t18,500', 'total': 18.5, 'type': 'product', 'unit_of_measure': None, 'upc': None, 'weight': None}, {'date': None, 'description': 'Rings Set', 'discount': None, 'discount_rate': None, 'end_date': None, 'full_description': 'Rings Set', 'hsn': None, 'id': 898780047, 'lot': None, 'normalized_description': None, 'order': 1, 'price': None, 'quantity': 1.0, 'reference': None, 'section': None, 'sku': None, 'start_date': None, 'tags': [], 'tax': None, 'tax_rate': None, 'text': 'Rings Set\\t\\t7,600', 'total': 7.6, 'type': 'product', 'unit_of_measure': None, 'upc': None, 'weight': None}, {'date': None, 'description': 'Main fearing', 'discount': None, 'discount_rate': None, 'end_date': None, 'full_description': 'Main fearing', 'hsn': None, 'id': 898780048, 'lot': None, 'normalized_description': None, 'order': 2, 'price': None, 'quantity': 1.0, 'reference': None, 'section': None, 'sku': None, 'start_date': None, 'tags': [], 'tax': None, 'tax_rate': None, 'text': 'Main fearing\\t\\t800', 'total': 800.0, 'type': 'product', 'unit_of_measure': None, 'upc': None, 'weight': None}, {'date': None, 'description': 'Big Rnd Rearing', 'discount': None, 'discount_rate': None, 'end_date': None, 'full_description': 'Big Rnd Rearing', 'hsn': None, 'id': 898780049, 'lot': None, 'normalized_description': None, 'order': 3, 'price': None, 'quantity': 1.0, 'reference': None, 'section': None, 'sku': None, 'start_date': None, 'tags': [], 'tax': None, 'tax_rate': None, 'text': 'Big Rnd Rearing\\t\\t3,600', 'total': 3.6, 'type': 'product', 'unit_of_measure': None, 'upc': None, 'weight': None}, {'date': None, 'description': 'Hoad Block Packy & Valie Ounding', 'discount': None, 'discount_rate': None, 'end_date': None, 'full_description': 'Hoad Block Packy & Valie Ounding', 'hsn': None, 'id': 898780050, 'lot': None, 'normalized_description': None, 'order': 4, 'price': None, 'quantity': 1.0, 'reference': None, 'section': None, 'sku': None, 'start_date': None, 'tags': [], 'tax': None, 'tax_rate': None, 'text': 'Hoad Block Packy & Valie Ounding 16,000', 'total': 16.0, 'type': 'product', 'unit_of_measure': None, 'upc': None, 'weight': None}, {'date': None, 'description': 'Silencer Mount Masewana.com', 'discount': None, 'discount_rate': None, 'end_date': None, 'full_description': 'Silencer Mount Masewana.com', 'hsn': None, 'id': 898780051, 'lot': None, 'normalized_description': None, 'order': 5, 'price': None, 'quantity': 1.0, 'reference': None, 'section': None, 'sku': None, 'start_date': None, 'tags': [], 'tax': None, 'tax_rate': None, 'text': 'Silencer Mount\\tMasewana.com\\t2.900', 'total': 2.9, 'type': 'product', 'unit_of_measure': None, 'upc': None, 'weight': None}, {'date': None, 'description': 'Engine Mount', 'discount': None, 'discount_rate': None, 'end_date': None, 'full_description': 'Engine Mount', 'hsn': None, 'id': 898780052, 'lot': None, 'normalized_description': None, 'order': 6, 'price': None, 'quantity': 1.0, 'reference': None, 'section': None, 'sku': None, 'start_date': None, 'tags': [], 'tax': None, 'tax_rate': None, 'text': '1100\\nEngine Mount', 'total': 1100.0, 'type': 'product', 'unit_of_measure': None, 'upc': None, 'weight': None}, {'date': None, 'description': 'Tappet Cover Packing', 'discount': None, 'discount_rate': None, 'end_date': None, 'full_description': 'Tappet Cover Packing', 'hsn': None, 'id': 898780053, 'lot': None, 'normalized_description': None, 'order': 7, 'price': None, 'quantity': 1.0, 'reference': None, 'section': None, 'sku': None, 'start_date': None, 'tags': [], 'tax': None, 'tax_rate': None, 'text': 'Tappet Cover Packing\\t1,750', 'total': 1.75, 'type': 'product', 'unit_of_measure': None, 'upc': None, 'weight': None}, {'date': None, 'description': 'Are Oil Seal 2 x 11080', 'discount': None, 'discount_rate': None, 'end_date': None, 'full_description': 'Are Oil Seal 2 x 11080', 'hsn': None, 'id': 898780054, 'lot': None, 'normalized_description': None, 'order': 8, 'price': None, 'quantity': 1.0, 'reference': None, 'section': None, 'sku': None, 'start_date': None, 'tags': [], 'tax': None, 'tax_rate': None, 'text': 'Are Oil Seal 2 x 11080\\t2,200', 'total': 2.2, 'type': 'product', 'unit_of_measure': None, 'upc': None, 'weight': None}, {'date': None, 'description': 'Engine O', 'discount': None, 'discount_rate': None, 'end_date': None, 'full_description': 'Engine O', 'hsn': None, 'id': 898780055, 'lot': None, 'normalized_description': None, 'order': 9, 'price': None, 'quantity': 1.0, 'reference': None, 'section': None, 'sku': None, 'start_date': None, 'tags': [], 'tax': None, 'tax_rate': None, 'text': 'Engine O\\t\\t6,990', 'total': 6.99, 'type': 'product', 'unit_of_measure': None, 'upc': None, 'weight': None}, {'date': None, 'description': 'oll filter', 'discount': None, 'discount_rate': None, 'end_date': None, 'full_description': 'oll filter', 'hsn': None, 'id': 898780056, 'lot': None, 'normalized_description': None, 'order': 10, 'price': None, 'quantity': 1.0, 'reference': None, 'section': None, 'sku': None, 'start_date': None, 'tags': [], 'tax': None, 'tax_rate': None, 'text': 'oll filter\\t\\t800', 'total': 800.0, 'type': 'product', 'unit_of_measure': None, 'upc': None, 'weight': None}, {'date': None, 'description': 'Gear Oil', 'discount': None, 'discount_rate': None, 'end_date': None, 'full_description': 'Gear Oil', 'hsn': None, 'id': 898780057, 'lot': None, 'normalized_description': None, 'order': 11, 'price': None, 'quantity': 1.0, 'reference': None, 'section': None, 'sku': None, 'start_date': None, 'tags': [], 'tax': None, 'tax_rate': None, 'text': 'Gear Oil\\t\\t3400', 'total': 3400.0, 'type': 'product', 'unit_of_measure': None, 'upc': None, 'weight': None}, {'date': None, 'description': 'Rodiatry Repall', 'discount': None, 'discount_rate': None, 'end_date': None, 'full_description': 'Rodiatry Repall', 'hsn': None, 'id': 898780058, 'lot': None, 'normalized_description': None, 'order': 12, 'price': None, 'quantity': 1.0, 'reference': None, 'section': None, 'sku': None, 'start_date': None, 'tags': [], 'tax': None, 'tax_rate': None, 'text': 'Rodiatry Repall\\t\\t4500', 'total': 4500.0, 'type': 'product', 'unit_of_measure': None, 'upc': None, 'weight': None}, {'date': None, 'description': 'Tune up', 'discount': None, 'discount_rate': None, 'end_date': None, 'full_description': 'Tune up', 'hsn': None, 'id': 898780059, 'lot': None, 'normalized_description': None, 'order': 13, 'price': None, 'quantity': 1.0, 'reference': None, 'section': None, 'sku': None, 'start_date': None, 'tags': [], 'tax': None, 'tax_rate': None, 'text': 'Tune up\\t\\t7100', 'total': 7100.0, 'type': 'product', 'unit_of_measure': None, 'upc': None, 'weight': None}, {'date': None, 'description': 'Labour Charges', 'discount': None, 'discount_rate': None, 'end_date': None, 'full_description': 'Labour Charges', 'hsn': None, 'id': 898780060, 'lot': None, 'normalized_description': None, 'order': 14, 'price': None, 'quantity': 1.0, 'reference': None, 'section': None, 'sku': None, 'start_date': None, 'tags': [], 'tax': None, 'tax_rate': None, 'text': 'Labour Charges\\t20,000', 'total': 20.0, 'type': 'service', 'unit_of_measure': None, 'upc': None, 'weight': None}, {'date': None, 'description': 'Number Plate Cover', 'discount': None, 'discount_rate': None, 'end_date': None, 'full_description': 'Number Plate Cover', 'hsn': None, 'id': 898780061, 'lot': None, 'normalized_description': None, 'order': 15, 'price': None, 'quantity': 1.0, 'reference': None, 'section': None, 'sku': None, 'start_date': None, 'tags': [], 'tax': None, 'tax_rate': None, 'text': 'Number Plate Cover\\t2010', 'total': 2010.0, 'type': 'product', 'unit_of_measure': None, 'upc': None, 'weight': None}]\n",
      "meta  :  {'language': ['en'], 'owner': 'eshanmaduranga0329', 'pages': [{'height': 480, 'language': ['en'], 'width': 361}], 'processed_pages': 1, 'source': 'api', 'source_documents': [{'height': 480, 'size_kb': 27, 'width': 361}], 'total_pages': 1}\n",
      "notes  :  None\n",
      "ocr_text  :  Annesley Motor Garage\n",
      "ඇනස්ලි මෝටර් ගරාජ්\n",
      "We undertake all repairs to Automobiles, Diesel & Petrol Motor Engineering\n",
      "Electrical Engineering. Tinkering, Spray Painting Ect..\n",
      "Tel\t0112 934518\t29, KUDA EDANDA ROAD,\n",
      "Mobile\t0777 6996961\tWATTALA\n",
      "0727 699696\tannesleyep@gmail.com\n",
      "\t20/10/2021-\n",
      "Mr.\n",
      "Description\tRs.\tCts.\n",
      "Getel Set\t\t18,500\n",
      "Rings Set\t\t7,600\n",
      "Main fearing\t\t800\n",
      "Big Rnd Rearing\t\t3,600\n",
      "Hoad Block Packy & Valie Ounding 16,000\n",
      "Silencer Mount\tMasewana.com\t2.900\n",
      "\t1100\n",
      "Engine Mount\n",
      "Tappet Cover Packing\t1,750\n",
      "Are Oil Seal 2 x 11080\t2,200\n",
      "Engine O\t\t6,990\n",
      "oll filter\t\t800\n",
      "Gear Oil\t\t3400\n",
      "Rodiatry Repall\t\t4500\n",
      "Tune up\t\t7100\n",
      "Labour Charges\t20,000\n",
      "Number Plate Cover\t2010\n",
      "\n",
      "3215\tTOTAL\t113.140\n",
      "order_date  :  None\n",
      "payment  :  {'card_number': None, 'display_name': None, 'terms': None, 'type': None}\n",
      "pdf_url  :  https://scdn.veryfi.com/receipts/3f0e33479f1ffcc4/691c284f-25ec-4dad-b452-7fe8069d6df5/d944b690-ed8c-4def-b4e8-a00f7d48c04d.pdf?Expires=1713892927&Signature=O316-awTzCpwTE2AoduKhs9hvgNVJIyceZzlsGQiQtHzZ-stZnGQbZXevxZDunQS9kLx5gCpVgKkQUkAyhgLxjIRHD8SL8C0Ac0qAV0I8YJFqFFMXo4dRYGiBzlYzjgWM6NLJhUTsKeLauvsPG2iDrCpRUkC7fUExvKVXom-lUbmAgU-Rwzz15aM3dPIZaAF1c5kCZreKAYzOzd5xiveCuNaFMulDeIt4k1QdeNVi1-qe5aUkl-AFKiVuuIhnKs917UAA1UHHe9Ci-w~huv1p6wckI4hoC~40mYYXC8MLPh7JqSvRCGLTUNLZYKQw5aNgFoE-FE-Dl2WVKtmRIo6sg__&Key-Pair-Id=APKAJCILBXEJFZF4DCHQ\n",
      "purchase_order_number  :  None\n",
      "reference_number  :  VBIED-10596\n",
      "rounding  :  None\n",
      "service_end_date  :  None\n",
      "service_start_date  :  None\n",
      "ship_date  :  None\n",
      "ship_to  :  {'address': '29, KUDA EDANDA ROAD', 'name': None, 'parsed_address': None}\n",
      "shipping  :  None\n",
      "store_number  :  None\n",
      "subtotal  :  None\n",
      "tags  :  []\n",
      "tax  :  None\n",
      "tax_lines  :  []\n",
      "tip  :  None\n",
      "total  :  19789.54\n",
      "total_weight  :  None\n",
      "tracking_number  :  None\n",
      "updated_date  :  2024-04-23 17:07:08\n",
      "vendor  :  {'abn_number': None, 'account_number': None, 'address': None, 'bank_name': None, 'bank_number': None, 'bank_swift': None, 'category': 'Car Repair', 'email': None, 'fax_number': None, 'iban': None, 'lat': None, 'lng': None, 'logo': 'https://cdn.veryfi.com/logos/tmp/8ede303b-1d1c-483a-83ca-000c856132e8.png', 'name': 'Annesley Motor Garage', 'phone_number': '0112 934518', 'raw_address': None, 'raw_name': 'Annesley Motor Garage', 'reg_number': None, 'type': 'Car Repair', 'vat_number': None, 'web': None}\n"
     ]
    }
   ],
   "source": [
    "# print itemwise this dictionery\n",
    "for key, value in response.items():\n",
    "    print(key, ' : ', value)"
   ]
  },
  {
   "cell_type": "code",
   "execution_count": 17,
   "metadata": {},
   "outputs": [
    {
     "name": "stdout",
     "output_type": "stream",
     "text": [
      "Annesley Motor Garage\n",
      "ඇනස්ලි මෝටර් ගරාජ්\n",
      "We undertake all repairs to Automobiles, Diesel & Petrol Motor Engineering\n",
      "Electrical Engineering. Tinkering, Spray Painting Ect..\n",
      "Tel\t0112 934518\t29, KUDA EDANDA ROAD,\n",
      "Mobile\t0777 6996961\tWATTALA\n",
      "0727 699696\tannesleyep@gmail.com\n",
      "\t20/10/2021-\n",
      "Mr.\n",
      "Description\tRs.\tCts.\n",
      "Getel Set\t\t18,500\n",
      "Rings Set\t\t7,600\n",
      "Main fearing\t\t800\n",
      "Big Rnd Rearing\t\t3,600\n",
      "Hoad Block Packy & Valie Ounding 16,000\n",
      "Silencer Mount\tMasewana.com\t2.900\n",
      "\t1100\n",
      "Engine Mount\n",
      "Tappet Cover Packing\t1,750\n",
      "Are Oil Seal 2 x 11080\t2,200\n",
      "Engine O\t\t6,990\n",
      "oll filter\t\t800\n",
      "Gear Oil\t\t3400\n",
      "Rodiatry Repall\t\t4500\n",
      "Tune up\t\t7100\n",
      "Labour Charges\t20,000\n",
      "Number Plate Cover\t2010\n",
      "\n",
      "3215\tTOTAL\t113.140\n"
     ]
    }
   ],
   "source": [
    "ocr_text = response['ocr_text']\n",
    "print(ocr_text)"
   ]
  },
  {
   "cell_type": "code",
   "execution_count": 20,
   "metadata": {},
   "outputs": [
    {
     "name": "stdout",
     "output_type": "stream",
     "text": [
      "2021-10-20 00:00:00\n"
     ]
    }
   ],
   "source": [
    "bill_date = response['date']\n",
    "print(bill_date)"
   ]
  },
  {
   "cell_type": "code",
   "execution_count": 31,
   "metadata": {},
   "outputs": [
    {
     "name": "stdout",
     "output_type": "stream",
     "text": [
      "['Tel', '2 934518', 'Mobile', '7', 'WATTALA', '7', 'com', 'Getel Set', 'Rings Set', 'Main fearing', 'Big Rnd Rearing', 'Hoad Block Packy & Valie Ounding', 'com', '0', 'Tappet Cover Packing', 'Are Oil Seal 2 x 11080', 'Engine O', 'oll filter', 'Gear Oil', 'Rodiatry Repall', 'Tune up', 'Labour Charges', 'Number Plate Cover', '0', 'TOTAL']\n",
      "Extracted Items:\n",
      "Tel\n",
      " \n",
      "Mobile\n",
      "WATTALA\n",
      "com\n",
      "Getel Set\n",
      "Rings Set\n",
      "Main fearing\n",
      "Big Rnd Rearing\n",
      "Hoad Block Packy  Valie Ounding\n",
      "com\n",
      "Tappet Cover Packing\n",
      "Are Oil Seal  x \n",
      "Engine O\n",
      "oll filter\n",
      "Gear Oil\n",
      "Rodiatry Repall\n",
      "Tune up\n",
      "Labour Charges\n",
      "Number Plate Cover\n",
      "TOTAL\n"
     ]
    }
   ],
   "source": [
    "import re\n",
    "\n",
    "\n",
    "# Define a regular expression pattern to match item descriptions and prices\n",
    "item_pattern = r'([A-Za-z0-9& /]+)\\s+\\d{1,3}(?:,\\d{3})*(?:\\.\\d{1,2})?'\n",
    "\n",
    "# Extract items using regex\n",
    "items = re.findall(item_pattern, ocr_text)\n",
    "print(items)\n",
    "# Print the extracted items\n",
    "print(\"Extracted Items:\")\n",
    "for item in items:\n",
    "    item = re.sub(r'\\d+', '', item) \n",
    "    item =  re.sub(r'[^\\w\\s]', '', item)\n",
    "    if(item == ''):\n",
    "        continue\n",
    "    print(item)\n"
   ]
  },
  {
   "cell_type": "code",
   "execution_count": 26,
   "metadata": {},
   "outputs": [
    {
     "data": {
      "text/plain": [
       "'Annesley Motor Garage\\nඇනස්ලි මෝටර් ගරාජ්\\nWe undertake all repairs to Automobiles, Diesel & Petrol Motor Engineering\\nElectrical Engineering. Tinkering, Spray Painting Ect..\\nTel\\t \\t, KUDA EDANDA ROAD,\\nMobile\\t \\tWATTALA\\n \\tannesleyep@gmail.com\\n\\t//-\\nMr.\\nDescription\\tRs.\\tCts.\\nGetel Set\\t\\t,\\nRings Set\\t\\t,\\nMain fearing\\t\\t\\nBig Rnd Rearing\\t\\t,\\nHoad Block Packy & Valie Ounding ,\\nSilencer Mount\\tMasewana.com\\t.\\n\\t\\nEngine Mount\\nTappet Cover Packing\\t,\\nAre Oil Seal  x \\t,\\nEngine O\\t\\t,\\noll filter\\t\\t\\nGear Oil\\t\\t\\nRodiatry Repall\\t\\t\\nTune up\\t\\t\\nLabour Charges\\t,\\nNumber Plate Cover\\t\\n\\n\\tTOTAL\\t.'"
      ]
     },
     "execution_count": 26,
     "metadata": {},
     "output_type": "execute_result"
    }
   ],
   "source": []
  },
  {
   "cell_type": "code",
   "execution_count": 8,
   "metadata": {},
   "outputs": [],
   "source": [
    "show_image(file_path)"
   ]
  },
  {
   "cell_type": "code",
   "execution_count": null,
   "metadata": {},
   "outputs": [],
   "source": []
  }
 ],
 "metadata": {
  "kernelspec": {
   "display_name": "Python 3",
   "language": "python",
   "name": "python3"
  },
  "language_info": {
   "codemirror_mode": {
    "name": "ipython",
    "version": 3
   },
   "file_extension": ".py",
   "mimetype": "text/x-python",
   "name": "python",
   "nbconvert_exporter": "python",
   "pygments_lexer": "ipython3",
   "version": "3.12.2"
  }
 },
 "nbformat": 4,
 "nbformat_minor": 2
}
