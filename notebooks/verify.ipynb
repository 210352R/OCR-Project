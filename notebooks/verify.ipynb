{
 "cells": [
  {
   "cell_type": "code",
   "execution_count": 30,
   "metadata": {},
   "outputs": [],
   "source": [
    "# ! pip install veryfi"
   ]
  },
  {
   "cell_type": "code",
   "execution_count": 31,
   "metadata": {},
   "outputs": [],
   "source": [
    "# remove limiting max columns and rows\n",
    "import os # To import test image files\n",
    "import cv2 # To work with opencv images\n",
    "from PIL import Image # Image submodule to work with pillow images"
   ]
  },
  {
   "cell_type": "code",
   "execution_count": 32,
   "metadata": {},
   "outputs": [],
   "source": [
    "from veryfi import Client\n",
    "\t\n",
    "\n",
    "# get your keys here: https://hub.veryfi.com/api/\n",
    "client_id = 'vrfudW65UwDLHIbBW7lTkmGwmzccvdTEVAv2PsE'\n",
    "client_secret = 'RUMtwhtu9sGsrTdh2R16oUEsIt66Af40buv5AZ49tnLWUu1fTHWgYjwkNPFi4lhGrBljbZK5vcheBVjrsXJG3sh0hNB5hY0lgmckvKlk5UdH9sKyWBhjE9Tf4YibKDaU'\n",
    "username = 'eshanmaduranga0329'\n",
    "api_key = 'edd21201d02d5e44a7de71315fd1a01b'\n",
    "\n",
    "veryfi_client = Client(client_id, client_secret, username, api_key)"
   ]
  },
  {
   "cell_type": "code",
   "execution_count": 33,
   "metadata": {},
   "outputs": [],
   "source": [
    "def show_image(img_path, size=(800, 800)):\n",
    "    image = cv2.imread(img_path)\n",
    "    image = cv2.resize(image, size)\n",
    "    \n",
    "    cv2.imshow(\"IMAGE\", image)\n",
    "    cv2.waitKey(0)\n",
    "    cv2.destroyAllWindows()"
   ]
  },
  {
   "cell_type": "code",
   "execution_count": 34,
   "metadata": {},
   "outputs": [],
   "source": [
    "categories = ['Grocery', 'Utilities', 'Travel','Car Repair']\n",
    "file_path = '../test_images/bill/AAA.jpeg'\n",
    "# This submits document for processing (takes 3-5 seconds to get response)\n",
    "\n",
    "show_image(file_path)\n",
    "response = veryfi_client.process_document(file_path, categories=categories)\n",
    "print (response)\n"
   ]
  },
  {
   "cell_type": "code",
   "execution_count": null,
   "metadata": {},
   "outputs": [
    {
     "name": "stdout",
     "output_type": "stream",
     "text": [
      "account_number  :  None\n",
      "bill_to  :  {'address': '/3,Thalahena Road, Malabe', 'name': None, 'parsed_address': None, 'vat_number': None}\n",
      "cashback  :  None\n",
      "category  :  Car Repair\n",
      "created_date  :  2024-05-20 17:31:14\n",
      "currency_code  :  INR\n",
      "date  :  2019-11-01 00:00:00\n",
      "delivery_date  :  None\n",
      "discount  :  None\n",
      "document_reference_number  :  VTEC-Motors\n",
      "document_title  :  None\n",
      "document_type  :  invoice\n",
      "due_date  :  None\n",
      "duplicate_of  :  201780597\n",
      "external_id  :  None\n",
      "id  :  209453441\n",
      "img_file_name  :  209453441.jpg\n",
      "img_thumbnail_url  :  https://scdn.veryfi.com/receipts/3f0e33479f1ffcc4/79a2aba4-7681-4b2f-aa74-2b18a86e5199/thumbnail.jpg?Expires=1716227177&Signature=NVz7vSKZBaB6dJVM2eQiMP8QCclixCKgQsL57~PAJsj5a1oXszaRkvcGpe0BrWYj~pnOdSm1~HH3jWhl-BC9qBE3M8HEncS5WMXmzsdfoHLfRV0dt1Se-1xOK7IIEBnuk3XeOSfXoJT0PX6kOedXNRIX0iql4CGUGO1sk6t6TpcQdO9i92UqBExHOMRYwnhipSdXH8XvtabKHHjeKQuiHFGLgPTE1B6muC9OgCFlOsLEPRQndLD29gmQIZ9uwmejP8eiB3gUfN6LaHcoaATbO78ZGhDJb1P4oDpsKiInZ3yKB7XblcFC2EQjlOAkJLSgMmhg-pjjKu1qyhFrTbL9vQ__&Key-Pair-Id=APKAJCILBXEJFZF4DCHQ\n",
      "img_url  :  https://scdn.veryfi.com/receipts/3f0e33479f1ffcc4/79a2aba4-7681-4b2f-aa74-2b18a86e5199/afe37da1-7cde-4d68-846c-82c85950948c.jpg?Expires=1716227177&Signature=PZY2OcKyhsH7XIO9Otfmt0HYVzymmFYzVvBmN7VMnsAuzJ1uzUMAE92MDUt2ATFwjak4z9SuewJx~frujoeLJLgzn4xzzH5XGlBIptUwFT7kPeBkqkz5RZjmZucqlggvnyKYSaQCDD9SpEjpmfviJMdO5C89ftPwNLfLQQHXgzGn7VudpS8fzEu8ZT8u6cibfkBWRdt6NC5626nNrRd0dz6KUslvPocVP5S3RTrnkGX4vg77ITzVwVe7DQAPy-FHUl6iHf8~GJbb2ctE6eq49xZdvvS4doyzlpKyVuQ~eQAtqiuRT3aSnMHq4aOsEk6DALOePun8bwArL7SmfutyUg__&Key-Pair-Id=APKAJCILBXEJFZF4DCHQ\n",
      "insurance  :  None\n",
      "invoice_number  :  7677\n",
      "is_duplicate  :  True\n",
      "is_money_in  :  False\n",
      "line_items  :  [{'date': None, 'description': 'Front Buffer', 'discount': None, 'discount_rate': None, 'end_date': None, 'full_description': 'Front Buffer', 'hsn': None, 'id': 933634422, 'lot': None, 'normalized_description': None, 'order': 0, 'price': None, 'quantity': 1.0, 'reference': None, 'section': None, 'sku': None, 'start_date': None, 'tags': [], 'tax': None, 'tax_rate': None, 'text': '1. Front Buffer\\t\\t\\tRs.100,000/=', 'total': 100.0, 'type': 'product', 'unit_of_measure': None, 'upc': None, 'weight': None}, {'date': None, 'description': 'L/H Front Buffer Retainer', 'discount': None, 'discount_rate': None, 'end_date': None, 'full_description': 'L/H Front Buffer Retainer', 'hsn': None, 'id': 933634423, 'lot': None, 'normalized_description': None, 'order': 1, 'price': None, 'quantity': 1.0, 'reference': None, 'section': None, 'sku': None, 'start_date': None, 'tags': [], 'tax': None, 'tax_rate': None, 'text': '2. L/H Front Buffer Retainer\\t\\tRs.10,000/=', 'total': 10.0, 'type': 'product', 'unit_of_measure': None, 'upc': None, 'weight': None}, {'date': None, 'description': 'L/H Head Lamp', 'discount': None, 'discount_rate': None, 'end_date': None, 'full_description': 'L/H Head Lamp', 'hsn': None, 'id': 933634424, 'lot': None, 'normalized_description': None, 'order': 2, 'price': None, 'quantity': 1.0, 'reference': None, 'section': None, 'sku': None, 'start_date': None, 'tags': [], 'tax': None, 'tax_rate': None, 'text': '3. L/H Head Lamp\\t\\t\\tRs.115,000/=', 'total': 115.0, 'type': 'product', 'unit_of_measure': None, 'upc': None, 'weight': None}, {'date': None, 'description': 'L/H Head Lamp Gloss Strip', 'discount': None, 'discount_rate': None, 'end_date': None, 'full_description': 'L/H Head Lamp Gloss Strip', 'hsn': None, 'id': 933634425, 'lot': None, 'normalized_description': None, 'order': 3, 'price': None, 'quantity': 1.0, 'reference': None, 'section': None, 'sku': None, 'start_date': None, 'tags': [], 'tax': None, 'tax_rate': None, 'text': '4. L/H Head Lamp Gloss Strip\\t\\tRs.18,000/=', 'total': 18.0, 'type': 'product', 'unit_of_measure': None, 'upc': None, 'weight': None}, {'date': None, 'description': 'L/H Head Lamp Gloss Strip Mounting Brackets', 'discount': None, 'discount_rate': None, 'end_date': None, 'full_description': 'L/H Head Lamp Gloss Strip Mounting Brackets', 'hsn': None, 'id': 933634426, 'lot': None, 'normalized_description': None, 'order': 4, 'price': None, 'quantity': 1.0, 'reference': None, 'section': None, 'sku': None, 'start_date': None, 'tags': [], 'tax': None, 'tax_rate': None, 'text': '5. L/H Head Lamp Gloss Strip Mounting Brackets\\tRs.15,000/=', 'total': 15.0, 'type': 'product', 'unit_of_measure': None, 'upc': None, 'weight': None}, {'date': None, 'description': 'Bonnet Hinges 02', 'discount': None, 'discount_rate': None, 'end_date': None, 'full_description': 'Bonnet Hinges 02', 'hsn': None, 'id': 933634427, 'lot': None, 'normalized_description': None, 'order': 5, 'price': None, 'quantity': 1.0, 'reference': None, 'section': None, 'sku': None, 'start_date': None, 'tags': [], 'tax': None, 'tax_rate': None, 'text': '8. Bonnet Hinges 02\\t\\t\\tRs.18,000/=', 'total': 18.0, 'type': 'product', 'unit_of_measure': None, 'upc': None, 'weight': None}, {'date': None, 'description': 'L/H Head Lamp Lower Bracket', 'discount': None, 'discount_rate': None, 'end_date': None, 'full_description': 'L/H Head Lamp Lower Bracket', 'hsn': None, 'id': 933634428, 'lot': None, 'normalized_description': None, 'order': 6, 'price': None, 'quantity': 1.0, 'reference': None, 'section': None, 'sku': None, 'start_date': None, 'tags': [], 'tax': None, 'tax_rate': None, 'text': '9. L/H Head Lamp Lower Bracket\\tRs.15,000/=', 'total': 15.0, 'type': 'product', 'unit_of_measure': None, 'upc': None, 'weight': None}, {'date': None, 'description': '10.Bonnet Beading', 'discount': None, 'discount_rate': None, 'end_date': None, 'full_description': '10.Bonnet Beading', 'hsn': None, 'id': 933634429, 'lot': None, 'normalized_description': None, 'order': 7, 'price': None, 'quantity': 1.0, 'reference': None, 'section': None, 'sku': None, 'start_date': None, 'tags': [], 'tax': None, 'tax_rate': None, 'text': '10.Bonnet Beading\\t\\t\\tRs.12,000/=', 'total': 12.0, 'type': 'product', 'unit_of_measure': None, 'upc': None, 'weight': None}, {'date': None, 'description': '11.R/H Head Lamp Lower Bracket', 'discount': None, 'discount_rate': None, 'end_date': None, 'full_description': '11.R/H Head Lamp Lower Bracket', 'hsn': None, 'id': 933634430, 'lot': None, 'normalized_description': None, 'order': 8, 'price': None, 'quantity': 1.0, 'reference': None, 'section': None, 'sku': None, 'start_date': None, 'tags': [], 'tax': None, 'tax_rate': None, 'text': '11.R/H Head Lamp Lower Bracket\\tRs.15,000/=', 'total': 15.0, 'type': 'product', 'unit_of_measure': None, 'upc': None, 'weight': None}, {'date': None, 'description': '12.Nose Cut Panel (Plastic)', 'discount': None, 'discount_rate': None, 'end_date': None, 'full_description': '12.Nose Cut Panel (Plastic)', 'hsn': None, 'id': 933634431, 'lot': None, 'normalized_description': None, 'order': 9, 'price': None, 'quantity': 1.0, 'reference': None, 'section': None, 'sku': None, 'start_date': None, 'tags': [], 'tax': None, 'tax_rate': None, 'text': '12.Nose Cut Panel (Plastic)\\t\\tRs.110,000/=', 'total': 110.0, 'type': 'product', 'unit_of_measure': None, 'upc': None, 'weight': None}, {'date': None, 'description': '13. Scan & Programming', 'discount': None, 'discount_rate': None, 'end_date': None, 'full_description': '13. Scan & Programming', 'hsn': None, 'id': 933634432, 'lot': None, 'normalized_description': None, 'order': 10, 'price': None, 'quantity': 1.0, 'reference': None, 'section': None, 'sku': None, 'start_date': None, 'tags': [], 'tax': None, 'tax_rate': None, 'text': '13. Scan & Programming\\t\\tRs.5,000/=', 'total': 5.0, 'type': 'service', 'unit_of_measure': None, 'upc': None, 'weight': None}, {'date': None, 'description': '14.A/C Gas', 'discount': None, 'discount_rate': None, 'end_date': None, 'full_description': '14.A/C Gas', 'hsn': None, 'id': 933634433, 'lot': None, 'normalized_description': None, 'order': 11, 'price': None, 'quantity': 1.0, 'reference': None, 'section': None, 'sku': None, 'start_date': None, 'tags': [], 'tax': None, 'tax_rate': None, 'text': '14.A/C Gas\\t\\t\\t\\tRs.4,500/=', 'total': 4.5, 'type': 'service', 'unit_of_measure': None, 'upc': None, 'weight': None}, {'date': None, 'description': '16.Body Sealant', 'discount': None, 'discount_rate': None, 'end_date': None, 'full_description': '16.Body Sealant', 'hsn': None, 'id': 933634434, 'lot': None, 'normalized_description': None, 'order': 12, 'price': None, 'quantity': 1.0, 'reference': None, 'section': None, 'sku': None, 'start_date': None, 'tags': [], 'tax': None, 'tax_rate': None, 'text': '16.Body Sealant\\t\\t\\tRs.2,500/=', 'total': 2.5, 'type': 'product', 'unit_of_measure': None, 'upc': None, 'weight': None}, {'date': None, 'description': '17.Double Tape', 'discount': None, 'discount_rate': None, 'end_date': None, 'full_description': '17.Double Tape', 'hsn': None, 'id': 933634435, 'lot': None, 'normalized_description': None, 'order': 13, 'price': None, 'quantity': 1.0, 'reference': None, 'section': None, 'sku': None, 'start_date': None, 'tags': [], 'tax': None, 'tax_rate': None, 'text': '17.Double Tape\\t\\t\\tRs.300/=', 'total': 300.0, 'type': 'product', 'unit_of_measure': None, 'upc': None, 'weight': None}, {'date': None, 'description': '18.Buffer Clips', 'discount': None, 'discount_rate': None, 'end_date': None, 'full_description': '18.Buffer Clips', 'hsn': None, 'id': 933634436, 'lot': None, 'normalized_description': None, 'order': 14, 'price': None, 'quantity': 1.0, 'reference': None, 'section': None, 'sku': None, 'start_date': None, 'tags': [], 'tax': None, 'tax_rate': None, 'text': '18.Buffer Clips\\t\\t\\tRs.700/=', 'total': 700.0, 'type': 'product', 'unit_of_measure': None, 'upc': None, 'weight': None}]\n",
      "meta  :  {'language': ['en'], 'owner': 'eshanmaduranga0329', 'pages': [{'height': 1280, 'language': ['en'], 'width': 960}], 'processed_pages': 1, 'source': 'api', 'source_documents': [{'height': 1280, 'size_kb': 140, 'width': 960}], 'total_pages': 1}\n",
      "notes  :  None\n",
      "ocr_text  :  VTEC MOTORS\n",
      "\t01/11/2019\n",
      "\n",
      "Final Bill For The Accident Vehicle No - CP CBH 7677\n",
      "HONDA CIVIC FK6\n",
      "Remove & Refitting\n",
      "Rs.13,750/=\n",
      "Repair\n",
      "Rs. 11,500/=\n",
      "Painting (Booth Painting)\n",
      "Rs.31,000/=\n",
      "Parts\n",
      "1. Front Buffer\t\t\tRs.100,000/=\n",
      "2. L/H Front Buffer Retainer\t\tRs.10,000/=\n",
      "3. L/H Head Lamp\t\t\tRs.115,000/=\n",
      "4. L/H Head Lamp Gloss Strip\t\tRs.18,000/=\n",
      "5. L/H Head Lamp Gloss Strip Mounting Brackets\tRs.15,000/=\n",
      "6. Shell\t\t\t\tRs.80,000/=\n",
      "7. Bonnet\t\t\t\tRs.105,000/=\n",
      "8. Bonnet Hinges 02\t\t\tRs.18,000/=\n",
      "9. L/H Head Lamp Lower Bracket\tRs.15,000/=\n",
      "10.Bonnet Beading\t\t\tRs.12,000/=\n",
      "11.R/H Head Lamp Lower Bracket\tRs.15,000/=\n",
      "12.Nose Cut Panel (Plastic)\t\tRs.110,000/=\n",
      "13. Scan & Programming\t\tRs.5,000/=\n",
      "14.A/C Gas\t\t\t\tRs.4,500/=\n",
      "15.Coolant\t\t\t\tRs.1,500/=\n",
      "16.Body Sealant\t\t\tRs.2,500/=\n",
      "17.Double Tape\t\t\tRs.300/=\n",
      "18.Buffer Clips\t\t\tRs.700/=\n",
      "Final Bill Amount\t\t\tRs.683,750/=\n",
      "\n",
      "No:220/3,Thalahena Road, Malabe\n",
      "Email: vtecmotors@hotmail.com\n",
      "Tel:- 0777603000 https://www.facebook.com/pages/VTEC-Motors\n",
      "order_date  :  None\n",
      "payment  :  {'card_number': None, 'display_name': 'Visa', 'terms': None, 'type': 'visa'}\n",
      "pdf_url  :  https://scdn.veryfi.com/receipts/3f0e33479f1ffcc4/79a2aba4-7681-4b2f-aa74-2b18a86e5199/a7cd3a90-8fc1-47f3-b8f0-05b574171ef8.pdf?Expires=1716227177&Signature=VMWMGf~OEKikxB~GIGxRZwyOzhn-2MJOXLD3qTyDnfWv6-1pBPm7HHJuL6~xzJZtS8PdDYKThuW2It5-xg0YV9fi0tlVWluRpMwThz3S9b1gDtwxRlspcYidO8cbJTlgCJ0yCNW3Ooj2lBPfLG8RjzUbLH3h8lQb1QZtS6ryFJhI-UbdlkvcQ9uuGBdVljXdQgHqx0AqXK75978yrk~YwQDVY2~0AnYcXsIM8frKeU2qKi3DPx2bukKJ3qn74lNCJ0QoKjXHVDfamGZYkwe6X6Vi08Mz49p9VxseqWfBGoBkDn9X~hFWBlvONlCpU3EeWoOJiR-Qo35KEqI1NGU9og__&Key-Pair-Id=APKAJCILBXEJFZF4DCHQ\n",
      "purchase_order_number  :  None\n",
      "reference_number  :  VBJBE-53441\n",
      "rounding  :  None\n",
      "service_end_date  :  None\n",
      "service_start_date  :  None\n",
      "ship_date  :  None\n",
      "ship_to  :  {'address': None, 'name': None, 'parsed_address': None}\n",
      "shipping  :  None\n",
      "store_number  :  220\n",
      "subtotal  :  683750.0\n",
      "tags  :  []\n",
      "tax  :  None\n",
      "tax_lines  :  []\n",
      "tip  :  None\n",
      "total  :  683750.0\n",
      "total_weight  :  None\n",
      "tracking_number  :  None\n",
      "updated_date  :  2024-05-20 17:31:17\n",
      "vendor  :  {'abn_number': None, 'account_number': None, 'address': '220/3,Thalahena Road, Malabe', 'bank_name': None, 'bank_number': None, 'bank_swift': None, 'category': None, 'email': 'vtecmotors@hotmail.com', 'fax_number': None, 'iban': None, 'lat': None, 'lng': None, 'logo': 'https://cdn.veryfi.com/logos/tmp/ad906b83-0689-4f85-b878-e124ce14f723.png', 'name': 'VTEC MOTORS', 'phone_number': '0777603000', 'raw_address': None, 'raw_name': 'VTEC MOTORS', 'reg_number': None, 'type': None, 'vat_number': None, 'web': 'https://www.facebook.com'}\n"
     ]
    }
   ],
   "source": [
    "# print itemwise this dictionery\n",
    "for key, value in response.items():\n",
    "    print(key, ' : ', value)"
   ]
  },
  {
   "cell_type": "code",
   "execution_count": null,
   "metadata": {},
   "outputs": [
    {
     "name": "stdout",
     "output_type": "stream",
     "text": [
      "VTEC MOTORS\n",
      "\t01/11/2019\n",
      "\n",
      "Final Bill For The Accident Vehicle No - CP CBH 7677\n",
      "HONDA CIVIC FK6\n",
      "Remove & Refitting\n",
      "Rs.13,750/=\n",
      "Repair\n",
      "Rs. 11,500/=\n",
      "Painting (Booth Painting)\n",
      "Rs.31,000/=\n",
      "Parts\n",
      "1. Front Buffer\t\t\tRs.100,000/=\n",
      "2. L/H Front Buffer Retainer\t\tRs.10,000/=\n",
      "3. L/H Head Lamp\t\t\tRs.115,000/=\n",
      "4. L/H Head Lamp Gloss Strip\t\tRs.18,000/=\n",
      "5. L/H Head Lamp Gloss Strip Mounting Brackets\tRs.15,000/=\n",
      "6. Shell\t\t\t\tRs.80,000/=\n",
      "7. Bonnet\t\t\t\tRs.105,000/=\n",
      "8. Bonnet Hinges 02\t\t\tRs.18,000/=\n",
      "9. L/H Head Lamp Lower Bracket\tRs.15,000/=\n",
      "10.Bonnet Beading\t\t\tRs.12,000/=\n",
      "11.R/H Head Lamp Lower Bracket\tRs.15,000/=\n",
      "12.Nose Cut Panel (Plastic)\t\tRs.110,000/=\n",
      "13. Scan & Programming\t\tRs.5,000/=\n",
      "14.A/C Gas\t\t\t\tRs.4,500/=\n",
      "15.Coolant\t\t\t\tRs.1,500/=\n",
      "16.Body Sealant\t\t\tRs.2,500/=\n",
      "17.Double Tape\t\t\tRs.300/=\n",
      "18.Buffer Clips\t\t\tRs.700/=\n",
      "Final Bill Amount\t\t\tRs.683,750/=\n",
      "\n",
      "No:220/3,Thalahena Road, Malabe\n",
      "Email: vtecmotors@hotmail.com\n",
      "Tel:- 0777603000 https://www.facebook.com/pages/VTEC-Motors\n"
     ]
    }
   ],
   "source": [
    "ocr_text = response['ocr_text']\n",
    "print(ocr_text)"
   ]
  },
  {
   "cell_type": "code",
   "execution_count": null,
   "metadata": {},
   "outputs": [
    {
     "name": "stdout",
     "output_type": "stream",
     "text": [
      "2019-11-01 00:00:00\n"
     ]
    }
   ],
   "source": [
    "bill_date = response['date']\n",
    "print(bill_date)"
   ]
  },
  {
   "cell_type": "code",
   "execution_count": null,
   "metadata": {},
   "outputs": [
    {
     "name": "stdout",
     "output_type": "stream",
     "text": [
      "683750.0\n"
     ]
    }
   ],
   "source": [
    "Total_amount = response['total']\n",
    "print(Total_amount)"
   ]
  },
  {
   "cell_type": "code",
   "execution_count": null,
   "metadata": {},
   "outputs": [],
   "source": [
    "\n"
   ]
  },
  {
   "cell_type": "code",
   "execution_count": null,
   "metadata": {},
   "outputs": [
    {
     "name": "stdout",
     "output_type": "stream",
     "text": [
      "VTEC MOTORS\n",
      "\t\n",
      "\n",
      "Final Bill For The Accident Vehicle No - CP CBH 7677\n",
      "HONDA CIVIC FK6\n",
      "Remove & Refitting\n",
      "\n",
      "Repair\n",
      "Rs. 11,500/=\n",
      "Painting (Booth Painting)\n",
      "\n",
      "Parts\n",
      "1. Front Buffer\t\t\t\n",
      "2. L/H Front Buffer Retainer\t\t\n",
      "3. L/H Head Lamp\t\t\t\n",
      "4. L/H Head Lamp Gloss Strip\t\t\n",
      "5. L/H Head Lamp Gloss Strip Mounting Brackets\t\n",
      "6. Shell\t\t\t\t\n",
      "7. Bonnet\t\t\t\t\n",
      "8. Bonnet Hinges 02\t\t\t\n",
      "9. L/H Head Lamp Lower Bracket\t\n",
      "10.Bonnet Beading\t\t\t\n",
      "11.R/H Head Lamp Lower Bracket\t\n",
      "12.Nose Cut Panel (Plastic)\t\t\n",
      "13. Scan & Programming\t\t\n",
      "14.A/C Gas\t\t\t\t\n",
      "15.Coolant\t\t\t\t\n",
      "16.Body Sealant\t\t\t\n",
      "17.Double Tape\t\t\t\n",
      "18.Buffer Clips\t\t\t\n",
      "Final Bill Amount\t\t\t\n",
      "\n",
      "No:220/3,Thalahena Road, Malabe\n",
      "Email: \n",
      "Tel:-\n"
     ]
    }
   ],
   "source": [
    "import re\n",
    "\n",
    "def clean_text(text):\n",
    "    # Remove links\n",
    "    text = re.sub(r'http\\S+', '', text)\n",
    "    \n",
    "    # Remove email addresses\n",
    "    text = re.sub(r'\\b[A-Za-z0-9._%+-]+@[A-Za-z0-9.-]+\\.[A-Z|a-z]{2,}\\b', '', text)\n",
    "    \n",
    "    # Remove phone numbers\n",
    "    text = re.sub(r'\\b\\d{10}\\b', '', text)\n",
    "    \n",
    "    # Remove dates (assuming in dd/mm/yyyy format)\n",
    "    text = re.sub(r'\\b\\d{1,2}/\\d{1,2}/\\d{4}\\b', '', text)\n",
    "    \n",
    "   # Remove price format like Rs.100,000/=\n",
    "    text = re.sub(r'Rs\\.\\d+(,\\d+)*\\/=', '', text)\n",
    "    \n",
    "    \n",
    "    \n",
    "    return text.strip()\n",
    "\n",
    "\n",
    "\n",
    "# Clean the text\n",
    "cleaned_text = clean_text(ocr_text)\n",
    "\n",
    "# Split the cleaned text into sentences and add to a list\n",
    "sentences_list = cleaned_text.split('\\n')\n",
    "\n",
    "# Print the list of sentences\n",
    "print(cleaned_text)\n"
   ]
  },
  {
   "cell_type": "code",
   "execution_count": null,
   "metadata": {},
   "outputs": [
    {
     "data": {
      "text/plain": [
       "['VTEC MOTORS',\n",
       " '\\t',\n",
       " '',\n",
       " 'Final Bill For The Accident Vehicle No - CP CBH 7677',\n",
       " 'HONDA CIVIC FK6',\n",
       " 'Remove & Refitting',\n",
       " '',\n",
       " 'Repair',\n",
       " 'Rs. 11,500/=',\n",
       " 'Painting (Booth Painting)',\n",
       " '',\n",
       " 'Parts',\n",
       " '1. Front Buffer\\t\\t\\t',\n",
       " '2. L/H Front Buffer Retainer\\t\\t',\n",
       " '3. L/H Head Lamp\\t\\t\\t',\n",
       " '4. L/H Head Lamp Gloss Strip\\t\\t',\n",
       " '5. L/H Head Lamp Gloss Strip Mounting Brackets\\t',\n",
       " '6. Shell\\t\\t\\t\\t',\n",
       " '7. Bonnet\\t\\t\\t\\t',\n",
       " '8. Bonnet Hinges 02\\t\\t\\t',\n",
       " '9. L/H Head Lamp Lower Bracket\\t',\n",
       " '10.Bonnet Beading\\t\\t\\t',\n",
       " '11.R/H Head Lamp Lower Bracket\\t',\n",
       " '12.Nose Cut Panel (Plastic)\\t\\t',\n",
       " '13. Scan & Programming\\t\\t',\n",
       " '14.A/C Gas\\t\\t\\t\\t',\n",
       " '15.Coolant\\t\\t\\t\\t',\n",
       " '16.Body Sealant\\t\\t\\t',\n",
       " '17.Double Tape\\t\\t\\t',\n",
       " '18.Buffer Clips\\t\\t\\t',\n",
       " 'Final Bill Amount\\t\\t\\t',\n",
       " '',\n",
       " 'No:220/3,Thalahena Road, Malabe',\n",
       " 'Email: ',\n",
       " 'Tel:-']"
      ]
     },
     "execution_count": 16,
     "metadata": {},
     "output_type": "execute_result"
    }
   ],
   "source": [
    "sentences_list"
   ]
  },
  {
   "cell_type": "code",
   "execution_count": null,
   "metadata": {},
   "outputs": [],
   "source": [
    "# import nltk\n",
    "# from nltk.corpus import stopwords\n",
    "# import string\n",
    "\n",
    "# nltk.download('stopwords')\n",
    "\n",
    "# def preprocess_text(text):\n",
    "#     # Remove punctuation marks\n",
    "#     text = text.translate(str.maketrans('', '', string.punctuation))\n",
    "\n",
    "#     # Remove escape characters\n",
    "#     text = text.replace('\\n', ' ').replace('\\r', ' ').replace('\\t', ' ')\n",
    "\n",
    "#     # Tokenize the text into words\n",
    "#     words = nltk.word_tokenize(text)\n",
    "\n",
    "\n",
    "#     # Remove stop words\n",
    "#     stop_words = set(stopwords.words('english'))\n",
    "#     filtered_words = [word for word in words if word.lower() not in stop_words]\n",
    "\n",
    "#     # Join the filtered words back into a sentence\n",
    "#     processed_text = ' '.join(filtered_words)\n",
    "\n",
    "#     return processed_text\n"
   ]
  },
  {
   "cell_type": "code",
   "execution_count": null,
   "metadata": {},
   "outputs": [],
   "source": [
    "\n",
    "import string\n",
    "\n",
    "\n",
    "def preprocess_text(text):\n",
    "    # Remove punctuation marks\n",
    "    text = text.translate(str.maketrans('', '', string.punctuation))\n",
    "\n",
    "    # Remove escape characters\n",
    "    text = text.replace('\\n', ' ').replace('\\r', ' ').replace('\\t', ' ')\n",
    "\n",
    "    #remove unnesesarry  spaces \n",
    "    text = re.sub(' +', ' ', text)\n",
    "\n",
    "    # remove numbers\n",
    "    text = re.sub(r'\\d+', '', text)\n",
    "    \n",
    "    # Convert to lowercase\n",
    "    processed_text = text.lower()\n",
    "\n",
    "    \n",
    "    \n",
    "\n",
    "\n",
    "\n",
    "\n",
    "    return processed_text\n"
   ]
  },
  {
   "cell_type": "code",
   "execution_count": null,
   "metadata": {},
   "outputs": [
    {
     "name": "stdout",
     "output_type": "stream",
     "text": [
      "Extracted Items:\n",
      "VTEC MOTORS\n",
      "\t\n",
      "\n",
      "Final Bill For The Accident Vehicle No - CP CBH 7677\n",
      "HONDA CIVIC FK6\n",
      "Remove & Refitting\n",
      "\n",
      "Repair\n",
      "Rs. 11,500/=\n",
      "Painting (Booth Painting)\n",
      "\n",
      "Parts\n",
      "1. Front Buffer\t\t\t\n",
      "2. L/H Front Buffer Retainer\t\t\n",
      "3. L/H Head Lamp\t\t\t\n",
      "4. L/H Head Lamp Gloss Strip\t\t\n",
      "5. L/H Head Lamp Gloss Strip Mounting Brackets\t\n",
      "6. Shell\t\t\t\t\n",
      "7. Bonnet\t\t\t\t\n",
      "8. Bonnet Hinges 02\t\t\t\n",
      "9. L/H Head Lamp Lower Bracket\t\n",
      "10.Bonnet Beading\t\t\t\n",
      "11.R/H Head Lamp Lower Bracket\t\n",
      "12.Nose Cut Panel (Plastic)\t\t\n",
      "13. Scan & Programming\t\t\n",
      "14.A/C Gas\t\t\t\t\n",
      "15.Coolant\t\t\t\t\n",
      "16.Body Sealant\t\t\t\n",
      "17.Double Tape\t\t\t\n",
      "18.Buffer Clips\t\t\t\n",
      "Final Bill Amount\t\t\t\n",
      "\n",
      "No:220/3,Thalahena Road, Malabe\n",
      "Email: \n",
      "Tel:-\n"
     ]
    }
   ],
   "source": [
    "print(\"Extracted Items:\")\n",
    "for item in sentences_list:\n",
    "    print(item)"
   ]
  },
  {
   "cell_type": "code",
   "execution_count": null,
   "metadata": {},
   "outputs": [],
   "source": [
    "processed_list = []\n",
    "\n",
    "for item in sentences_list:\n",
    "    processed_item = preprocess_text(item)\n",
    "    processed_list.append(processed_item)\n"
   ]
  },
  {
   "cell_type": "code",
   "execution_count": null,
   "metadata": {},
   "outputs": [
    {
     "data": {
      "text/plain": [
       "['vtec motors',\n",
       " ' ',\n",
       " '',\n",
       " 'final bill for the accident vehicle no cp cbh ',\n",
       " 'honda civic fk',\n",
       " 'remove refitting',\n",
       " '',\n",
       " 'repair',\n",
       " 'rs ',\n",
       " 'painting booth painting',\n",
       " '',\n",
       " 'parts',\n",
       " ' front buffer ',\n",
       " ' lh front buffer retainer ',\n",
       " ' lh head lamp ',\n",
       " ' lh head lamp gloss strip ',\n",
       " ' lh head lamp gloss strip mounting brackets ',\n",
       " ' shell ',\n",
       " ' bonnet ',\n",
       " ' bonnet hinges  ',\n",
       " ' lh head lamp lower bracket ',\n",
       " 'bonnet beading ',\n",
       " 'rh head lamp lower bracket ',\n",
       " 'nose cut panel plastic ',\n",
       " ' scan programming ',\n",
       " 'ac gas ',\n",
       " 'coolant ',\n",
       " 'body sealant ',\n",
       " 'double tape ',\n",
       " 'buffer clips ',\n",
       " 'final bill amount ',\n",
       " '',\n",
       " 'nothalahena road malabe',\n",
       " 'email ',\n",
       " 'tel']"
      ]
     },
     "execution_count": 21,
     "metadata": {},
     "output_type": "execute_result"
    }
   ],
   "source": [
    "processed_list"
   ]
  },
  {
   "cell_type": "code",
   "execution_count": null,
   "metadata": {},
   "outputs": [
    {
     "name": "stdout",
     "output_type": "stream",
     "text": [
      "Processed Items:\n",
      "vtec motors\n",
      " \n",
      "\n",
      "final bill for the accident vehicle no cp cbh \n",
      "honda civic fk\n",
      "remove refitting\n",
      "\n",
      "repair\n",
      "rs \n",
      "painting booth painting\n",
      "\n",
      "parts\n",
      " front buffer \n",
      " lh front buffer retainer \n",
      " lh head lamp \n",
      " lh head lamp gloss strip \n",
      " lh head lamp gloss strip mounting brackets \n",
      " shell \n",
      " bonnet \n",
      " bonnet hinges  \n",
      " lh head lamp lower bracket \n",
      "bonnet beading \n",
      "rh head lamp lower bracket \n",
      "nose cut panel plastic \n",
      " scan programming \n",
      "ac gas \n",
      "coolant \n",
      "body sealant \n",
      "double tape \n",
      "buffer clips \n",
      "final bill amount \n",
      "\n",
      "nothalahena road malabe\n",
      "email \n",
      "tel\n"
     ]
    }
   ],
   "source": [
    "# print the processed list\n",
    "print(\"Processed Items:\")\n",
    "for item in processed_list:\n",
    "    print(item)"
   ]
  },
  {
   "cell_type": "code",
   "execution_count": null,
   "metadata": {},
   "outputs": [
    {
     "data": {
      "text/plain": [
       "['vtec motors',\n",
       " 'final bill for the accident vehicle no cp cbh ',\n",
       " 'honda civic fk',\n",
       " 'remove refitting',\n",
       " 'repair',\n",
       " 'rs ',\n",
       " 'painting booth painting',\n",
       " 'parts',\n",
       " ' front buffer ',\n",
       " ' lh front buffer retainer ',\n",
       " ' lh head lamp ',\n",
       " ' lh head lamp gloss strip ',\n",
       " ' lh head lamp gloss strip mounting brackets ',\n",
       " ' shell ',\n",
       " ' bonnet ',\n",
       " ' bonnet hinges  ',\n",
       " ' lh head lamp lower bracket ',\n",
       " 'bonnet beading ',\n",
       " 'rh head lamp lower bracket ',\n",
       " 'nose cut panel plastic ',\n",
       " ' scan programming ',\n",
       " 'ac gas ',\n",
       " 'coolant ',\n",
       " 'body sealant ',\n",
       " 'double tape ',\n",
       " 'buffer clips ',\n",
       " 'final bill amount ',\n",
       " 'nothalahena road malabe',\n",
       " 'email ',\n",
       " 'tel']"
      ]
     },
     "execution_count": 23,
     "metadata": {},
     "output_type": "execute_result"
    }
   ],
   "source": [
    "# remove all null items and only space chraacters  from the processed_list\n",
    "processed_list = list(filter(None, processed_list))\n",
    "processed_list = [item for item in processed_list if item.strip()]\n",
    "processed_list"
   ]
  },
  {
   "cell_type": "code",
   "execution_count": null,
   "metadata": {},
   "outputs": [
    {
     "name": "stdout",
     "output_type": "stream",
     "text": [
      "Processed Items:\n",
      "vtec motors\n",
      "final bill for the accident vehicle no cp cbh \n",
      "honda civic fk\n",
      "remove refitting\n",
      "repair\n",
      "rs \n",
      "painting booth painting\n",
      "parts\n",
      " front buffer \n",
      " lh front buffer retainer \n",
      " lh head lamp \n",
      " lh head lamp gloss strip \n",
      " lh head lamp gloss strip mounting brackets \n",
      " shell \n",
      " bonnet \n",
      " bonnet hinges  \n",
      " lh head lamp lower bracket \n",
      "bonnet beading \n",
      "rh head lamp lower bracket \n",
      "nose cut panel plastic \n",
      " scan programming \n",
      "ac gas \n",
      "coolant \n",
      "body sealant \n",
      "double tape \n",
      "buffer clips \n",
      "final bill amount \n",
      "nothalahena road malabe\n",
      "email \n",
      "tel\n"
     ]
    }
   ],
   "source": [
    "print(\"Processed Items:\")\n",
    "for item in processed_list:\n",
    "    print(item)"
   ]
  },
  {
   "cell_type": "code",
   "execution_count": null,
   "metadata": {},
   "outputs": [],
   "source": []
  },
  {
   "cell_type": "code",
   "execution_count": null,
   "metadata": {},
   "outputs": [],
   "source": []
  },
  {
   "cell_type": "code",
   "execution_count": null,
   "metadata": {},
   "outputs": [
    {
     "name": "stdout",
     "output_type": "stream",
     "text": [
      "Front Buffer\n",
      "L/H Front Buffer Retainer\n",
      "L/H Head Lamp\n",
      "L/H Head Lamp Gloss Strip\n",
      "L/H Head Lamp Gloss Strip Mounting Brackets\n",
      "Bonnet Hinges 02\n",
      "L/H Head Lamp Lower Bracket\n",
      "10.Bonnet Beading\n",
      "11.R/H Head Lamp Lower Bracket\n",
      "12.Nose Cut Panel (Plastic)\n",
      "13. Scan & Programming\n",
      "14.A/C Gas\n",
      "16.Body Sealant\n",
      "17.Double Tape\n",
      "18.Buffer Clips\n"
     ]
    }
   ],
   "source": [
    "# iterate through line items using for loop\n",
    "for item in response['line_items']:\n",
    "    print(item['description'])"
   ]
  },
  {
   "cell_type": "code",
   "execution_count": null,
   "metadata": {},
   "outputs": [],
   "source": []
  }
 ],
 "metadata": {
  "kernelspec": {
   "display_name": "Python 3",
   "language": "python",
   "name": "python3"
  },
  "language_info": {
   "codemirror_mode": {
    "name": "ipython",
    "version": 3
   },
   "file_extension": ".py",
   "mimetype": "text/x-python",
   "name": "python",
   "nbconvert_exporter": "python",
   "pygments_lexer": "ipython3",
   "version": "3.12.2"
  }
 },
 "nbformat": 4,
 "nbformat_minor": 2
}
