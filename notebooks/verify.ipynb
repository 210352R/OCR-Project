{
 "cells": [
  {
   "cell_type": "code",
   "execution_count": null,
   "metadata": {},
   "outputs": [],
   "source": [
    "# ! pip install veryfi"
   ]
  },
  {
   "cell_type": "code",
   "execution_count": 2,
   "metadata": {},
   "outputs": [],
   "source": [
    "# remove limiting max columns and rows\n",
    "import os # To import test image files\n",
    "import cv2 # To work with opencv images\n",
    "from PIL import Image # Image submodule to work with pillow images"
   ]
  },
  {
   "cell_type": "code",
   "execution_count": 3,
   "metadata": {},
   "outputs": [],
   "source": [
    "from veryfi import Client\n",
    "\t\n",
    "\n",
    "# get your keys here: https://hub.veryfi.com/api/\n",
    "client_id = 'vrfudW65UwDLHIbBW7lTkmGwmzccvdTEVAv2PsE'\n",
    "client_secret = 'RUMtwhtu9sGsrTdh2R16oUEsIt66Af40buv5AZ49tnLWUu1fTHWgYjwkNPFi4lhGrBljbZK5vcheBVjrsXJG3sh0hNB5hY0lgmckvKlk5UdH9sKyWBhjE9Tf4YibKDaU'\n",
    "username = 'eshanmaduranga0329'\n",
    "api_key = 'edd21201d02d5e44a7de71315fd1a01b'\n",
    "\n",
    "veryfi_client = Client(client_id, client_secret, username, api_key)"
   ]
  },
  {
   "cell_type": "code",
   "execution_count": 4,
   "metadata": {},
   "outputs": [],
   "source": [
    "def show_image(img_path, size=(800, 800)):\n",
    "    image = cv2.imread(img_path)\n",
    "    image = cv2.resize(image, size)\n",
    "    \n",
    "    cv2.imshow(\"IMAGE\", image)\n",
    "    cv2.waitKey(0)\n",
    "    cv2.destroyAllWindows()"
   ]
  },
  {
   "cell_type": "code",
   "execution_count": 6,
   "metadata": {},
   "outputs": [
    {
     "name": "stdout",
     "output_type": "stream",
     "text": [
      "{'account_number': None, 'bill_to': {'address': None, 'name': None, 'parsed_address': None, 'vat_number': None}, 'cashback': None, 'category': None, 'created_date': '2024-04-24 02:38:44', 'currency_code': 'INR', 'date': '2019-11-01 00:00:00', 'delivery_date': None, 'discount': None, 'document_reference_number': None, 'document_title': None, 'document_type': 'receipt', 'due_date': None, 'duplicate_of': 201780597, 'external_id': None, 'id': 202457879, 'img_file_name': '202457879.jpg', 'img_thumbnail_url': 'https://scdn.veryfi.com/receipts/3f0e33479f1ffcc4/daa575e7-c947-4a09-9911-831414ecdd24/thumbnail.jpg?Expires=1713927227&Signature=VresNMpuc12TZsng2G7qJyefku4xLP1d~DSmek6-99he13yLZLZe3jcBL9t8RW2cknRawJn~BQ7Yhjv~sgaI1u66ygZTtFwDVTwH0-nfIeiX4UYEBPnrnaB73CdELBlWoBJqRQpkv7hyc1aIAwzdyGxkI7rlFSCo8qigJCC-AQ9I8hKCZro3OyES1J5pd7wwFkfJSBV2IqdZ9XH4WvWnd6TSkb4s6DM9VwWruh1aJDfk12ZNoB7nw9P9SW5-H8AYDFhUTuRG0My8ud0d-Xx5OxtWPJwbKJg~gANQ5dRz6bUiudFILPXmr~xoRCCOhMjoak3WUfONAVndgpHZ605iQw__&Key-Pair-Id=APKAJCILBXEJFZF4DCHQ', 'img_url': 'https://scdn.veryfi.com/receipts/3f0e33479f1ffcc4/daa575e7-c947-4a09-9911-831414ecdd24/5ded9704-8a0b-498e-86cc-cff0fa266ae4.jpg?Expires=1713927227&Signature=a9a3R~lKHfd7Y9e4mMghh76il4yEWPHbsoTRSdqvp~ntwUNGwYxhnPJapOIbdLo7fK66OueDQX9VuKpk8PIAPyXh0AUXfU7mxyVXHt8HfaAwB5LTdGVWUfyoJrREJhyIU7KjPyKQUoM8hYD~49brjQUBHTmLkOJEyPT0xXev-pEp9AoLF~s4-uY5Vh6RMTzXn-gxIDbnEOLZRMjoieVxzfBvq5RJu4t0ttcfrf80vr5wxgM7bB9owbdoi91az1LAhKu1cO0Y2tIQ0enT78Fp4d~TEL5kJrK0bc0NT5bpgWZtcVekwnrpCLRKEelABGdKOkElvJvieqY3hiF3x-q1VQ__&Key-Pair-Id=APKAJCILBXEJFZF4DCHQ', 'insurance': None, 'invoice_number': '7677', 'is_duplicate': True, 'is_money_in': False, 'line_items': [{'date': None, 'description': 'Painting (Booth Painting)\\nRs.31,000/=\\nParts', 'discount': None, 'discount_rate': None, 'end_date': None, 'full_description': 'Painting (Booth Painting) Rs.31,000/= Parts', 'hsn': None, 'id': 899605841, 'lot': None, 'normalized_description': None, 'order': 0, 'price': None, 'quantity': 1.0, 'reference': None, 'section': None, 'sku': None, 'start_date': None, 'tags': [], 'tax': None, 'tax_rate': None, 'text': 'Painting (Booth Painting)\\nRs.31,000/=\\nParts', 'total': None, 'type': 'product', 'unit_of_measure': None, 'upc': None, 'weight': None}, {'date': None, 'description': 'Front Buffer', 'discount': None, 'discount_rate': None, 'end_date': None, 'full_description': 'Front Buffer', 'hsn': None, 'id': 899605843, 'lot': None, 'normalized_description': None, 'order': 1, 'price': None, 'quantity': 1.0, 'reference': None, 'section': None, 'sku': None, 'start_date': None, 'tags': [], 'tax': None, 'tax_rate': None, 'text': '1. Front Buffer\\t\\t\\tRs.100,000/=', 'total': 100.0, 'type': 'product', 'unit_of_measure': None, 'upc': None, 'weight': None}, {'date': None, 'description': 'L/H Front Buffer Retainer', 'discount': None, 'discount_rate': None, 'end_date': None, 'full_description': 'L/H Front Buffer Retainer', 'hsn': None, 'id': 899605845, 'lot': None, 'normalized_description': None, 'order': 2, 'price': None, 'quantity': 1.0, 'reference': None, 'section': None, 'sku': None, 'start_date': None, 'tags': [], 'tax': None, 'tax_rate': None, 'text': '2. L/H Front Buffer Retainer\\t\\tRs.10,000/=', 'total': 10.0, 'type': 'product', 'unit_of_measure': None, 'upc': None, 'weight': None}, {'date': None, 'description': 'L/H Head Lamp', 'discount': None, 'discount_rate': None, 'end_date': None, 'full_description': 'L/H Head Lamp', 'hsn': None, 'id': 899605847, 'lot': None, 'normalized_description': None, 'order': 3, 'price': None, 'quantity': 1.0, 'reference': None, 'section': None, 'sku': None, 'start_date': None, 'tags': [], 'tax': None, 'tax_rate': None, 'text': '3. L/H Head Lamp\\t\\t\\tRs.115,000/=', 'total': 115.0, 'type': 'product', 'unit_of_measure': None, 'upc': None, 'weight': None}, {'date': None, 'description': 'L/H Head Lamp Gloss Strip', 'discount': None, 'discount_rate': None, 'end_date': None, 'full_description': 'L/H Head Lamp Gloss Strip', 'hsn': None, 'id': 899605849, 'lot': None, 'normalized_description': None, 'order': 4, 'price': None, 'quantity': 1.0, 'reference': None, 'section': None, 'sku': None, 'start_date': None, 'tags': [], 'tax': None, 'tax_rate': None, 'text': '4. L/H Head Lamp Gloss Strip\\t\\tRs.18,000/=', 'total': 18.0, 'type': 'product', 'unit_of_measure': None, 'upc': None, 'weight': None}, {'date': None, 'description': 'L/H Head Lamp Gloss Strip Mounting Brackets', 'discount': None, 'discount_rate': None, 'end_date': None, 'full_description': 'L/H Head Lamp Gloss Strip Mounting Brackets', 'hsn': None, 'id': 899605850, 'lot': None, 'normalized_description': None, 'order': 5, 'price': None, 'quantity': 1.0, 'reference': None, 'section': None, 'sku': None, 'start_date': None, 'tags': [], 'tax': None, 'tax_rate': None, 'text': '5. L/H Head Lamp Gloss Strip Mounting Brackets\\tRs.15,000/=', 'total': 15.0, 'type': 'product', 'unit_of_measure': None, 'upc': None, 'weight': None}, {'date': None, 'description': 'Bonnet', 'discount': None, 'discount_rate': None, 'end_date': None, 'full_description': 'Bonnet', 'hsn': None, 'id': 899605851, 'lot': None, 'normalized_description': None, 'order': 6, 'price': None, 'quantity': 1.0, 'reference': None, 'section': None, 'sku': None, 'start_date': None, 'tags': [], 'tax': None, 'tax_rate': None, 'text': '7. Bonnet\\t\\t\\t\\tRs.105,000/=', 'total': 105.0, 'type': 'product', 'unit_of_measure': None, 'upc': None, 'weight': None}, {'date': None, 'description': 'Bonnet Hinges 02', 'discount': None, 'discount_rate': None, 'end_date': None, 'full_description': 'Bonnet Hinges 02', 'hsn': None, 'id': 899605852, 'lot': None, 'normalized_description': None, 'order': 7, 'price': None, 'quantity': 1.0, 'reference': None, 'section': None, 'sku': None, 'start_date': None, 'tags': [], 'tax': None, 'tax_rate': None, 'text': '8. Bonnet Hinges 02\\t\\t\\tRs.18,000/=', 'total': 18.0, 'type': 'product', 'unit_of_measure': None, 'upc': None, 'weight': None}, {'date': None, 'description': 'L/H Head Lamp Lower Bracket', 'discount': None, 'discount_rate': None, 'end_date': None, 'full_description': 'L/H Head Lamp Lower Bracket', 'hsn': None, 'id': 899605853, 'lot': None, 'normalized_description': None, 'order': 8, 'price': None, 'quantity': 1.0, 'reference': None, 'section': None, 'sku': None, 'start_date': None, 'tags': [], 'tax': None, 'tax_rate': None, 'text': '9. L/H Head Lamp Lower Bracket\\tRs.15,000/=', 'total': 15.0, 'type': 'product', 'unit_of_measure': None, 'upc': None, 'weight': None}, {'date': None, 'description': '10.Bonnet Beading', 'discount': None, 'discount_rate': None, 'end_date': None, 'full_description': '10.Bonnet Beading', 'hsn': None, 'id': 899605854, 'lot': None, 'normalized_description': None, 'order': 9, 'price': None, 'quantity': 1.0, 'reference': None, 'section': None, 'sku': None, 'start_date': None, 'tags': [], 'tax': None, 'tax_rate': None, 'text': '10.Bonnet Beading\\t\\t\\tRs.12,000/=', 'total': 12.0, 'type': 'product', 'unit_of_measure': None, 'upc': None, 'weight': None}, {'date': None, 'description': '11.R/H Head Lamp Lower Bracket', 'discount': None, 'discount_rate': None, 'end_date': None, 'full_description': '11.R/H Head Lamp Lower Bracket', 'hsn': None, 'id': 899605855, 'lot': None, 'normalized_description': None, 'order': 10, 'price': None, 'quantity': 1.0, 'reference': None, 'section': None, 'sku': None, 'start_date': None, 'tags': [], 'tax': None, 'tax_rate': None, 'text': '11.R/H Head Lamp Lower Bracket\\tRs.15,000/=', 'total': 15.0, 'type': 'product', 'unit_of_measure': None, 'upc': None, 'weight': None}, {'date': None, 'description': '12.Nose Cut Panel (Plastic)', 'discount': None, 'discount_rate': None, 'end_date': None, 'full_description': '12.Nose Cut Panel (Plastic)', 'hsn': None, 'id': 899605856, 'lot': None, 'normalized_description': None, 'order': 11, 'price': None, 'quantity': 1.0, 'reference': None, 'section': None, 'sku': None, 'start_date': None, 'tags': [], 'tax': None, 'tax_rate': None, 'text': '12.Nose Cut Panel (Plastic)\\t\\tRs.110,000/=', 'total': 110.0, 'type': 'product', 'unit_of_measure': None, 'upc': None, 'weight': None}, {'date': None, 'description': '13. Scan & Programming', 'discount': None, 'discount_rate': None, 'end_date': None, 'full_description': '13. Scan & Programming', 'hsn': None, 'id': 899605857, 'lot': None, 'normalized_description': None, 'order': 12, 'price': None, 'quantity': 1.0, 'reference': None, 'section': None, 'sku': None, 'start_date': None, 'tags': [], 'tax': None, 'tax_rate': None, 'text': '13. Scan & Programming\\t\\tRs.5,000/=', 'total': 5.0, 'type': 'service', 'unit_of_measure': None, 'upc': None, 'weight': None}, {'date': None, 'description': '14.A/C Gas', 'discount': None, 'discount_rate': None, 'end_date': None, 'full_description': '14.A/C Gas', 'hsn': None, 'id': 899605858, 'lot': None, 'normalized_description': None, 'order': 13, 'price': None, 'quantity': 1.0, 'reference': None, 'section': None, 'sku': None, 'start_date': None, 'tags': [], 'tax': None, 'tax_rate': None, 'text': '14.A/C Gas\\t\\t\\t\\tRs.4,500/=', 'total': 4.5, 'type': 'product', 'unit_of_measure': None, 'upc': None, 'weight': None}, {'date': None, 'description': '16.Body Sealant', 'discount': None, 'discount_rate': None, 'end_date': None, 'full_description': '16.Body Sealant', 'hsn': None, 'id': 899605859, 'lot': None, 'normalized_description': None, 'order': 14, 'price': None, 'quantity': 1.0, 'reference': None, 'section': None, 'sku': None, 'start_date': None, 'tags': [], 'tax': None, 'tax_rate': None, 'text': '16.Body Sealant\\t\\t\\tRs.2,500/=', 'total': 2.5, 'type': 'product', 'unit_of_measure': None, 'upc': None, 'weight': None}, {'date': None, 'description': '17.Double Tape', 'discount': None, 'discount_rate': None, 'end_date': None, 'full_description': '17.Double Tape', 'hsn': None, 'id': 899605860, 'lot': None, 'normalized_description': None, 'order': 15, 'price': None, 'quantity': 1.0, 'reference': None, 'section': None, 'sku': None, 'start_date': None, 'tags': [], 'tax': None, 'tax_rate': None, 'text': '17.Double Tape\\t\\t\\tRs.300/=', 'total': 300.0, 'type': 'product', 'unit_of_measure': None, 'upc': None, 'weight': None}, {'date': None, 'description': '18.Buffer Clips', 'discount': None, 'discount_rate': None, 'end_date': None, 'full_description': '18.Buffer Clips', 'hsn': None, 'id': 899605861, 'lot': None, 'normalized_description': None, 'order': 16, 'price': None, 'quantity': 1.0, 'reference': None, 'section': None, 'sku': None, 'start_date': None, 'tags': [], 'tax': None, 'tax_rate': None, 'text': '18.Buffer Clips\\t\\t\\tRs.700/=', 'total': 700.0, 'type': 'product', 'unit_of_measure': None, 'upc': None, 'weight': None}], 'meta': {'language': ['en'], 'owner': 'eshanmaduranga0329', 'pages': [{'height': 1280, 'language': ['en'], 'width': 960}], 'processed_pages': 1, 'source': 'api', 'source_documents': [{'height': 1280, 'size_kb': 140, 'width': 960}], 'total_pages': 1}, 'notes': None, 'ocr_text': 'VTEC MOTORS\\n\\t01/11/2019\\n\\nFinal Bill For The Accident Vehicle No - CP CBH 7677\\nHONDA CIVIC FK6\\nRemove & Refitting\\nRs.13,750/=\\nRepair\\nRs. 11,500/=\\nPainting (Booth Painting)\\nRs.31,000/=\\nParts\\n1. Front Buffer\\t\\t\\tRs.100,000/=\\n2. L/H Front Buffer Retainer\\t\\tRs.10,000/=\\n3. L/H Head Lamp\\t\\t\\tRs.115,000/=\\n4. L/H Head Lamp Gloss Strip\\t\\tRs.18,000/=\\n5. L/H Head Lamp Gloss Strip Mounting Brackets\\tRs.15,000/=\\n6. Shell\\t\\t\\t\\tRs.80,000/=\\n7. Bonnet\\t\\t\\t\\tRs.105,000/=\\n8. Bonnet Hinges 02\\t\\t\\tRs.18,000/=\\n9. L/H Head Lamp Lower Bracket\\tRs.15,000/=\\n10.Bonnet Beading\\t\\t\\tRs.12,000/=\\n11.R/H Head Lamp Lower Bracket\\tRs.15,000/=\\n12.Nose Cut Panel (Plastic)\\t\\tRs.110,000/=\\n13. Scan & Programming\\t\\tRs.5,000/=\\n14.A/C Gas\\t\\t\\t\\tRs.4,500/=\\n15.Coolant\\t\\t\\t\\tRs.1,500/=\\n16.Body Sealant\\t\\t\\tRs.2,500/=\\n17.Double Tape\\t\\t\\tRs.300/=\\n18.Buffer Clips\\t\\t\\tRs.700/=\\nFinal Bill Amount\\t\\t\\tRs.683,750/=\\n\\nNo:220/3,Thalahena Road, Malabe\\nEmail: vtecmotors@hotmail.com\\nTel:- 0777603000 https://www.facebook.com/pages/VTEC-Motors', 'order_date': None, 'payment': {'card_number': None, 'display_name': None, 'terms': None, 'type': None}, 'pdf_url': 'https://scdn.veryfi.com/receipts/3f0e33479f1ffcc4/daa575e7-c947-4a09-9911-831414ecdd24/c09b39cd-0396-4fb2-8e4f-90b60620642a.pdf?Expires=1713927227&Signature=DGGLynUdD0VOAgB6UHlyiCwXJR~jCXr9zV9iQceQ3odZqf4JxWDd-LGTRxeKEKIUJRj5zWN0FTyaVPrtKTCaZKcwZ153RLg8fEFk78jgSmnS8DgWAHn0dUIB-vIvopoR2akSjTnccnhLxjXVJswzGAqo8NYhjXaTh1CVOCrhX5Zw2AbNTbkdXCfr6qnL26aP7PuPUoCRkGF8Dae4PlaC6jE729NTlGIEPtTFsJ1qm-3NBAyNolh2swPwnHwSljsia8DZr29M-~H5MmKIP6gwq1VoufrVNdYwyhlCnASgjN0O~D5H45x9x18XJRkVwFsj58kCVyU03STL3XVJYvI4vg__&Key-Pair-Id=APKAJCILBXEJFZF4DCHQ', 'purchase_order_number': None, 'reference_number': 'VBIEE-57879', 'rounding': None, 'service_end_date': None, 'service_start_date': None, 'ship_date': None, 'ship_to': {'address': None, 'name': None, 'parsed_address': None}, 'shipping': None, 'store_number': None, 'subtotal': 683750.0, 'tags': [], 'tax': None, 'tax_lines': [], 'tip': None, 'total': 683750.0, 'total_weight': None, 'tracking_number': None, 'updated_date': '2024-04-24 02:38:47', 'vendor': {'abn_number': None, 'account_number': None, 'address': '220/3,Thalahena Road, Malabe', 'bank_name': None, 'bank_number': None, 'bank_swift': None, 'category': None, 'email': 'vtecmotors@hotmail.com', 'fax_number': None, 'iban': None, 'lat': None, 'lng': None, 'logo': 'https://cdn.veryfi.com/logos/tmp/ad906b83-0689-4f85-b878-e124ce14f723.png', 'name': 'VTEC MOTORS', 'phone_number': '0777603000', 'raw_address': '220/3,Thalahena Road, Malabe', 'raw_name': 'VTEC MOTORS', 'reg_number': None, 'type': None, 'vat_number': None, 'web': 'https://www.facebook.com/pages'}}\n"
     ]
    }
   ],
   "source": [
    "categories = ['Grocery', 'Utilities', 'Travel','Car Repair']\n",
    "file_path = '../test_images/bill/AAA.jpeg'\n",
    "# This submits document for processing (takes 3-5 seconds to get response)\n",
    "\n",
    "show_image(file_path)\n",
    "response = veryfi_client.process_document(file_path, categories=categories)\n",
    "print (response)\n"
   ]
  },
  {
   "cell_type": "code",
   "execution_count": 9,
   "metadata": {},
   "outputs": [
    {
     "name": "stdout",
     "output_type": "stream",
     "text": [
      "account_number  :  None\n",
      "bill_to  :  {'address': None, 'name': None, 'parsed_address': None, 'vat_number': None}\n",
      "cashback  :  None\n",
      "category  :  None\n",
      "created_date  :  2024-04-24 02:38:44\n",
      "currency_code  :  INR\n",
      "date  :  2019-11-01 00:00:00\n",
      "delivery_date  :  None\n",
      "discount  :  None\n",
      "document_reference_number  :  None\n",
      "document_title  :  None\n",
      "document_type  :  receipt\n",
      "due_date  :  None\n",
      "duplicate_of  :  201780597\n",
      "external_id  :  None\n",
      "id  :  202457879\n",
      "img_file_name  :  202457879.jpg\n",
      "img_thumbnail_url  :  https://scdn.veryfi.com/receipts/3f0e33479f1ffcc4/daa575e7-c947-4a09-9911-831414ecdd24/thumbnail.jpg?Expires=1713927227&Signature=VresNMpuc12TZsng2G7qJyefku4xLP1d~DSmek6-99he13yLZLZe3jcBL9t8RW2cknRawJn~BQ7Yhjv~sgaI1u66ygZTtFwDVTwH0-nfIeiX4UYEBPnrnaB73CdELBlWoBJqRQpkv7hyc1aIAwzdyGxkI7rlFSCo8qigJCC-AQ9I8hKCZro3OyES1J5pd7wwFkfJSBV2IqdZ9XH4WvWnd6TSkb4s6DM9VwWruh1aJDfk12ZNoB7nw9P9SW5-H8AYDFhUTuRG0My8ud0d-Xx5OxtWPJwbKJg~gANQ5dRz6bUiudFILPXmr~xoRCCOhMjoak3WUfONAVndgpHZ605iQw__&Key-Pair-Id=APKAJCILBXEJFZF4DCHQ\n",
      "img_url  :  https://scdn.veryfi.com/receipts/3f0e33479f1ffcc4/daa575e7-c947-4a09-9911-831414ecdd24/5ded9704-8a0b-498e-86cc-cff0fa266ae4.jpg?Expires=1713927227&Signature=a9a3R~lKHfd7Y9e4mMghh76il4yEWPHbsoTRSdqvp~ntwUNGwYxhnPJapOIbdLo7fK66OueDQX9VuKpk8PIAPyXh0AUXfU7mxyVXHt8HfaAwB5LTdGVWUfyoJrREJhyIU7KjPyKQUoM8hYD~49brjQUBHTmLkOJEyPT0xXev-pEp9AoLF~s4-uY5Vh6RMTzXn-gxIDbnEOLZRMjoieVxzfBvq5RJu4t0ttcfrf80vr5wxgM7bB9owbdoi91az1LAhKu1cO0Y2tIQ0enT78Fp4d~TEL5kJrK0bc0NT5bpgWZtcVekwnrpCLRKEelABGdKOkElvJvieqY3hiF3x-q1VQ__&Key-Pair-Id=APKAJCILBXEJFZF4DCHQ\n",
      "insurance  :  None\n",
      "invoice_number  :  7677\n",
      "is_duplicate  :  True\n",
      "is_money_in  :  False\n",
      "line_items  :  [{'date': None, 'description': 'Painting (Booth Painting)\\nRs.31,000/=\\nParts', 'discount': None, 'discount_rate': None, 'end_date': None, 'full_description': 'Painting (Booth Painting) Rs.31,000/= Parts', 'hsn': None, 'id': 899605841, 'lot': None, 'normalized_description': None, 'order': 0, 'price': None, 'quantity': 1.0, 'reference': None, 'section': None, 'sku': None, 'start_date': None, 'tags': [], 'tax': None, 'tax_rate': None, 'text': 'Painting (Booth Painting)\\nRs.31,000/=\\nParts', 'total': None, 'type': 'product', 'unit_of_measure': None, 'upc': None, 'weight': None}, {'date': None, 'description': 'Front Buffer', 'discount': None, 'discount_rate': None, 'end_date': None, 'full_description': 'Front Buffer', 'hsn': None, 'id': 899605843, 'lot': None, 'normalized_description': None, 'order': 1, 'price': None, 'quantity': 1.0, 'reference': None, 'section': None, 'sku': None, 'start_date': None, 'tags': [], 'tax': None, 'tax_rate': None, 'text': '1. Front Buffer\\t\\t\\tRs.100,000/=', 'total': 100.0, 'type': 'product', 'unit_of_measure': None, 'upc': None, 'weight': None}, {'date': None, 'description': 'L/H Front Buffer Retainer', 'discount': None, 'discount_rate': None, 'end_date': None, 'full_description': 'L/H Front Buffer Retainer', 'hsn': None, 'id': 899605845, 'lot': None, 'normalized_description': None, 'order': 2, 'price': None, 'quantity': 1.0, 'reference': None, 'section': None, 'sku': None, 'start_date': None, 'tags': [], 'tax': None, 'tax_rate': None, 'text': '2. L/H Front Buffer Retainer\\t\\tRs.10,000/=', 'total': 10.0, 'type': 'product', 'unit_of_measure': None, 'upc': None, 'weight': None}, {'date': None, 'description': 'L/H Head Lamp', 'discount': None, 'discount_rate': None, 'end_date': None, 'full_description': 'L/H Head Lamp', 'hsn': None, 'id': 899605847, 'lot': None, 'normalized_description': None, 'order': 3, 'price': None, 'quantity': 1.0, 'reference': None, 'section': None, 'sku': None, 'start_date': None, 'tags': [], 'tax': None, 'tax_rate': None, 'text': '3. L/H Head Lamp\\t\\t\\tRs.115,000/=', 'total': 115.0, 'type': 'product', 'unit_of_measure': None, 'upc': None, 'weight': None}, {'date': None, 'description': 'L/H Head Lamp Gloss Strip', 'discount': None, 'discount_rate': None, 'end_date': None, 'full_description': 'L/H Head Lamp Gloss Strip', 'hsn': None, 'id': 899605849, 'lot': None, 'normalized_description': None, 'order': 4, 'price': None, 'quantity': 1.0, 'reference': None, 'section': None, 'sku': None, 'start_date': None, 'tags': [], 'tax': None, 'tax_rate': None, 'text': '4. L/H Head Lamp Gloss Strip\\t\\tRs.18,000/=', 'total': 18.0, 'type': 'product', 'unit_of_measure': None, 'upc': None, 'weight': None}, {'date': None, 'description': 'L/H Head Lamp Gloss Strip Mounting Brackets', 'discount': None, 'discount_rate': None, 'end_date': None, 'full_description': 'L/H Head Lamp Gloss Strip Mounting Brackets', 'hsn': None, 'id': 899605850, 'lot': None, 'normalized_description': None, 'order': 5, 'price': None, 'quantity': 1.0, 'reference': None, 'section': None, 'sku': None, 'start_date': None, 'tags': [], 'tax': None, 'tax_rate': None, 'text': '5. L/H Head Lamp Gloss Strip Mounting Brackets\\tRs.15,000/=', 'total': 15.0, 'type': 'product', 'unit_of_measure': None, 'upc': None, 'weight': None}, {'date': None, 'description': 'Bonnet', 'discount': None, 'discount_rate': None, 'end_date': None, 'full_description': 'Bonnet', 'hsn': None, 'id': 899605851, 'lot': None, 'normalized_description': None, 'order': 6, 'price': None, 'quantity': 1.0, 'reference': None, 'section': None, 'sku': None, 'start_date': None, 'tags': [], 'tax': None, 'tax_rate': None, 'text': '7. Bonnet\\t\\t\\t\\tRs.105,000/=', 'total': 105.0, 'type': 'product', 'unit_of_measure': None, 'upc': None, 'weight': None}, {'date': None, 'description': 'Bonnet Hinges 02', 'discount': None, 'discount_rate': None, 'end_date': None, 'full_description': 'Bonnet Hinges 02', 'hsn': None, 'id': 899605852, 'lot': None, 'normalized_description': None, 'order': 7, 'price': None, 'quantity': 1.0, 'reference': None, 'section': None, 'sku': None, 'start_date': None, 'tags': [], 'tax': None, 'tax_rate': None, 'text': '8. Bonnet Hinges 02\\t\\t\\tRs.18,000/=', 'total': 18.0, 'type': 'product', 'unit_of_measure': None, 'upc': None, 'weight': None}, {'date': None, 'description': 'L/H Head Lamp Lower Bracket', 'discount': None, 'discount_rate': None, 'end_date': None, 'full_description': 'L/H Head Lamp Lower Bracket', 'hsn': None, 'id': 899605853, 'lot': None, 'normalized_description': None, 'order': 8, 'price': None, 'quantity': 1.0, 'reference': None, 'section': None, 'sku': None, 'start_date': None, 'tags': [], 'tax': None, 'tax_rate': None, 'text': '9. L/H Head Lamp Lower Bracket\\tRs.15,000/=', 'total': 15.0, 'type': 'product', 'unit_of_measure': None, 'upc': None, 'weight': None}, {'date': None, 'description': '10.Bonnet Beading', 'discount': None, 'discount_rate': None, 'end_date': None, 'full_description': '10.Bonnet Beading', 'hsn': None, 'id': 899605854, 'lot': None, 'normalized_description': None, 'order': 9, 'price': None, 'quantity': 1.0, 'reference': None, 'section': None, 'sku': None, 'start_date': None, 'tags': [], 'tax': None, 'tax_rate': None, 'text': '10.Bonnet Beading\\t\\t\\tRs.12,000/=', 'total': 12.0, 'type': 'product', 'unit_of_measure': None, 'upc': None, 'weight': None}, {'date': None, 'description': '11.R/H Head Lamp Lower Bracket', 'discount': None, 'discount_rate': None, 'end_date': None, 'full_description': '11.R/H Head Lamp Lower Bracket', 'hsn': None, 'id': 899605855, 'lot': None, 'normalized_description': None, 'order': 10, 'price': None, 'quantity': 1.0, 'reference': None, 'section': None, 'sku': None, 'start_date': None, 'tags': [], 'tax': None, 'tax_rate': None, 'text': '11.R/H Head Lamp Lower Bracket\\tRs.15,000/=', 'total': 15.0, 'type': 'product', 'unit_of_measure': None, 'upc': None, 'weight': None}, {'date': None, 'description': '12.Nose Cut Panel (Plastic)', 'discount': None, 'discount_rate': None, 'end_date': None, 'full_description': '12.Nose Cut Panel (Plastic)', 'hsn': None, 'id': 899605856, 'lot': None, 'normalized_description': None, 'order': 11, 'price': None, 'quantity': 1.0, 'reference': None, 'section': None, 'sku': None, 'start_date': None, 'tags': [], 'tax': None, 'tax_rate': None, 'text': '12.Nose Cut Panel (Plastic)\\t\\tRs.110,000/=', 'total': 110.0, 'type': 'product', 'unit_of_measure': None, 'upc': None, 'weight': None}, {'date': None, 'description': '13. Scan & Programming', 'discount': None, 'discount_rate': None, 'end_date': None, 'full_description': '13. Scan & Programming', 'hsn': None, 'id': 899605857, 'lot': None, 'normalized_description': None, 'order': 12, 'price': None, 'quantity': 1.0, 'reference': None, 'section': None, 'sku': None, 'start_date': None, 'tags': [], 'tax': None, 'tax_rate': None, 'text': '13. Scan & Programming\\t\\tRs.5,000/=', 'total': 5.0, 'type': 'service', 'unit_of_measure': None, 'upc': None, 'weight': None}, {'date': None, 'description': '14.A/C Gas', 'discount': None, 'discount_rate': None, 'end_date': None, 'full_description': '14.A/C Gas', 'hsn': None, 'id': 899605858, 'lot': None, 'normalized_description': None, 'order': 13, 'price': None, 'quantity': 1.0, 'reference': None, 'section': None, 'sku': None, 'start_date': None, 'tags': [], 'tax': None, 'tax_rate': None, 'text': '14.A/C Gas\\t\\t\\t\\tRs.4,500/=', 'total': 4.5, 'type': 'product', 'unit_of_measure': None, 'upc': None, 'weight': None}, {'date': None, 'description': '16.Body Sealant', 'discount': None, 'discount_rate': None, 'end_date': None, 'full_description': '16.Body Sealant', 'hsn': None, 'id': 899605859, 'lot': None, 'normalized_description': None, 'order': 14, 'price': None, 'quantity': 1.0, 'reference': None, 'section': None, 'sku': None, 'start_date': None, 'tags': [], 'tax': None, 'tax_rate': None, 'text': '16.Body Sealant\\t\\t\\tRs.2,500/=', 'total': 2.5, 'type': 'product', 'unit_of_measure': None, 'upc': None, 'weight': None}, {'date': None, 'description': '17.Double Tape', 'discount': None, 'discount_rate': None, 'end_date': None, 'full_description': '17.Double Tape', 'hsn': None, 'id': 899605860, 'lot': None, 'normalized_description': None, 'order': 15, 'price': None, 'quantity': 1.0, 'reference': None, 'section': None, 'sku': None, 'start_date': None, 'tags': [], 'tax': None, 'tax_rate': None, 'text': '17.Double Tape\\t\\t\\tRs.300/=', 'total': 300.0, 'type': 'product', 'unit_of_measure': None, 'upc': None, 'weight': None}, {'date': None, 'description': '18.Buffer Clips', 'discount': None, 'discount_rate': None, 'end_date': None, 'full_description': '18.Buffer Clips', 'hsn': None, 'id': 899605861, 'lot': None, 'normalized_description': None, 'order': 16, 'price': None, 'quantity': 1.0, 'reference': None, 'section': None, 'sku': None, 'start_date': None, 'tags': [], 'tax': None, 'tax_rate': None, 'text': '18.Buffer Clips\\t\\t\\tRs.700/=', 'total': 700.0, 'type': 'product', 'unit_of_measure': None, 'upc': None, 'weight': None}]\n",
      "meta  :  {'language': ['en'], 'owner': 'eshanmaduranga0329', 'pages': [{'height': 1280, 'language': ['en'], 'width': 960}], 'processed_pages': 1, 'source': 'api', 'source_documents': [{'height': 1280, 'size_kb': 140, 'width': 960}], 'total_pages': 1}\n",
      "notes  :  None\n",
      "ocr_text  :  VTEC MOTORS\n",
      "\t01/11/2019\n",
      "\n",
      "Final Bill For The Accident Vehicle No - CP CBH 7677\n",
      "HONDA CIVIC FK6\n",
      "Remove & Refitting\n",
      "Rs.13,750/=\n",
      "Repair\n",
      "Rs. 11,500/=\n",
      "Painting (Booth Painting)\n",
      "Rs.31,000/=\n",
      "Parts\n",
      "1. Front Buffer\t\t\tRs.100,000/=\n",
      "2. L/H Front Buffer Retainer\t\tRs.10,000/=\n",
      "3. L/H Head Lamp\t\t\tRs.115,000/=\n",
      "4. L/H Head Lamp Gloss Strip\t\tRs.18,000/=\n",
      "5. L/H Head Lamp Gloss Strip Mounting Brackets\tRs.15,000/=\n",
      "6. Shell\t\t\t\tRs.80,000/=\n",
      "7. Bonnet\t\t\t\tRs.105,000/=\n",
      "8. Bonnet Hinges 02\t\t\tRs.18,000/=\n",
      "9. L/H Head Lamp Lower Bracket\tRs.15,000/=\n",
      "10.Bonnet Beading\t\t\tRs.12,000/=\n",
      "11.R/H Head Lamp Lower Bracket\tRs.15,000/=\n",
      "12.Nose Cut Panel (Plastic)\t\tRs.110,000/=\n",
      "13. Scan & Programming\t\tRs.5,000/=\n",
      "14.A/C Gas\t\t\t\tRs.4,500/=\n",
      "15.Coolant\t\t\t\tRs.1,500/=\n",
      "16.Body Sealant\t\t\tRs.2,500/=\n",
      "17.Double Tape\t\t\tRs.300/=\n",
      "18.Buffer Clips\t\t\tRs.700/=\n",
      "Final Bill Amount\t\t\tRs.683,750/=\n",
      "\n",
      "No:220/3,Thalahena Road, Malabe\n",
      "Email: vtecmotors@hotmail.com\n",
      "Tel:- 0777603000 https://www.facebook.com/pages/VTEC-Motors\n",
      "order_date  :  None\n",
      "payment  :  {'card_number': None, 'display_name': None, 'terms': None, 'type': None}\n",
      "pdf_url  :  https://scdn.veryfi.com/receipts/3f0e33479f1ffcc4/daa575e7-c947-4a09-9911-831414ecdd24/c09b39cd-0396-4fb2-8e4f-90b60620642a.pdf?Expires=1713927227&Signature=DGGLynUdD0VOAgB6UHlyiCwXJR~jCXr9zV9iQceQ3odZqf4JxWDd-LGTRxeKEKIUJRj5zWN0FTyaVPrtKTCaZKcwZ153RLg8fEFk78jgSmnS8DgWAHn0dUIB-vIvopoR2akSjTnccnhLxjXVJswzGAqo8NYhjXaTh1CVOCrhX5Zw2AbNTbkdXCfr6qnL26aP7PuPUoCRkGF8Dae4PlaC6jE729NTlGIEPtTFsJ1qm-3NBAyNolh2swPwnHwSljsia8DZr29M-~H5MmKIP6gwq1VoufrVNdYwyhlCnASgjN0O~D5H45x9x18XJRkVwFsj58kCVyU03STL3XVJYvI4vg__&Key-Pair-Id=APKAJCILBXEJFZF4DCHQ\n",
      "purchase_order_number  :  None\n",
      "reference_number  :  VBIEE-57879\n",
      "rounding  :  None\n",
      "service_end_date  :  None\n",
      "service_start_date  :  None\n",
      "ship_date  :  None\n",
      "ship_to  :  {'address': None, 'name': None, 'parsed_address': None}\n",
      "shipping  :  None\n",
      "store_number  :  None\n",
      "subtotal  :  683750.0\n",
      "tags  :  []\n",
      "tax  :  None\n",
      "tax_lines  :  []\n",
      "tip  :  None\n",
      "total  :  683750.0\n",
      "total_weight  :  None\n",
      "tracking_number  :  None\n",
      "updated_date  :  2024-04-24 02:38:47\n",
      "vendor  :  {'abn_number': None, 'account_number': None, 'address': '220/3,Thalahena Road, Malabe', 'bank_name': None, 'bank_number': None, 'bank_swift': None, 'category': None, 'email': 'vtecmotors@hotmail.com', 'fax_number': None, 'iban': None, 'lat': None, 'lng': None, 'logo': 'https://cdn.veryfi.com/logos/tmp/ad906b83-0689-4f85-b878-e124ce14f723.png', 'name': 'VTEC MOTORS', 'phone_number': '0777603000', 'raw_address': '220/3,Thalahena Road, Malabe', 'raw_name': 'VTEC MOTORS', 'reg_number': None, 'type': None, 'vat_number': None, 'web': 'https://www.facebook.com/pages'}\n"
     ]
    }
   ],
   "source": [
    "# print itemwise this dictionery\n",
    "for key, value in response.items():\n",
    "    print(key, ' : ', value)"
   ]
  },
  {
   "cell_type": "code",
   "execution_count": 7,
   "metadata": {},
   "outputs": [
    {
     "name": "stdout",
     "output_type": "stream",
     "text": [
      "VTEC MOTORS\n",
      "\t01/11/2019\n",
      "\n",
      "Final Bill For The Accident Vehicle No - CP CBH 7677\n",
      "HONDA CIVIC FK6\n",
      "Remove & Refitting\n",
      "Rs.13,750/=\n",
      "Repair\n",
      "Rs. 11,500/=\n",
      "Painting (Booth Painting)\n",
      "Rs.31,000/=\n",
      "Parts\n",
      "1. Front Buffer\t\t\tRs.100,000/=\n",
      "2. L/H Front Buffer Retainer\t\tRs.10,000/=\n",
      "3. L/H Head Lamp\t\t\tRs.115,000/=\n",
      "4. L/H Head Lamp Gloss Strip\t\tRs.18,000/=\n",
      "5. L/H Head Lamp Gloss Strip Mounting Brackets\tRs.15,000/=\n",
      "6. Shell\t\t\t\tRs.80,000/=\n",
      "7. Bonnet\t\t\t\tRs.105,000/=\n",
      "8. Bonnet Hinges 02\t\t\tRs.18,000/=\n",
      "9. L/H Head Lamp Lower Bracket\tRs.15,000/=\n",
      "10.Bonnet Beading\t\t\tRs.12,000/=\n",
      "11.R/H Head Lamp Lower Bracket\tRs.15,000/=\n",
      "12.Nose Cut Panel (Plastic)\t\tRs.110,000/=\n",
      "13. Scan & Programming\t\tRs.5,000/=\n",
      "14.A/C Gas\t\t\t\tRs.4,500/=\n",
      "15.Coolant\t\t\t\tRs.1,500/=\n",
      "16.Body Sealant\t\t\tRs.2,500/=\n",
      "17.Double Tape\t\t\tRs.300/=\n",
      "18.Buffer Clips\t\t\tRs.700/=\n",
      "Final Bill Amount\t\t\tRs.683,750/=\n",
      "\n",
      "No:220/3,Thalahena Road, Malabe\n",
      "Email: vtecmotors@hotmail.com\n",
      "Tel:- 0777603000 https://www.facebook.com/pages/VTEC-Motors\n"
     ]
    }
   ],
   "source": [
    "ocr_text = response['ocr_text']\n",
    "print(ocr_text)"
   ]
  },
  {
   "cell_type": "code",
   "execution_count": 8,
   "metadata": {},
   "outputs": [
    {
     "name": "stdout",
     "output_type": "stream",
     "text": [
      "2019-11-01 00:00:00\n"
     ]
    }
   ],
   "source": [
    "bill_date = response['date']\n",
    "print(bill_date)"
   ]
  },
  {
   "cell_type": "code",
   "execution_count": 10,
   "metadata": {},
   "outputs": [
    {
     "name": "stdout",
     "output_type": "stream",
     "text": [
      "683750.0\n"
     ]
    }
   ],
   "source": [
    "Total_amount = response['total']\n",
    "print(Total_amount)"
   ]
  },
  {
   "cell_type": "code",
   "execution_count": 13,
   "metadata": {},
   "outputs": [
    {
     "name": "stdout",
     "output_type": "stream",
     "text": [
      "Extracted Items:\n",
      " Front \n",
      " LH \n",
      " LH \n",
      " LH \n",
      " LH \n",
      " Shell\t\n",
      " Bonnet\t\n",
      " Bonnet \n",
      " LH \n",
      " Scan \n"
     ]
    }
   ],
   "source": [
    "import re\n",
    "\n",
    "\n",
    "# Define a regular expression pattern to match item descriptions and prices\n",
    "item_pattern = r'([A-Za-z0-9& /]+)\\s+\\d{1,3}(?:,\\d{3})*(?:\\.\\d{1,2})?'\n",
    "\n",
    "# Extract items using regex\n",
    "items = re.findall(item_pattern, ocr_text)\n",
    "\n",
    "# Print the extracted items\n",
    "print(\"Extracted Items:\")\n",
    "for item in items:\n",
    "    item = re.sub(r'\\d+', '', item) \n",
    "    item =  re.sub(r'[^\\w\\s]', '', item)\n",
    "    if(item == ''):\n",
    "        continue\n",
    "    print(item)\n"
   ]
  },
  {
   "cell_type": "code",
   "execution_count": 39,
   "metadata": {},
   "outputs": [
    {
     "name": "stdout",
     "output_type": "stream",
     "text": [
      "VTEC MOTORS\n",
      "\t\n",
      "\n",
      "Final Bill For The Accident Vehicle No - CP CBH 7677\n",
      "HONDA CIVIC FK6\n",
      "Remove & Refitting\n",
      "\n",
      "Repair\n",
      "Rs. 11,500/=\n",
      "Painting (Booth Painting)\n",
      "\n",
      "Parts\n",
      "1. Front Buffer\t\t\t\n",
      "2. L/H Front Buffer Retainer\t\t\n",
      "3. L/H Head Lamp\t\t\t\n",
      "4. L/H Head Lamp Gloss Strip\t\t\n",
      "5. L/H Head Lamp Gloss Strip Mounting Brackets\t\n",
      "6. Shell\t\t\t\t\n",
      "7. Bonnet\t\t\t\t\n",
      "8. Bonnet Hinges 02\t\t\t\n",
      "9. L/H Head Lamp Lower Bracket\t\n",
      "10.Bonnet Beading\t\t\t\n",
      "11.R/H Head Lamp Lower Bracket\t\n",
      "12.Nose Cut Panel (Plastic)\t\t\n",
      "13. Scan & Programming\t\t\n",
      "14.A/C Gas\t\t\t\t\n",
      "15.Coolant\t\t\t\t\n",
      "16.Body Sealant\t\t\t\n",
      "17.Double Tape\t\t\t\n",
      "18.Buffer Clips\t\t\t\n",
      "Final Bill Amount\t\t\t\n",
      "\n",
      "No:220/3,Thalahena Road, Malabe\n",
      "Email: \n",
      "Tel:-\n"
     ]
    }
   ],
   "source": [
    "import re\n",
    "\n",
    "def clean_text(text):\n",
    "    # Remove links\n",
    "    text = re.sub(r'http\\S+', '', text)\n",
    "    \n",
    "    # Remove email addresses\n",
    "    text = re.sub(r'\\b[A-Za-z0-9._%+-]+@[A-Za-z0-9.-]+\\.[A-Z|a-z]{2,}\\b', '', text)\n",
    "    \n",
    "    # Remove phone numbers\n",
    "    text = re.sub(r'\\b\\d{10}\\b', '', text)\n",
    "    \n",
    "    # Remove dates (assuming in dd/mm/yyyy format)\n",
    "    text = re.sub(r'\\b\\d{1,2}/\\d{1,2}/\\d{4}\\b', '', text)\n",
    "    \n",
    "   # Remove price format like Rs.100,000/=\n",
    "    text = re.sub(r'Rs\\.\\d+(,\\d+)*\\/=', '', text)\n",
    "    \n",
    "    \n",
    "    \n",
    "    return text.strip()\n",
    "\n",
    "\n",
    "\n",
    "# Clean the text\n",
    "cleaned_text = clean_text(ocr_text)\n",
    "\n",
    "# Split the cleaned text into sentences and add to a list\n",
    "sentences_list = cleaned_text.split('\\n')\n",
    "\n",
    "# Print the list of sentences\n",
    "print(cleaned_text)\n"
   ]
  },
  {
   "cell_type": "code",
   "execution_count": 40,
   "metadata": {},
   "outputs": [
    {
     "data": {
      "text/plain": [
       "['VTEC MOTORS',\n",
       " '\\t',\n",
       " '',\n",
       " 'Final Bill For The Accident Vehicle No - CP CBH 7677',\n",
       " 'HONDA CIVIC FK6',\n",
       " 'Remove & Refitting',\n",
       " '',\n",
       " 'Repair',\n",
       " 'Rs. 11,500/=',\n",
       " 'Painting (Booth Painting)',\n",
       " '',\n",
       " 'Parts',\n",
       " '1. Front Buffer\\t\\t\\t',\n",
       " '2. L/H Front Buffer Retainer\\t\\t',\n",
       " '3. L/H Head Lamp\\t\\t\\t',\n",
       " '4. L/H Head Lamp Gloss Strip\\t\\t',\n",
       " '5. L/H Head Lamp Gloss Strip Mounting Brackets\\t',\n",
       " '6. Shell\\t\\t\\t\\t',\n",
       " '7. Bonnet\\t\\t\\t\\t',\n",
       " '8. Bonnet Hinges 02\\t\\t\\t',\n",
       " '9. L/H Head Lamp Lower Bracket\\t',\n",
       " '10.Bonnet Beading\\t\\t\\t',\n",
       " '11.R/H Head Lamp Lower Bracket\\t',\n",
       " '12.Nose Cut Panel (Plastic)\\t\\t',\n",
       " '13. Scan & Programming\\t\\t',\n",
       " '14.A/C Gas\\t\\t\\t\\t',\n",
       " '15.Coolant\\t\\t\\t\\t',\n",
       " '16.Body Sealant\\t\\t\\t',\n",
       " '17.Double Tape\\t\\t\\t',\n",
       " '18.Buffer Clips\\t\\t\\t',\n",
       " 'Final Bill Amount\\t\\t\\t',\n",
       " '',\n",
       " 'No:220/3,Thalahena Road, Malabe',\n",
       " 'Email: ',\n",
       " 'Tel:-']"
      ]
     },
     "execution_count": 40,
     "metadata": {},
     "output_type": "execute_result"
    }
   ],
   "source": [
    "sentences_list"
   ]
  },
  {
   "cell_type": "code",
   "execution_count": null,
   "metadata": {},
   "outputs": [],
   "source": [
    "# import nltk\n",
    "# from nltk.corpus import stopwords\n",
    "# import string\n",
    "\n",
    "# nltk.download('stopwords')\n",
    "\n",
    "# def preprocess_text(text):\n",
    "#     # Remove punctuation marks\n",
    "#     text = text.translate(str.maketrans('', '', string.punctuation))\n",
    "\n",
    "#     # Remove escape characters\n",
    "#     text = text.replace('\\n', ' ').replace('\\r', ' ').replace('\\t', ' ')\n",
    "\n",
    "#     # Tokenize the text into words\n",
    "#     words = nltk.word_tokenize(text)\n",
    "\n",
    "\n",
    "#     # Remove stop words\n",
    "#     stop_words = set(stopwords.words('english'))\n",
    "#     filtered_words = [word for word in words if word.lower() not in stop_words]\n",
    "\n",
    "#     # Join the filtered words back into a sentence\n",
    "#     processed_text = ' '.join(filtered_words)\n",
    "\n",
    "#     return processed_text\n"
   ]
  },
  {
   "cell_type": "code",
   "execution_count": 46,
   "metadata": {},
   "outputs": [],
   "source": [
    "\n",
    "import string\n",
    "\n",
    "\n",
    "def preprocess_text(text):\n",
    "    # Remove punctuation marks\n",
    "    text = text.translate(str.maketrans('', '', string.punctuation))\n",
    "\n",
    "    # Remove escape characters\n",
    "    text = text.replace('\\n', ' ').replace('\\r', ' ').replace('\\t', ' ')\n",
    "\n",
    "    #remove unnesesarry  spaces \n",
    "    text = re.sub(' +', ' ', text)\n",
    "\n",
    "    # remove numbers\n",
    "    text = re.sub(r'\\d+', '', text)\n",
    "    \n",
    "    # Convert to lowercase\n",
    "    processed_text = text.lower()\n",
    "\n",
    "    \n",
    "    \n",
    "\n",
    "\n",
    "\n",
    "\n",
    "    return processed_text\n"
   ]
  },
  {
   "cell_type": "code",
   "execution_count": 47,
   "metadata": {},
   "outputs": [
    {
     "name": "stdout",
     "output_type": "stream",
     "text": [
      "Extracted Items:\n",
      "VTEC MOTORS\n",
      "\t\n",
      "\n",
      "Final Bill For The Accident Vehicle No - CP CBH 7677\n",
      "HONDA CIVIC FK6\n",
      "Remove & Refitting\n",
      "\n",
      "Repair\n",
      "Rs. 11,500/=\n",
      "Painting (Booth Painting)\n",
      "\n",
      "Parts\n",
      "1. Front Buffer\t\t\t\n",
      "2. L/H Front Buffer Retainer\t\t\n",
      "3. L/H Head Lamp\t\t\t\n",
      "4. L/H Head Lamp Gloss Strip\t\t\n",
      "5. L/H Head Lamp Gloss Strip Mounting Brackets\t\n",
      "6. Shell\t\t\t\t\n",
      "7. Bonnet\t\t\t\t\n",
      "8. Bonnet Hinges 02\t\t\t\n",
      "9. L/H Head Lamp Lower Bracket\t\n",
      "10.Bonnet Beading\t\t\t\n",
      "11.R/H Head Lamp Lower Bracket\t\n",
      "12.Nose Cut Panel (Plastic)\t\t\n",
      "13. Scan & Programming\t\t\n",
      "14.A/C Gas\t\t\t\t\n",
      "15.Coolant\t\t\t\t\n",
      "16.Body Sealant\t\t\t\n",
      "17.Double Tape\t\t\t\n",
      "18.Buffer Clips\t\t\t\n",
      "Final Bill Amount\t\t\t\n",
      "\n",
      "No:220/3,Thalahena Road, Malabe\n",
      "Email: \n",
      "Tel:-\n"
     ]
    }
   ],
   "source": [
    "print(\"Extracted Items:\")\n",
    "for item in sentences_list:\n",
    "    print(item)"
   ]
  },
  {
   "cell_type": "code",
   "execution_count": 48,
   "metadata": {},
   "outputs": [],
   "source": [
    "processed_list = []\n",
    "\n",
    "for item in sentences_list:\n",
    "    processed_item = preprocess_text(item)\n",
    "    processed_list.append(processed_item)\n"
   ]
  },
  {
   "cell_type": "code",
   "execution_count": 49,
   "metadata": {},
   "outputs": [
    {
     "data": {
      "text/plain": [
       "['vtec motors',\n",
       " ' ',\n",
       " '',\n",
       " 'final bill for the accident vehicle no cp cbh ',\n",
       " 'honda civic fk',\n",
       " 'remove refitting',\n",
       " '',\n",
       " 'repair',\n",
       " 'rs ',\n",
       " 'painting booth painting',\n",
       " '',\n",
       " 'parts',\n",
       " ' front buffer ',\n",
       " ' lh front buffer retainer ',\n",
       " ' lh head lamp ',\n",
       " ' lh head lamp gloss strip ',\n",
       " ' lh head lamp gloss strip mounting brackets ',\n",
       " ' shell ',\n",
       " ' bonnet ',\n",
       " ' bonnet hinges  ',\n",
       " ' lh head lamp lower bracket ',\n",
       " 'bonnet beading ',\n",
       " 'rh head lamp lower bracket ',\n",
       " 'nose cut panel plastic ',\n",
       " ' scan programming ',\n",
       " 'ac gas ',\n",
       " 'coolant ',\n",
       " 'body sealant ',\n",
       " 'double tape ',\n",
       " 'buffer clips ',\n",
       " 'final bill amount ',\n",
       " '',\n",
       " 'nothalahena road malabe',\n",
       " 'email ',\n",
       " 'tel']"
      ]
     },
     "execution_count": 49,
     "metadata": {},
     "output_type": "execute_result"
    }
   ],
   "source": [
    "processed_list"
   ]
  },
  {
   "cell_type": "code",
   "execution_count": 50,
   "metadata": {},
   "outputs": [
    {
     "name": "stdout",
     "output_type": "stream",
     "text": [
      "Processed Items:\n",
      "vtec motors\n",
      " \n",
      "\n",
      "final bill for the accident vehicle no cp cbh \n",
      "honda civic fk\n",
      "remove refitting\n",
      "\n",
      "repair\n",
      "rs \n",
      "painting booth painting\n",
      "\n",
      "parts\n",
      " front buffer \n",
      " lh front buffer retainer \n",
      " lh head lamp \n",
      " lh head lamp gloss strip \n",
      " lh head lamp gloss strip mounting brackets \n",
      " shell \n",
      " bonnet \n",
      " bonnet hinges  \n",
      " lh head lamp lower bracket \n",
      "bonnet beading \n",
      "rh head lamp lower bracket \n",
      "nose cut panel plastic \n",
      " scan programming \n",
      "ac gas \n",
      "coolant \n",
      "body sealant \n",
      "double tape \n",
      "buffer clips \n",
      "final bill amount \n",
      "\n",
      "nothalahena road malabe\n",
      "email \n",
      "tel\n"
     ]
    }
   ],
   "source": [
    "# print the processed list\n",
    "print(\"Processed Items:\")\n",
    "for item in processed_list:\n",
    "    print(item)"
   ]
  },
  {
   "cell_type": "code",
   "execution_count": 51,
   "metadata": {},
   "outputs": [
    {
     "data": {
      "text/plain": [
       "['vtec motors',\n",
       " 'final bill for the accident vehicle no cp cbh ',\n",
       " 'honda civic fk',\n",
       " 'remove refitting',\n",
       " 'repair',\n",
       " 'rs ',\n",
       " 'painting booth painting',\n",
       " 'parts',\n",
       " ' front buffer ',\n",
       " ' lh front buffer retainer ',\n",
       " ' lh head lamp ',\n",
       " ' lh head lamp gloss strip ',\n",
       " ' lh head lamp gloss strip mounting brackets ',\n",
       " ' shell ',\n",
       " ' bonnet ',\n",
       " ' bonnet hinges  ',\n",
       " ' lh head lamp lower bracket ',\n",
       " 'bonnet beading ',\n",
       " 'rh head lamp lower bracket ',\n",
       " 'nose cut panel plastic ',\n",
       " ' scan programming ',\n",
       " 'ac gas ',\n",
       " 'coolant ',\n",
       " 'body sealant ',\n",
       " 'double tape ',\n",
       " 'buffer clips ',\n",
       " 'final bill amount ',\n",
       " 'nothalahena road malabe',\n",
       " 'email ',\n",
       " 'tel']"
      ]
     },
     "execution_count": 51,
     "metadata": {},
     "output_type": "execute_result"
    }
   ],
   "source": [
    "# remove all null items and only space chraacters  from the processed_list\n",
    "processed_list = list(filter(None, processed_list))\n",
    "processed_list = [item for item in processed_list if item.strip()]\n",
    "processed_list"
   ]
  },
  {
   "cell_type": "code",
   "execution_count": 52,
   "metadata": {},
   "outputs": [
    {
     "name": "stdout",
     "output_type": "stream",
     "text": [
      "Processed Items:\n",
      "vtec motors\n",
      "final bill for the accident vehicle no cp cbh \n",
      "honda civic fk\n",
      "remove refitting\n",
      "repair\n",
      "rs \n",
      "painting booth painting\n",
      "parts\n",
      " front buffer \n",
      " lh front buffer retainer \n",
      " lh head lamp \n",
      " lh head lamp gloss strip \n",
      " lh head lamp gloss strip mounting brackets \n",
      " shell \n",
      " bonnet \n",
      " bonnet hinges  \n",
      " lh head lamp lower bracket \n",
      "bonnet beading \n",
      "rh head lamp lower bracket \n",
      "nose cut panel plastic \n",
      " scan programming \n",
      "ac gas \n",
      "coolant \n",
      "body sealant \n",
      "double tape \n",
      "buffer clips \n",
      "final bill amount \n",
      "nothalahena road malabe\n",
      "email \n",
      "tel\n"
     ]
    }
   ],
   "source": [
    "print(\"Processed Items:\")\n",
    "for item in processed_list:\n",
    "    print(item)"
   ]
  },
  {
   "cell_type": "code",
   "execution_count": null,
   "metadata": {},
   "outputs": [],
   "source": []
  }
 ],
 "metadata": {
  "kernelspec": {
   "display_name": "Python 3",
   "language": "python",
   "name": "python3"
  },
  "language_info": {
   "codemirror_mode": {
    "name": "ipython",
    "version": 3
   },
   "file_extension": ".py",
   "mimetype": "text/x-python",
   "name": "python",
   "nbconvert_exporter": "python",
   "pygments_lexer": "ipython3",
   "version": "3.12.2"
  }
 },
 "nbformat": 4,
 "nbformat_minor": 2
}
