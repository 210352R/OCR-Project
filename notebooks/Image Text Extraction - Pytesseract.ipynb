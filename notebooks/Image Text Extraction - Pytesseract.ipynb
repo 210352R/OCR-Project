{
 "cells": [
  {
   "cell_type": "markdown",
   "id": "aae091e5",
   "metadata": {},
   "source": [
    "<center>\n",
    "    <u><h2>Image Text Extraction With Pytesseract</h2></u>\n",
    "</center>"
   ]
  },
  {
   "cell_type": "markdown",
   "id": "e9c71274",
   "metadata": {},
   "source": [
    "<h3>What is the Tesseract?</h3>\n",
    "\n",
    "<p>Tesseract is an Optical Character Recognition tool (OCR) which can be used to extract written text from different types image files. This was originally designed and developed by the <b>Google</b>. Image text extraction can be used by both of the ways; using command terminal and api implementations. </p>\n",
    "\n",
    "<p>Tesseract has unicode (UTF-8) support and can recognize more than <b>100 languages</b>.</p>\n",
    "\n",
    "<p>Tesseract support various kind of output formats such as: <b>plain text</b>, <b>HTML</b>, <b>PDF</b>, <b>TSV</b>, <b>XML</b>.</p> \n",
    "\n",
    "<p>Accuracy and integrity of the output from tesseract is totally depends on the <u>quality of input image</u></p>\n",
    "\n",
    "<h3>How to install Tesseract?</h3>\n",
    "\n",
    "<ol>\n",
    "    <li>Download and install the relevant binary for your operating system <a href='https://github.com/tesseract-ocr/tessdoc#500x'>here.</a></li>\n",
    "    <li>Add the installed location reference in to the PATH. <b>eg. </b><i>C:\\Program Files\\Tesseract-OCR.</i></li>\n",
    "    <li>Type command <span style=\"background-color: lightblue;\">tesseract</span> and check about the status of your installation.</li>\n",
    "</ol>\n",
    "\n",
    "<h3>What is the Pytesseract?</h3>\n",
    "\n",
    "<p>Python tesseract (pytesseract) is a wrapper module for tesseract-OCR-engine developed by the Google. Pytesseract can be installed in to your computer, if you have installed any python version greater than or equal to 3.0. Whenever you have installed tesseract, simply install this 3<sup>rd</sup> party module by a simple pip command and play around!</p>\n",
    "\n",
    "<h3>How to install Pytesseract?</h3>\n",
    "\n",
    "<ol>\n",
    "    <li>Type command <span style=\"background-color: lightblue;\">pip install pytesseract</span> and let it to be installed.</li>\n",
    "    <li>Then open your python shell and type  <span style=\"background-color: lightblue;\">import pytesseract</span> and check about the status of pytesseract installation.</li>\n",
    "</ol>"
   ]
  },
  {
   "cell_type": "markdown",
   "id": "cb5d3dad",
   "metadata": {},
   "source": [
    "<u>\n",
    "<h4>Import modules</h4>\n",
    "</u>"
   ]
  },
  {
   "cell_type": "code",
   "execution_count": 1,
   "id": "7867b5dc",
   "metadata": {},
   "outputs": [],
   "source": [
    "import os # To import test image files\n",
    "import cv2 # To work with opencv images\n",
    "from PIL import Image # Image submodule to work with pillow images\n",
    "import pytesseract as pt # pytesseract module"
   ]
  },
  {
   "cell_type": "code",
   "execution_count": 2,
   "id": "e54d216f",
   "metadata": {},
   "outputs": [
    {
     "name": "stdout",
     "output_type": "stream",
     "text": [
      "abc-text.jpg\n",
      "bound-text-1.jpg\n",
      "bound-text-2.jpg\n",
      "contact-1.jpg\n",
      "hello-text.jpg\n",
      "hindi-news-1.jpg\n",
      "hindi-news-2.jpg\n",
      "hindi-text-1.jpg\n",
      "hindi-text-2.jpg\n",
      "image-paths.txt\n",
      "jap-text-1.png\n",
      "jap-text-2.png\n",
      "letter-1.png\n",
      "magazine-1.jpg\n",
      "news-1.png\n",
      "news-2.jpg\n",
      "portu-text-1.jpg\n",
      "portu-text-2.jpg\n",
      "selfie-circle.jpg\n",
      "sin-text-1.gif\n",
      "sin-text-2.gif\n",
      "span-text-1.png\n",
      "tam-text-1.png\n"
     ]
    }
   ],
   "source": [
    "test_img_path = \"../test images/\"\n",
    "create_path = lambda f : os.path.join(test_img_path, f)\n",
    "\n",
    "test_image_files = os.listdir(test_img_path)\n",
    "\n",
    "for f in test_image_files:\n",
    "    print(f)"
   ]
  },
  {
   "cell_type": "code",
   "execution_count": 3,
   "id": "27e88dec",
   "metadata": {},
   "outputs": [],
   "source": [
    "def show_image(img_path, size=(500, 500)):\n",
    "    image = cv2.imread(img_path)\n",
    "    image = cv2.resize(image, size)\n",
    "    \n",
    "    cv2.imshow(\"IMAGE\", image)\n",
    "    cv2.waitKey(0)\n",
    "    cv2.destroyAllWindows()"
   ]
  },
  {
   "cell_type": "markdown",
   "id": "64201ca9",
   "metadata": {},
   "source": [
    "<u>\n",
    "<h4>Configure tesseract path in implementations (No need to add in to the PATH explicitly)</h4>\n",
    "</u>"
   ]
  },
  {
   "cell_type": "code",
   "execution_count": null,
   "id": "1fa4ba38",
   "metadata": {},
   "outputs": [],
   "source": [
    "# optional: only if you haven't configured PATH\n",
    "#pt.pytesseract.tesseract_cmd = r\"C:\\Program Files\\Tesseract-OCR\\tesseract.exe\" # provide full path to tesseract.exe"
   ]
  },
  {
   "cell_type": "markdown",
   "id": "2d124a42",
   "metadata": {},
   "source": [
    "<u>\n",
    "<h4>Checkout available languages</h4>\n",
    "</u>\n",
    "<p>Check out <a href='https://tesseract-ocr.github.io/tessdoc/Data-Files-in-different-versions.html'>here</a> to learn about languages and their codes available in tesseract.</p>\n"
   ]
  },
  {
   "cell_type": "code",
   "execution_count": 11,
   "id": "61caf321",
   "metadata": {},
   "outputs": [
    {
     "name": "stdout",
     "output_type": "stream",
     "text": [
      "afr\n",
      "amh\n",
      "ara\n",
      "asm\n",
      "aze\n",
      "aze_cyrl\n",
      "bel\n",
      "ben\n",
      "bod\n",
      "bos\n",
      "bre\n",
      "bul\n",
      "cat\n",
      "ceb\n",
      "ces\n",
      "chi_sim\n",
      "chi_sim_vert\n",
      "chi_tra\n",
      "chi_tra_vert\n",
      "chr\n",
      "cos\n",
      "cym\n",
      "dan\n",
      "deu\n",
      "div\n",
      "dzo\n",
      "ell\n",
      "eng\n",
      "enm\n",
      "epo\n",
      "equ\n",
      "est\n",
      "eus\n",
      "fao\n",
      "fas\n",
      "fil\n",
      "fin\n",
      "fra\n",
      "frk\n",
      "frm\n",
      "fry\n",
      "gla\n",
      "gle\n",
      "glg\n",
      "grc\n",
      "guj\n",
      "hat\n",
      "heb\n",
      "hin\n",
      "hrv\n",
      "hun\n",
      "hye\n",
      "iku\n",
      "ind\n",
      "isl\n",
      "ita\n",
      "ita_old\n",
      "jav\n",
      "jpn\n",
      "jpn_vert\n",
      "kan\n",
      "kat\n",
      "kat_old\n",
      "kaz\n",
      "khm\n",
      "kir\n",
      "kmr\n",
      "kor\n",
      "lao\n",
      "lat\n",
      "lav\n",
      "lit\n",
      "ltz\n",
      "mal\n",
      "mar\n",
      "mkd\n",
      "mlt\n",
      "mon\n",
      "mri\n",
      "msa\n",
      "mya\n",
      "nep\n",
      "nld\n",
      "nor\n",
      "oci\n",
      "ori\n",
      "osd\n",
      "pan\n",
      "pol\n",
      "por\n",
      "pus\n",
      "que\n",
      "ron\n",
      "rus\n",
      "san\n",
      "sin\n",
      "slk\n",
      "slv\n",
      "snd\n",
      "spa\n",
      "spa_old\n",
      "sqi\n",
      "srp\n",
      "srp_latn\n",
      "sun\n",
      "swa\n",
      "swe\n",
      "syr\n",
      "tam\n",
      "tat\n",
      "tel\n",
      "tgk\n",
      "tha\n",
      "tir\n",
      "ton\n",
      "tur\n",
      "uig\n",
      "ukr\n",
      "urd\n",
      "uzb\n",
      "uzb_cyrl\n",
      "vie\n",
      "yid\n",
      "yor\n",
      "124\n"
     ]
    }
   ],
   "source": [
    "# using cmd: tesseract --list-langs\n",
    "avb_langs = pt.get_languages(config='')\n",
    "\n",
    "for lang in avb_langs:\n",
    "    print(lang)\n",
    "\n",
    "print(len(avb_langs))"
   ]
  },
  {
   "cell_type": "markdown",
   "id": "68b8f663",
   "metadata": {},
   "source": [
    "<u>\n",
    "<h4>Extract text from an image : Simple</h4>\n",
    "</u>"
   ]
  },
  {
   "cell_type": "code",
   "execution_count": 5,
   "id": "b0e6c8f7",
   "metadata": {},
   "outputs": [
    {
     "name": "stdout",
     "output_type": "stream",
     "text": [
      "Dear David,\n",
      "\n",
      "It's been a long time since we saw each\n",
      "other. Do you remember when we met\n",
      "in September, 2020 in Toronto?\n",
      "\n",
      "Well, so much has happened since then\n",
      "and I'm writing to tell you about my »\n",
      "\n",
      "good news!\n",
      "\n",
      "My Exam\n",
      "\n",
      "with\n",
      "Jonathan\n",
      "\n",
      "\n"
     ]
    }
   ],
   "source": [
    "image_path = test_image_files[12] # 2, 3, 12, 1, 13, 15\n",
    "path = create_path(image_path)\n",
    "\n",
    "image = Image.open(path)\n",
    "text = pt.image_to_string(image)\n",
    "\n",
    "print(text)\n",
    "show_image(path)"
   ]
  },
  {
   "cell_type": "code",
   "execution_count": 10,
   "id": "86e14c25",
   "metadata": {},
   "outputs": [
    {
     "name": "stdout",
     "output_type": "stream",
     "text": [
      "and I'm writing to tell you about my »\n"
     ]
    }
   ],
   "source": [
    "# Print first line of text\n",
    "print(text.split('\\n')[7])"
   ]
  },
  {
   "cell_type": "markdown",
   "id": "b4ad784b",
   "metadata": {},
   "source": [
    "<u>\n",
    "    <h4>Extract text from an image : Specifying a language</h4>\n",
    "</u>\n",
    "<p>Check out <a href='https://github.com/tesseract-ocr/tessdata/tree/3.04.00'>here</a> to download different language data files.</p>"
   ]
  },
  {
   "cell_type": "code",
   "execution_count": 13,
   "id": "d067c55b",
   "metadata": {},
   "outputs": [
    {
     "name": "stdout",
     "output_type": "stream",
     "text": [
      "सुखद : आसन वेटलैंड में पलास\n",
      "फिश ईगल की नेस्टिंग शुरू\n",
      "\n",
      "जागरण संवाददाता, विकासनगर :देश के पहले\n",
      "कंजरवेशन रिजर्व आसन वेटलैंड में प्रवास पर आए\n",
      "पलास फिश ईगल ( वैज्ञानिक नाम हालियाइटस\n",
      "ल्युकॉरीपस ) के जोड़े ने सेमल के पेड़ पर\n",
      "आशियाना तैयार करना शुरू कर दिया है। चकराता\n",
      "बन प्रभाग इसे एक सुखद संकेत मान रहा है। वहीं\n",
      "आसन नमभूमि में प्रवासी परिंदों की संख्या बढ़कर\n",
      "पांच हजार के करीब हो गई है ।शिकारियों पर अंकुश\n",
      "को सशस्त्र वन टीम की रात दिन गश्त चल रही है।\n",
      "रविवार को जीएमवीएन के आसन पर्यटन स्थल पर\n",
      "आए पक्षी प्रेमियों व पर्यटकों ने बोटिंग के साथ ही बर्ड\n",
      "वाचिंग का भी आनंद लिया।\n",
      "\n",
      "डुर्लभ प्रजाति के पलाश फिश ईगल मुख्य रूप से\n",
      "कजाकिस्तान, मंगोलिया, बंग्लादेश आदि देशों से\n",
      "प्रवास पर आते हैं ।पिछले 50 साल से पलास फिश\n",
      "ईगल का जोड़ा प्रवास पर आ रहा है। इस बार जोड़े ने\n",
      "नमभूमि क्षेत्र के आरक्षित वन क्षेत्र में सेमल के पेड़\n",
      "पर आशियाना तैयार करना शुरू कर दिया है। आसन\n",
      "रेंजर जवाहर सिंह तोमर व वन बीट अधिकारी प्रदीप\n",
      "सक्सेना ने लंबे समय बाद आशियाना तैयार कर रहे\n",
      "पलाश फिश ईगल की गतिविधियों पर ध्यान देना\n",
      "शुरू कर दिया है। प्रभाग अधिकारी इसे सुखद मान\n",
      "रहे हैं। वहीं 20 प्रजातियों के प्रवासी परिंदों की संख्या\n",
      "बढ़कर पांच हजार के करीब पहुंच गई है।\n",
      "अधिकारियों ने बताया कि जल्द ही पक्षी विशेषज्ञ\n",
      "गणना के लिए नमभूमि आएंगे। जिसके बाद पक्षियों\n",
      "से संबंधित आंकड़े जारी किए जाएंगे।\n",
      "\n",
      "बीते कुछ समय से लगातार सूखी ठंड पड़ने से भी\n",
      "प्रवासी पक्षियों की आमद में कमी आ गई थी, जो\n",
      "पिछले वर्ष की अपेक्षा काफी कम थी। इसे लेकर\n",
      "पक्षी विशेषज्ञ चिंता जता रहे थे। लेकिन, धीरे-धीरे\n",
      "बढ़ रही पक्षियों की संख्या से विशेषज्ञों व वन कर्मियों\n",
      "नेराहतकी सांस ली है।चकराता वन प्रभाग के रेंजर\n",
      "आसन जवाहर सिंह तोमर व वन बीट अधिकारी\n",
      "प्रदीप सक्सेना के अनुसार डीएफओ दीपचंद आर्य\n",
      "\n",
      "बज\n",
      "\n",
      "आसन वेटलैंडमें सेमल के पेड परबैठा पलाश फिश\n",
      "ईगल ७ जागरण\n",
      "\n",
      "बोटिंग के साथ बर्ड वार्चिंग\n",
      "\n",
      "अकड ८ जे ० ००००\n",
      "\n",
      "जीएमवीएन के आसन पर्यटन स्थल पर नववर्ष\n",
      "\n",
      "के पहले दिन भारी संख्या में पर्यटक व पक्षी प्रेमी\n",
      "उमड़े । जिन्होंने पैडल बोट का आनंद लेने के साथ\n",
      "हीबर्ड वाचिंग भी की । आसन पर्यटन स्थल के\n",
      "प्रबंचक अजयपाल कंडारी के अनुसार बोट की\n",
      "विज चर संख्या बढ़ाने के प्रयास किए\n",
      "जारहे हैं।\n",
      "\n",
      "के निर्देश के चलते प्रवासी परिंदों की सुरक्षा को गश्त\n",
      "पर विशेष ध्यान दिया जा रहा है। प्रवासी परिंदों की\n",
      "संख्या में इजाफा हो रहा है, जो आने वाले समय के\n",
      "लिए सुखद संकेत है।\n",
      "\n"
     ]
    }
   ],
   "source": [
    "path = create_path(\"hindi-news-2.jpg\")\n",
    "\n",
    "image = Image.open(path)\n",
    "text = pt.image_to_string(image, lang='hin')\n",
    "\n",
    "print(text)\n",
    "show_image(path)"
   ]
  },
  {
   "cell_type": "markdown",
   "id": "f082ed63",
   "metadata": {},
   "source": [
    "<u>\n",
    "    <h4>Extract text from an image : Multiple images once</h4>\n",
    "</u>"
   ]
  },
  {
   "cell_type": "code",
   "execution_count": 14,
   "id": "0fd79b00",
   "metadata": {},
   "outputs": [
    {
     "name": "stdout",
     "output_type": "stream",
     "text": [
      "未練なく散も\n",
      "\n",
      "without regret\n",
      "\n",
      "\f日本語の表記においては, 漢字や仮名だけで\n",
      "なく, ローマ字やアラビア数字, さらに名読\n",
      "点や括弧類などの記述記号を用いる。 これら\n",
      "を組み合わせて表す日本語の文書では, 表記\n",
      "上における種々の問題がある。\n",
      "\n"
     ]
    }
   ],
   "source": [
    "img_name_txt_file = \"../test images/image-paths.txt\"\n",
    "text = pt.image_to_string(img_name_txt_file, lang='jpn')\n",
    "\n",
    "print(text)"
   ]
  },
  {
   "cell_type": "markdown",
   "id": "482cde39",
   "metadata": {},
   "source": [
    "<u>\n",
    "    <h4>Extract text from an image : Timeout extraction</h4>\n",
    "</u>"
   ]
  },
  {
   "cell_type": "code",
   "execution_count": 16,
   "id": "d1ea3e2e",
   "metadata": {},
   "outputs": [
    {
     "name": "stdout",
     "output_type": "stream",
     "text": [
      "[TIMEOUT ERROR]\n",
      "NO TEXT TO BE APPEARED\n"
     ]
    }
   ],
   "source": [
    "path = create_path(\"news-2.jpg\")\n",
    "\n",
    "image = Image.open(path)\n",
    "text = 'NO TEXT TO BE APPEARED'\n",
    "\n",
    "try:\n",
    "    text = pt.image_to_string(image, lang='eng', timeout=1)\n",
    "except RuntimeError as timeout_error:\n",
    "    print(\"[TIMEOUT ERROR]\")\n",
    "\n",
    "print(text)\n",
    "show_image(path)"
   ]
  },
  {
   "cell_type": "markdown",
   "id": "bd2d94ff",
   "metadata": {},
   "source": [
    "<u>\n",
    "    <h4>Get bounding box estimates</h4>\n",
    "</u>"
   ]
  },
  {
   "cell_type": "code",
   "execution_count": null,
   "id": "d00b69e9",
   "metadata": {
    "scrolled": true
   },
   "outputs": [],
   "source": [
    "path = create_path(\"jap-text-1.png\")\n",
    "\n",
    "image = Image.open(path)\n",
    "bound_rects = pt.image_to_boxes(image, lang='jpn')\n",
    "\n",
    "print(bound_rects)\n",
    "show_image(path)"
   ]
  },
  {
   "cell_type": "code",
   "execution_count": null,
   "id": "b62ca31f",
   "metadata": {},
   "outputs": [],
   "source": [
    "img = cv2.imread(path)\n",
    "h, _, _ = img.shape\n",
    "\n",
    "for b in bound_rects.splitlines():\n",
    "    b = b.strip().split(' ')\n",
    "    img = cv2.rectangle(img, (int(b[1]), h - int(b[2])), (int(b[3]), h - int(b[4])), (0, 255, 0), 2)\n",
    "\n",
    "cv2.imshow(\"CHARACTERIZED IMAGE\", img)\n",
    "cv2.waitKey(0)\n",
    "cv2.destroyAllWindows()"
   ]
  },
  {
   "cell_type": "markdown",
   "id": "594cfd83",
   "metadata": {},
   "source": [
    "<u>\n",
    "    <h4>Get verbose data including boxes, confidences, line and page numbers</h4>\n",
    "</u>"
   ]
  },
  {
   "cell_type": "code",
   "execution_count": null,
   "id": "76da99c3",
   "metadata": {},
   "outputs": [],
   "source": [
    "image_path = test_image_files[2]\n",
    "path = create_path(image_path)\n",
    "\n",
    "image = Image.open(path)\n",
    "text = pt.image_to_data(image)\n",
    "\n",
    "print(text)\n",
    "show_image(path)"
   ]
  },
  {
   "cell_type": "markdown",
   "id": "53d1f74a",
   "metadata": {},
   "source": [
    "<u>\n",
    "    <h4>Get information about orientation and script detection</h4>\n",
    "</u>"
   ]
  },
  {
   "cell_type": "code",
   "execution_count": null,
   "id": "7d9952ae",
   "metadata": {},
   "outputs": [],
   "source": [
    "image_path = \"hindi-text-1.jpg\" # news-2.jpg hindi-news-1.jpg hindi-news-2.jpg hindi-text-1.jpg\n",
    "path = create_path(image_path)\n",
    "\n",
    "print(pt.image_to_osd(path, lang='hin'))"
   ]
  },
  {
   "cell_type": "markdown",
   "id": "7077208b",
   "metadata": {},
   "source": [
    "<u>\n",
    "    <h4>Convert in to different file formats (PDF, XML, HOCR)</h4>\n",
    "</u>"
   ]
  },
  {
   "cell_type": "code",
   "execution_count": null,
   "id": "74b0116a",
   "metadata": {},
   "outputs": [],
   "source": [
    "image_path = \"news-2.jpg\"\n",
    "path = create_path(image_path)\n",
    "file_save_path = \"../files/\""
   ]
  },
  {
   "cell_type": "code",
   "execution_count": null,
   "id": "e8e8f68c",
   "metadata": {},
   "outputs": [],
   "source": [
    "pdf = pt.image_to_pdf_or_hocr(path, extension='pdf')\n",
    "\n",
    "file = open(os.path.join(file_save_path, \"pdf-content.pdf\"), 'w+b')\n",
    "file.write(pdf)\n",
    "file.close()"
   ]
  },
  {
   "cell_type": "code",
   "execution_count": null,
   "id": "90f7d502",
   "metadata": {},
   "outputs": [],
   "source": [
    "# hocr: open standard of data representation for formatted text obtained from (OCR)\n",
    "hocr = pt.image_to_pdf_or_hocr(path, extension='hocr')\n",
    "\n",
    "file = open(os.path.join(file_save_path, \"hocr-content.html\"), 'w+b')\n",
    "file.write(hocr)\n",
    "file.close()"
   ]
  },
  {
   "cell_type": "code",
   "execution_count": null,
   "id": "6e165752",
   "metadata": {},
   "outputs": [],
   "source": [
    "xml = pt.image_to_alto_xml(path)\n",
    "\n",
    "file = open(os.path.join(file_save_path, \"xml-content.xml\"), 'w+b')\n",
    "file.write(xml)\n",
    "file.close()"
   ]
  },
  {
   "cell_type": "markdown",
   "id": "2b2ebff7",
   "metadata": {},
   "source": [
    "<u>\n",
    "    <h4>Forcefully assigning different assumptions (Custom Configurations)</h4>\n",
    "</u>"
   ]
  },
  {
   "cell_type": "markdown",
   "id": "25fa3458",
   "metadata": {},
   "source": [
    "<b>OEM</b> : OCR Engine Mode (Type of the algorithm used by tesseract)<br>\n",
    "<b>PEM</b> : Page Segmentation Mode (Page semgentation mode used by tesseract)<br><br>\n",
    " \n",
    "<h4>Page Segmentation Modes</h4><hr>\n",
    "<div style=\"font-size:13px;\">\n",
    "\n",
    "    \n",
    "0 - Orientation and script detection(OSD) only.<br>\n",
    "1 - Automatic page segmentation with OSD.<br>\n",
    "2 - Automatic page segmentation, but no OSD, or OCR.<br>\n",
    "3 - Fully automatic page segmentation, but no OSD.(Default)<br>\n",
    "4 - Assume a single column of text of variable sizes.<br>\n",
    "5 - Assume a single uniform block of vertically aligned text.<br>\n",
    "6 - Assume a single uniform block of text.<br>\n",
    "7 - Treat the image as a single text line.<br>\n",
    "8 - Treat the image as a single word.<br>\n",
    "9 - Treat the image as a single word in a circle.<br>\n",
    "10 - Treat the image as a single character.<br>\n",
    "11 - Sparse text.Find as much text as possible in no particular order.<br>\n",
    "12 - Sparse text with OSD.<br>\n",
    "13 - Raw line.Treat the image as a single text line, bypassing hacks that are Tesseract - specific.<br>\n",
    "</div>"
   ]
  },
  {
   "cell_type": "code",
   "execution_count": null,
   "id": "8302d4fe",
   "metadata": {},
   "outputs": [],
   "source": [
    "image_path = \"abc-text.jpg\"\n",
    "path = create_path(image_path)\n",
    "custom_oem_psm_config = r'--oem 3 --psm 9'\n",
    "\n",
    "image = Image.open(path)\n",
    "pt.image_to_string(image, config=custom_oem_psm_config)"
   ]
  },
  {
   "cell_type": "markdown",
   "id": "ff1702e3",
   "metadata": {},
   "source": [
    "<h4>References</h4><hr>\n",
    "\n",
    "<ul>\n",
    "    <li><a href='https://github.com/tesseract-ocr/tesseract'>Tesseract</a></li>\n",
    "    <li><a href='https://github.com/madmaze/pytesseract'>Pytesseract</a></li>\n",
    "    <li><a href='https://www.py4u.net/discuss/10850'>Multiple config options</a></li>\n",
    "    <li><a href='https://stackoverflow.com/questions/20831612/getting-the-bounding-box-of-the-recognized-words-using-python-tesseract'>Getting bounding box cordinates</a></li>\n",
    "</ul>"
   ]
  },
  {
   "cell_type": "code",
   "execution_count": null,
   "id": "cd940333",
   "metadata": {},
   "outputs": [],
   "source": []
  }
 ],
 "metadata": {
  "kernelspec": {
   "display_name": "Python 3 (ipykernel)",
   "language": "python",
   "name": "python3"
  },
  "language_info": {
   "codemirror_mode": {
    "name": "ipython",
    "version": 3
   },
   "file_extension": ".py",
   "mimetype": "text/x-python",
   "name": "python",
   "nbconvert_exporter": "python",
   "pygments_lexer": "ipython3",
   "version": "3.12.2"
  }
 },
 "nbformat": 4,
 "nbformat_minor": 5
}
