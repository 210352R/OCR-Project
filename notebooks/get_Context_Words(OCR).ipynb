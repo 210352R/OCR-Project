{
  "nbformat": 4,
  "nbformat_minor": 0,
  "metadata": {
    "colab": {
      "provenance": []
    },
    "kernelspec": {
      "name": "python3",
      "display_name": "Python 3"
    },
    "language_info": {
      "name": "python"
    }
  },
  "cells": [
    {
      "cell_type": "code",
      "execution_count": null,
      "metadata": {
        "id": "lTsQCECTaVYi"
      },
      "outputs": [],
      "source": []
    },
    {
      "cell_type": "code",
      "source": [
        "from google.colab import drive\n",
        "drive.mount('/content/drive')"
      ],
      "metadata": {
        "colab": {
          "base_uri": "https://localhost:8080/"
        },
        "id": "1I7xQFssHi21",
        "outputId": "90418dc7-2e94-4485-d62f-93816d5afcff"
      },
      "execution_count": null,
      "outputs": [
        {
          "output_type": "stream",
          "name": "stdout",
          "text": [
            "Drive already mounted at /content/drive; to attempt to forcibly remount, call drive.mount(\"/content/drive\", force_remount=True).\n"
          ]
        }
      ]
    },
    {
      "cell_type": "code",
      "source": [],
      "metadata": {
        "id": "nCxjvKEJaXB7"
      },
      "execution_count": null,
      "outputs": []
    },
    {
      "cell_type": "code",
      "source": [
        "# # prompt: connect google drive\n",
        "\n",
        "# from google.colab import drive\n",
        "# drive.mount('/content/drive')\n"
      ],
      "metadata": {
        "id": "Hay1FQz-_vJa"
      },
      "execution_count": null,
      "outputs": []
    },
    {
      "cell_type": "code",
      "source": [
        "from gensim.models import FastText\n",
        "from sklearn.metrics.pairwise import cosine_similarity"
      ],
      "metadata": {
        "id": "53tLU_OAeR3U"
      },
      "execution_count": null,
      "outputs": []
    },
    {
      "cell_type": "code",
      "source": [
        "items = [\n",
        "    \"Battery Pack\",\n",
        "    \"Battery Management System (BMS)\",\n",
        "    \"Electric Motor\",\n",
        "    \"Inverter\",\n",
        "    \"Onboard Charger\",\n",
        "    \"DC-DC Converter\",\n",
        "    \"Charging Port\",\n",
        "    \"High Voltage Cables\",\n",
        "    \"Fuse Box\",\n",
        "    \"Coolant hoses\",\n",
        "    \"Water pump\",\n",
        "    \"Heating System\",\n",
        "    \"Heater core\",\n",
        "    \"Blower motor\",\n",
        "    \"HVAC controls\",\n",
        "    \"Air Conditioning Compressor\",\n",
        "    \"Cabin Air Filter\",\n",
        "    \"Brake System\",\n",
        "    \"Pads\",\n",
        "    \"Rotors\",\n",
        "    \"Calipers\",\n",
        "    \"Master cylinder\",\n",
        "    \"Brake fluid\",\n",
        "    \"Suspension\",\n",
        "    \"Shocks\",\n",
        "    \"Struts\",\n",
        "    \"Control arms\",\n",
        "    \"Sway bars\",\n",
        "    \"Steering\",\n",
        "    \"Rack and pinion\",\n",
        "    \"Tie rods\",\n",
        "    \"Power steering pump\",\n",
        "    \"Wheels/Rims\",\n",
        "    \"Tires\",\n",
        "    \"Wheel Bearings\",\n",
        "    \"Axles\",\n",
        "    \"CV Joints\",\n",
        "    \"Driveshaft\",\n",
        "    \"Transmission\",\n",
        "    \"Parking Brake\",\n",
        "    \"Electronic Control Unit (ECU)\",\n",
        "    \"Sensors\",\n",
        "    \"ABS sensors\",\n",
        "    \"Wheel speed sensors\",\n",
        "    \"Parking sensors\",\n",
        "    \"Wiring Harnesses\",\n",
        "    \"Lighting\",\n",
        "    \"Headlights\",\n",
        "    \"Taillights\",\n",
        "    \"Turn signals\",\n",
        "    \"Fog lights\",\n",
        "    \"Interior lights\",\n",
        "    \"Wiper Blades\",\n",
        "    \"Windshield Wiper Motor\",\n",
        "    \"Windshield Washer Fluid Reservoir and Pump\",\n",
        "    \"Body Panels and Trim Pieces\",\n",
        "    \"Door Handles\",\n",
        "    \"Mirrors\",\n",
        "    \"Side mirrors\",\n",
        "    \"Rearview mirror\",\n",
        "    \"Window Regulators\",\n",
        "    \"Power Window Switches\",\n",
        "    \"Seats\",\n",
        "    \"Seat Belts\",\n",
        "    \"Airbags\",\n",
        "    \"Dashboard\",\n",
        "    \"Center Console\",\n",
        "    \"Interior Trim Pieces\",\n",
        "    \"Door panels\",\n",
        "    \"Dashboard trim\",\n",
        "    \"Audio System\",\n",
        "    \"Head unit\",\n",
        "    \"Speakers\",\n",
        "    \"Amplifier\",\n",
        "    \"Navigation System\",\n",
        "    \"Rearview Camera\",\n",
        "    \"Electronic Parking Brake\",\n",
        "    \"Key Fob\",\n",
        "    \"Charging Cable and Accessories\",\n",
        "    \"12V Battery\",\n",
        "    \"Spare Tire or Tire Repair Kit\",\n",
        "    \"Front Buffer\",\n",
        "    \"L/H Front Buffer Retainer\",\n",
        "    \"L/H Head Lamp\",\n",
        "    \"L/H Head Lamp Gloss Strip\",\n",
        "    \"L/H Head Lamp Gloss Strip Mounting Brackets\",\n",
        "    \"Shell\",\n",
        "    \"Bonnet\",\n",
        "    \"Bonnet Hinges 02\",\n",
        "    \"L/H Head Lamp Lower Bracket\",\n",
        "    \"Bonnet Beading\",\n",
        "    \"R/H Head Lamp Lower Bracket\",\n",
        "    \"Nose Cut Panel (Plastic)\",\n",
        "\n",
        "    \"A/C Gas\",\n",
        "    \"Coolant\",\n",
        "    \"Body Sealant\",\n",
        "]\n",
        "\n",
        "print(items)\n"
      ],
      "metadata": {
        "colab": {
          "base_uri": "https://localhost:8080/"
        },
        "id": "O5_CqPGz0JB2",
        "outputId": "224556a9-b130-4126-8e15-e3c25b3bbe62"
      },
      "execution_count": null,
      "outputs": [
        {
          "output_type": "stream",
          "name": "stdout",
          "text": [
            "['Battery Pack', 'Battery Management System (BMS)', 'Electric Motor', 'Inverter', 'Onboard Charger', 'DC-DC Converter', 'Charging Port', 'High Voltage Cables', 'Fuse Box', 'Coolant hoses', 'Water pump', 'Heating System', 'Heater core', 'Blower motor', 'HVAC controls', 'Air Conditioning Compressor', 'Cabin Air Filter', 'Brake System', 'Pads', 'Rotors', 'Calipers', 'Master cylinder', 'Brake fluid', 'Suspension', 'Shocks', 'Struts', 'Control arms', 'Sway bars', 'Steering', 'Rack and pinion', 'Tie rods', 'Power steering pump', 'Wheels/Rims', 'Tires', 'Wheel Bearings', 'Axles', 'CV Joints', 'Driveshaft', 'Transmission', 'Parking Brake', 'Electronic Control Unit (ECU)', 'Sensors', 'ABS sensors', 'Wheel speed sensors', 'Parking sensors', 'Wiring Harnesses', 'Lighting', 'Headlights', 'Taillights', 'Turn signals', 'Fog lights', 'Interior lights', 'Wiper Blades', 'Windshield Wiper Motor', 'Windshield Washer Fluid Reservoir and Pump', 'Body Panels and Trim Pieces', 'Door Handles', 'Mirrors', 'Side mirrors', 'Rearview mirror', 'Window Regulators', 'Power Window Switches', 'Seats', 'Seat Belts', 'Airbags', 'Dashboard', 'Center Console', 'Interior Trim Pieces', 'Door panels', 'Dashboard trim', 'Audio System', 'Head unit', 'Speakers', 'Amplifier', 'Navigation System', 'Rearview Camera', 'Electronic Parking Brake', 'Key Fob', 'Charging Cable and Accessories', '12V Battery', 'Spare Tire or Tire Repair Kit', 'Front Buffer', 'L/H Front Buffer Retainer', 'L/H Head Lamp', 'L/H Head Lamp Gloss Strip', 'L/H Head Lamp Gloss Strip Mounting Brackets', 'Shell', 'Bonnet', 'Bonnet Hinges 02', 'L/H Head Lamp Lower Bracket', 'Bonnet Beading', 'R/H Head Lamp Lower Bracket', 'Nose Cut Panel (Plastic)', 'A/C Gas', 'Coolant', 'Body Sealant']\n"
          ]
        }
      ]
    },
    {
      "cell_type": "code",
      "source": [
        "# # # prompt: method for remove punctuations in items\n",
        "\n",
        "# # import re\n",
        "\n",
        "# def remove_punctuation(items):\n",
        "#   \"\"\"\n",
        "#   Removes punctuation from a list of strings.\n",
        "\n",
        "#   Args:\n",
        "#     items: A list of strings.\n",
        "\n",
        "#   Returns:\n",
        "#     A list of strings with punctuation removed.\n",
        "#   \"\"\"\n",
        "\n",
        "#   punctuation_chars = \"\"\"!\"#$%&'()*+,-./:;<=>?@[\\]^_`{|}~\"\"\"\n",
        "\n",
        "#   for i, item in enumerate(items):\n",
        "#     items[i] = re.sub(r'[' + punctuation_chars + ']', '', item)\n",
        "\n",
        "#   return items\n",
        "\n",
        "# items = remove_punctuation(items)\n",
        "# print(items)\n"
      ],
      "metadata": {
        "id": "ctX4d5ZbIumd"
      },
      "execution_count": null,
      "outputs": []
    },
    {
      "cell_type": "code",
      "source": [
        "import nltk\n",
        "from gensim.models import FastText\n",
        "from nltk.tokenize import word_tokenize\n",
        "from nltk.corpus import stopwords\n",
        "import string\n",
        "\n",
        "tokenized_data = []\n",
        "for sentence in items:\n",
        "    words = word_tokenize(sentence.lower())  # Tokenize and convert to lowercase\n",
        "    filtered_words = [word for word in words]\n",
        "    tokenized_data.append(filtered_words)\n",
        "\n",
        "# Load or train FastText embeddings with adjusted parameters\n",
        "model_2 = FastText(sentences=tokenized_data, min_count=1, vector_size=100)\n"
      ],
      "metadata": {
        "id": "9Kl9Lwhw0T70"
      },
      "execution_count": null,
      "outputs": []
    },
    {
      "cell_type": "markdown",
      "source": [
        "#### Get vector for given Word"
      ],
      "metadata": {
        "id": "_3A2wfLeOWAp"
      }
    },
    {
      "cell_type": "code",
      "source": [
        "def getWordVector(element):\n",
        "  words = word_tokenize(element.lower())\n",
        "\n",
        "  filtered_words = [word for word in words]\n",
        "\n",
        "  return  model_2.wv.get_mean_vector(filtered_words)\n",
        "\n"
      ],
      "metadata": {
        "id": "WlRbv0MU3yDm"
      },
      "execution_count": null,
      "outputs": []
    },
    {
      "cell_type": "code",
      "source": [
        "vec1 = getWordVector('bonnet hinges')\n",
        "vec2 = getWordVector('bonnet')"
      ],
      "metadata": {
        "id": "xQcNTBwzQfAn"
      },
      "execution_count": null,
      "outputs": []
    },
    {
      "cell_type": "code",
      "source": [],
      "metadata": {
        "id": "lc60HBUZRW4V"
      },
      "execution_count": null,
      "outputs": []
    },
    {
      "cell_type": "code",
      "source": [
        "def correct_car_word(noise):\n",
        "    similarities_words = {}\n",
        "    noisy_word_vector = getWordVector(noise)\n",
        "\n",
        "    for word in items:\n",
        "        word_vector = getWordVector(word)\n",
        "        similarity_word = cosine_similarity([noisy_word_vector], [word_vector])[0][0]\n",
        "        similarities_words[word] = similarity_word\n",
        "\n",
        "\n",
        "    most_similar_word = max(similarities_words, key=similarities_words.get)\n",
        "    print(similarities_words[most_similar_word] , most_similar_word)\n",
        "    if(similarities_words[most_similar_word] >0.5):\n",
        "      return most_similar_word\n",
        "    return None\n",
        "\n",
        "noisy_word = 'bonnet hinges '\n",
        "corrected_word = correct_car_word(noisy_word)\n",
        "print(\"Noisy Word:\", noisy_word)\n",
        "print(\"Corrected Word:\", corrected_word)"
      ],
      "metadata": {
        "colab": {
          "base_uri": "https://localhost:8080/"
        },
        "id": "oRjRx2un1pON",
        "outputId": "383051d3-d813-4019-f8d7-b819bd4681c4"
      },
      "execution_count": null,
      "outputs": [
        {
          "output_type": "stream",
          "name": "stdout",
          "text": [
            "0.80471283 Bonnet Hinges 02\n",
            "Noisy Word: bonnet hinges \n",
            "Corrected Word: Bonnet Hinges 02\n"
          ]
        }
      ]
    },
    {
      "cell_type": "code",
      "source": [
        "\n",
        "response = ['vtec motors',\n",
        " 'final bill for the accident vehicle no cp cbh ',\n",
        " 'honda civic fk',\n",
        " 'remove refitting',\n",
        " 'repair',\n",
        " 'rs ',\n",
        " 'painting booth painting',\n",
        " 'parts',\n",
        " ' front buffer ',\n",
        " ' lh front buffer retainer ',\n",
        " ' lh head lamp ',\n",
        " ' lh head lamp gloss strip ',\n",
        " ' lh head lamp gloss strip mounting brackets ',\n",
        " ' shell ',\n",
        " ' bonnet ',\n",
        " ' bonnet hinges  ',\n",
        " ' lh head lamp lower bracket ',\n",
        " 'bonnet beading ',\n",
        " 'rh head lamp lower bracket ',\n",
        " 'nose cut panel plastic ',\n",
        " ' scan programming ',\n",
        " 'ac gas ',\n",
        " 'coolant ',\n",
        " 'body sealant ',\n",
        " 'double tape ',\n",
        " 'buffer clips ',\n",
        " 'final bill amount ',\n",
        " 'nothalahena road malabe',\n",
        " 'email ',\n",
        " 'tel']"
      ],
      "metadata": {
        "id": "jbdfKkZ-BCiE"
      },
      "execution_count": null,
      "outputs": []
    },
    {
      "cell_type": "code",
      "source": [
        "# prompt: iterate response through def correct_car_word(noise)\n",
        "\n",
        "corrected_responses = []\n",
        "for word in response:\n",
        "\n",
        "  corrected_word = correct_car_word(word)\n",
        "  if corrected_word:\n",
        "    corrected_responses.append(corrected_word)\n",
        "\n",
        "\n",
        "print(\"Corrected Responses:\")\n",
        "print(corrected_responses)\n"
      ],
      "metadata": {
        "colab": {
          "base_uri": "https://localhost:8080/"
        },
        "id": "oEf5NqT7Lsz2",
        "outputId": "e6ad641a-265d-4041-ff5b-bcbbf0099b0e"
      },
      "execution_count": null,
      "outputs": [
        {
          "output_type": "stream",
          "name": "stdout",
          "text": [
            "0.34265846 Windshield Wiper Motor\n",
            "0.20801729 Headlights\n",
            "0.3682567 Heating System\n",
            "0.34731594 Steering\n",
            "0.35406667 Spare Tire or Tire Repair Kit\n",
            "0.29560694 ABS sensors\n",
            "0.31997555 Rotors\n",
            "0.2670804 Electric Motor\n",
            "1.0000002 Front Buffer\n",
            "0.8305947 L/H Front Buffer Retainer\n",
            "0.7803198 L/H Head Lamp\n",
            "0.8764824 L/H Head Lamp Gloss Strip\n",
            "0.9137659 L/H Head Lamp Gloss Strip Mounting Brackets\n",
            "1.0000001 Shell\n",
            "1.0000001 Bonnet\n",
            "0.80471283 Bonnet Hinges 02\n",
            "0.8711399 L/H Head Lamp Lower Bracket\n",
            "1.0 Bonnet Beading\n",
            "0.8408876 R/H Head Lamp Lower Bracket\n",
            "0.8284143 Nose Cut Panel (Plastic)\n",
            "0.26150933 Cabin Air Filter\n",
            "0.491862 A/C Gas\n",
            "1.0 Coolant\n",
            "1.0 Body Sealant\n",
            "0.13297787 Rearview Camera\n",
            "0.65792406 Front Buffer\n",
            "0.20807707 Rack and pinion\n",
            "0.26647013 Electronic Parking Brake\n",
            "0.21445632 Amplifier\n",
            "0.2729043 Seat Belts\n",
            "Corrected Responses:\n",
            "['Front Buffer', 'L/H Front Buffer Retainer', 'L/H Head Lamp', 'L/H Head Lamp Gloss Strip', 'L/H Head Lamp Gloss Strip Mounting Brackets', 'Shell', 'Bonnet', 'Bonnet Hinges 02', 'L/H Head Lamp Lower Bracket', 'Bonnet Beading', 'R/H Head Lamp Lower Bracket', 'Nose Cut Panel (Plastic)', 'Coolant', 'Body Sealant', 'Front Buffer']\n"
          ]
        }
      ]
    },
    {
      "cell_type": "code",
      "source": [
        "len(corrected_responses)"
      ],
      "metadata": {
        "colab": {
          "base_uri": "https://localhost:8080/"
        },
        "id": "oO9iPXXfTCrN",
        "outputId": "192193d4-8547-4e7b-ac44-52ae085a3e7a"
      },
      "execution_count": null,
      "outputs": [
        {
          "output_type": "execute_result",
          "data": {
            "text/plain": [
              "15"
            ]
          },
          "metadata": {},
          "execution_count": 129
        }
      ]
    },
    {
      "cell_type": "code",
      "source": [
        "import pickle\n",
        "\n",
        "# Serialize the function\n",
        "correct_noisy_word_serialized = pickle.dumps(correct_noisy_word)\n",
        "\n",
        "# Save the serialized function to a pickle file\n",
        "with open('/content/drive/MyDrive/NLP/correct_noisy_word.pkl', 'wb') as file:\n",
        "    file.write(correct_noisy_word_serialized)\n"
      ],
      "metadata": {
        "id": "rAQhYllclN7P",
        "colab": {
          "base_uri": "https://localhost:8080/",
          "height": 211
        },
        "outputId": "6c277466-8f38-4b7a-8b1c-5605e16f24dc"
      },
      "execution_count": null,
      "outputs": [
        {
          "output_type": "error",
          "ename": "NameError",
          "evalue": "name 'correct_noisy_word' is not defined",
          "traceback": [
            "\u001b[0;31m---------------------------------------------------------------------------\u001b[0m",
            "\u001b[0;31mNameError\u001b[0m                                 Traceback (most recent call last)",
            "\u001b[0;32m<ipython-input-130-d9b79e43fca1>\u001b[0m in \u001b[0;36m<cell line: 4>\u001b[0;34m()\u001b[0m\n\u001b[1;32m      2\u001b[0m \u001b[0;34m\u001b[0m\u001b[0m\n\u001b[1;32m      3\u001b[0m \u001b[0;31m# Serialize the function\u001b[0m\u001b[0;34m\u001b[0m\u001b[0;34m\u001b[0m\u001b[0m\n\u001b[0;32m----> 4\u001b[0;31m \u001b[0mcorrect_noisy_word_serialized\u001b[0m \u001b[0;34m=\u001b[0m \u001b[0mpickle\u001b[0m\u001b[0;34m.\u001b[0m\u001b[0mdumps\u001b[0m\u001b[0;34m(\u001b[0m\u001b[0mcorrect_noisy_word\u001b[0m\u001b[0;34m)\u001b[0m\u001b[0;34m\u001b[0m\u001b[0;34m\u001b[0m\u001b[0m\n\u001b[0m\u001b[1;32m      5\u001b[0m \u001b[0;34m\u001b[0m\u001b[0m\n\u001b[1;32m      6\u001b[0m \u001b[0;31m# Save the serialized function to a pickle file\u001b[0m\u001b[0;34m\u001b[0m\u001b[0;34m\u001b[0m\u001b[0m\n",
            "\u001b[0;31mNameError\u001b[0m: name 'correct_noisy_word' is not defined"
          ]
        }
      ]
    },
    {
      "cell_type": "code",
      "source": [
        "import pickle\n",
        "from gensim.models import FastText\n",
        "\n",
        "# Assuming 'model' is your trained FastText model\n",
        "# Serialize the model\n",
        "model_serialized = pickle.dumps(model)\n",
        "\n",
        "# Save the serialized model to a pickle file\n",
        "with open('/content/drive/MyDrive/NLP/fasttext_model.pkl', 'wb') as file:\n",
        "    file.write(model_serialized)"
      ],
      "metadata": {
        "id": "i14tc5VBtHgD"
      },
      "execution_count": null,
      "outputs": []
    },
    {
      "cell_type": "code",
      "source": [],
      "metadata": {
        "id": "3biRiVADtIQS"
      },
      "execution_count": null,
      "outputs": []
    }
  ]
}